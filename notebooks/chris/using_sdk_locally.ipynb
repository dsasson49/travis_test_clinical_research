{
 "metadata": {
  "language_info": {
   "codemirror_mode": {
    "name": "ipython",
    "version": 3
   },
   "file_extension": ".py",
   "mimetype": "text/x-python",
   "name": "python",
   "nbconvert_exporter": "python",
   "pygments_lexer": "ipython3",
   "version": "3.8.8"
  },
  "orig_nbformat": 2,
  "kernelspec": {
   "name": "python388jvsc74a57bd08a6c68ce4ce0c5f93d1c1b7d4853d0ec917c6c30aa2786df36c968fb4ecc0e4a",
   "display_name": "Python 3.8.8 64-bit ('sdk': conda)"
  }
 },
 "nbformat": 4,
 "nbformat_minor": 2,
 "cells": [
  {
   "cell_type": "code",
   "execution_count": 13,
   "metadata": {},
   "outputs": [
    {
     "output_type": "execute_result",
     "data": {
      "text/plain": [
       "'/Users/christopherpoptic/clinical_research_workflow/notebooks/chris'"
      ]
     },
     "metadata": {},
     "execution_count": 13
    },
    {
     "output_type": "display_data",
     "data": {
      "text/plain": "<IPython.core.display.Javascript object>",
      "application/javascript": "\n            setTimeout(function() {\n                var nbb_cell_id = 13;\n                var nbb_unformatted_code = \"%pwd\";\n                var nbb_formatted_code = \"%pwd\";\n                var nbb_cells = Jupyter.notebook.get_cells();\n                for (var i = 0; i < nbb_cells.length; ++i) {\n                    if (nbb_cells[i].input_prompt_number == nbb_cell_id) {\n                        if (nbb_cells[i].get_text() == nbb_unformatted_code) {\n                             nbb_cells[i].set_text(nbb_formatted_code);\n                        }\n                        break;\n                    }\n                }\n            }, 500);\n            "
     },
     "metadata": {}
    }
   ],
   "source": [
    "%pwd"
   ]
  },
  {
   "cell_type": "code",
   "execution_count": 14,
   "metadata": {},
   "outputs": [
    {
     "output_type": "stream",
     "name": "stdout",
     "text": [
      "The nb_black extension is already loaded. To reload it, use:\n  %reload_ext nb_black\n"
     ]
    },
    {
     "output_type": "display_data",
     "data": {
      "text/plain": "<IPython.core.display.Javascript object>",
      "application/javascript": "\n            setTimeout(function() {\n                var nbb_cell_id = 14;\n                var nbb_unformatted_code = \"%load_ext nb_black\";\n                var nbb_formatted_code = \"%load_ext nb_black\";\n                var nbb_cells = Jupyter.notebook.get_cells();\n                for (var i = 0; i < nbb_cells.length; ++i) {\n                    if (nbb_cells[i].input_prompt_number == nbb_cell_id) {\n                        if (nbb_cells[i].get_text() == nbb_unformatted_code) {\n                             nbb_cells[i].set_text(nbb_formatted_code);\n                        }\n                        break;\n                    }\n                }\n            }, 500);\n            "
     },
     "metadata": {}
    }
   ],
   "source": [
    "%load_ext nb_black"
   ]
  },
  {
   "cell_type": "code",
   "execution_count": 15,
   "metadata": {},
   "outputs": [
    {
     "output_type": "display_data",
     "data": {
      "text/plain": "<IPython.core.display.Javascript object>",
      "application/javascript": "\n            setTimeout(function() {\n                var nbb_cell_id = 15;\n                var nbb_unformatted_code = \"# from https://preview.nferx.com/sdk_docs/build.html\\nimport os\\nimport sys\\nfrom pprint import pprint\\nfrom pathlib import Path\\nimport logging\\nimport logging.config\";\n                var nbb_formatted_code = \"# from https://preview.nferx.com/sdk_docs/build.html\\nimport os\\nimport sys\\nfrom pprint import pprint\\nfrom pathlib import Path\\nimport logging\\nimport logging.config\";\n                var nbb_cells = Jupyter.notebook.get_cells();\n                for (var i = 0; i < nbb_cells.length; ++i) {\n                    if (nbb_cells[i].input_prompt_number == nbb_cell_id) {\n                        if (nbb_cells[i].get_text() == nbb_unformatted_code) {\n                             nbb_cells[i].set_text(nbb_formatted_code);\n                        }\n                        break;\n                    }\n                }\n            }, 500);\n            "
     },
     "metadata": {}
    }
   ],
   "source": [
    "# from https://preview.nferx.com/sdk_docs/build.html\n",
    "import os\n",
    "import sys\n",
    "from pprint import pprint\n",
    "from pathlib import Path\n",
    "import logging\n",
    "import logging.config"
   ]
  },
  {
   "cell_type": "code",
   "execution_count": 62,
   "metadata": {},
   "outputs": [
    {
     "output_type": "display_data",
     "data": {
      "text/plain": "<IPython.core.display.Javascript object>",
      "application/javascript": "\n            setTimeout(function() {\n                var nbb_cell_id = 62;\n                var nbb_unformatted_code = \"# Plotting libraries\\nimport matplotlib.pyplot as plt\\nimport seaborn as sns\";\n                var nbb_formatted_code = \"# Plotting libraries\\nimport matplotlib.pyplot as plt\\nimport seaborn as sns\";\n                var nbb_cells = Jupyter.notebook.get_cells();\n                for (var i = 0; i < nbb_cells.length; ++i) {\n                    if (nbb_cells[i].input_prompt_number == nbb_cell_id) {\n                        if (nbb_cells[i].get_text() == nbb_unformatted_code) {\n                             nbb_cells[i].set_text(nbb_formatted_code);\n                        }\n                        break;\n                    }\n                }\n            }, 500);\n            "
     },
     "metadata": {}
    }
   ],
   "source": [
    "# Plotting libraries\n",
    "import matplotlib.pyplot as plt\n",
    "import seaborn as sns"
   ]
  },
  {
   "cell_type": "code",
   "execution_count": 16,
   "metadata": {},
   "outputs": [
    {
     "output_type": "stream",
     "name": "stdout",
     "text": [
      "conf_paths are:  [PosixPath('/Users/christopherpoptic/clinical_research_workflow/conf/local'), PosixPath('/Users/christopherpoptic/clinical_research_workflow/conf/base')]\nLoading config params from parameters.yml...\n"
     ]
    },
    {
     "output_type": "display_data",
     "data": {
      "text/plain": "<IPython.core.display.Javascript object>",
      "application/javascript": "\n            setTimeout(function() {\n                var nbb_cell_id = 16;\n                var nbb_unformatted_code = \"# import credentials\\n# https://kedro.readthedocs.io/en/stable/04_kedro_project_setup/02_configuration.html\\nfrom kedro.config import ConfigLoader\\n\\n# conf_paths = [\\\"../conf/base\\\", \\\"../conf/local\\\"]\\nBASE_DIR = Path(\\\"/Users/christopherpoptic/clinical_research_workflow\\\")\\nLOGS_DIR = Path(BASE_DIR, 'logs')\\nLOG_FILE = Path(LOGS_DIR, 'my_logs.log')\\n\\nconf_paths = [Path(BASE_DIR, 'conf/local'), Path(BASE_DIR, 'conf/base')]\\nprint(f'conf_paths are:  {conf_paths}')\\n\\nprint(f'Loading config params from parameters.yml...')\\nconf_loader = ConfigLoader(conf_paths)\\ncredentials = conf_loader.get(\\\"credentials*\\\", \\\"credentials*/**\\\")\\nparams = conf_loader.get('parameters*', 'parameters*/**', '**parameters*') # Get the configuration params & hyperparams \\n# parameter_value = params['parameter_name']\\ndrugs = params['DRUG_LIST']\\nnum_months = params['NUM_MONTHS']\\ndisease_name = params['DISEASE_NAME']\\nDEFAULT_LEVEL = params['DEFAULT_LEVEL']\\n\\n# Environment setup\\nos.environ['X_NFER_BASEURL'] = 'https://preview.nferx.com'\\nos.environ['NFERENCE_USER']  = credentials['nfer_access_key'] # \\\"yash@nference.net\\\"\\nos.environ['NFERENCE_TOKEN'] = credentials['nfer_secret_key'] # \\\"<api_token>\\\"\";\n                var nbb_formatted_code = \"# import credentials\\n# https://kedro.readthedocs.io/en/stable/04_kedro_project_setup/02_configuration.html\\nfrom kedro.config import ConfigLoader\\n\\n# conf_paths = [\\\"../conf/base\\\", \\\"../conf/local\\\"]\\nBASE_DIR = Path(\\\"/Users/christopherpoptic/clinical_research_workflow\\\")\\nLOGS_DIR = Path(BASE_DIR, \\\"logs\\\")\\nLOG_FILE = Path(LOGS_DIR, \\\"my_logs.log\\\")\\n\\nconf_paths = [Path(BASE_DIR, \\\"conf/local\\\"), Path(BASE_DIR, \\\"conf/base\\\")]\\nprint(f\\\"conf_paths are:  {conf_paths}\\\")\\n\\nprint(f\\\"Loading config params from parameters.yml...\\\")\\nconf_loader = ConfigLoader(conf_paths)\\ncredentials = conf_loader.get(\\\"credentials*\\\", \\\"credentials*/**\\\")\\nparams = conf_loader.get(\\n    \\\"parameters*\\\", \\\"parameters*/**\\\", \\\"**parameters*\\\"\\n)  # Get the configuration params & hyperparams\\n# parameter_value = params['parameter_name']\\ndrugs = params[\\\"DRUG_LIST\\\"]\\nnum_months = params[\\\"NUM_MONTHS\\\"]\\ndisease_name = params[\\\"DISEASE_NAME\\\"]\\nDEFAULT_LEVEL = params[\\\"DEFAULT_LEVEL\\\"]\\n\\n# Environment setup\\nos.environ[\\\"X_NFER_BASEURL\\\"] = \\\"https://preview.nferx.com\\\"\\nos.environ[\\\"NFERENCE_USER\\\"] = credentials[\\\"nfer_access_key\\\"]  # \\\"yash@nference.net\\\"\\nos.environ[\\\"NFERENCE_TOKEN\\\"] = credentials[\\\"nfer_secret_key\\\"]  # \\\"<api_token>\\\"\";\n                var nbb_cells = Jupyter.notebook.get_cells();\n                for (var i = 0; i < nbb_cells.length; ++i) {\n                    if (nbb_cells[i].input_prompt_number == nbb_cell_id) {\n                        if (nbb_cells[i].get_text() == nbb_unformatted_code) {\n                             nbb_cells[i].set_text(nbb_formatted_code);\n                        }\n                        break;\n                    }\n                }\n            }, 500);\n            "
     },
     "metadata": {}
    }
   ],
   "source": [
    "# import credentials\n",
    "# https://kedro.readthedocs.io/en/stable/04_kedro_project_setup/02_configuration.html\n",
    "from kedro.config import ConfigLoader\n",
    "\n",
    "# conf_paths = [\"../conf/base\", \"../conf/local\"]\n",
    "BASE_DIR = Path(\"/Users/christopherpoptic/clinical_research_workflow\")\n",
    "LOGS_DIR = Path(BASE_DIR, \"logs\")\n",
    "LOG_FILE = Path(LOGS_DIR, \"my_logs.log\")\n",
    "\n",
    "conf_paths = [Path(BASE_DIR, \"conf/local\"), Path(BASE_DIR, \"conf/base\")]\n",
    "print(f\"conf_paths are:  {conf_paths}\")\n",
    "\n",
    "print(f\"Loading config params from parameters.yml...\")\n",
    "conf_loader = ConfigLoader(conf_paths)\n",
    "credentials = conf_loader.get(\"credentials*\", \"credentials*/**\")\n",
    "params = conf_loader.get(\n",
    "    \"parameters*\", \"parameters*/**\", \"**parameters*\"\n",
    ")  # Get the configuration params & hyperparams\n",
    "# parameter_value = params['parameter_name']\n",
    "drugs = params[\"DRUG_LIST\"]\n",
    "num_months = params[\"NUM_MONTHS\"]\n",
    "disease_name = params[\"DISEASE_NAME\"]\n",
    "DEFAULT_LEVEL = params[\"DEFAULT_LEVEL\"]\n",
    "\n",
    "# Environment setup\n",
    "os.environ[\"X_NFER_BASEURL\"] = \"https://preview.nferx.com\"\n",
    "os.environ[\"NFERENCE_USER\"] = credentials[\"nfer_access_key\"]  # \"yash@nference.net\"\n",
    "os.environ[\"NFERENCE_TOKEN\"] = credentials[\"nfer_secret_key\"]  # \"<api_token>\""
   ]
  },
  {
   "cell_type": "code",
   "execution_count": 17,
   "metadata": {},
   "outputs": [
    {
     "output_type": "display_data",
     "data": {
      "text/plain": "<IPython.core.display.Javascript object>",
      "application/javascript": "\n            setTimeout(function() {\n                var nbb_cell_id = 17;\n                var nbb_unformatted_code = \"# the nference email address and Github Personal Access Token are respectively stored as:\\n# credentials[nfer_access_key]\\n# credentials[nfer_secret_key]\";\n                var nbb_formatted_code = \"# the nference email address and Github Personal Access Token are respectively stored as:\\n# credentials[nfer_access_key]\\n# credentials[nfer_secret_key]\";\n                var nbb_cells = Jupyter.notebook.get_cells();\n                for (var i = 0; i < nbb_cells.length; ++i) {\n                    if (nbb_cells[i].input_prompt_number == nbb_cell_id) {\n                        if (nbb_cells[i].get_text() == nbb_unformatted_code) {\n                             nbb_cells[i].set_text(nbb_formatted_code);\n                        }\n                        break;\n                    }\n                }\n            }, 500);\n            "
     },
     "metadata": {}
    }
   ],
   "source": [
    "# the nference email address and Github Personal Access Token are respectively stored as:\n",
    "# credentials[nfer_access_key]\n",
    "# credentials[nfer_secret_key]"
   ]
  },
  {
   "cell_type": "code",
   "execution_count": 18,
   "metadata": {},
   "outputs": [
    {
     "output_type": "display_data",
     "data": {
      "text/plain": "<IPython.core.display.Javascript object>",
      "application/javascript": "\n            setTimeout(function() {\n                var nbb_cell_id = 18;\n                var nbb_unformatted_code = \"# \\n# rec = RecordsAPIWrapper(creds={ \\\"NFERENCE_USER\\\": \\\"<user>\\\",  \\\"NFERENCE_TOKEN\\\": \\\"<token>\\\" })\\n\\n# rec = RecordsAPIWrapper(creds={ \\\"NFERENCE_USER\\\": os.environ['NFERENCE_USER'],  \\\"NFERENCE_TOKEN\\\": os.environ['NFERENCE_TOKEN']  })\\n\\n# rec = RecordsAPIWrapper(creds={ \\\"NFERENCE_USER\\\": credentials['nfer_access_key'], \\\"NFERENCE_TOKEN\\\": credentials['nfer_secret_key'] )\";\n                var nbb_formatted_code = \"#\\n# rec = RecordsAPIWrapper(creds={ \\\"NFERENCE_USER\\\": \\\"<user>\\\",  \\\"NFERENCE_TOKEN\\\": \\\"<token>\\\" })\\n\\n# rec = RecordsAPIWrapper(creds={ \\\"NFERENCE_USER\\\": os.environ['NFERENCE_USER'],  \\\"NFERENCE_TOKEN\\\": os.environ['NFERENCE_TOKEN']  })\\n\\n# rec = RecordsAPIWrapper(creds={ \\\"NFERENCE_USER\\\": credentials['nfer_access_key'], \\\"NFERENCE_TOKEN\\\": credentials['nfer_secret_key'] )\";\n                var nbb_cells = Jupyter.notebook.get_cells();\n                for (var i = 0; i < nbb_cells.length; ++i) {\n                    if (nbb_cells[i].input_prompt_number == nbb_cell_id) {\n                        if (nbb_cells[i].get_text() == nbb_unformatted_code) {\n                             nbb_cells[i].set_text(nbb_formatted_code);\n                        }\n                        break;\n                    }\n                }\n            }, 500);\n            "
     },
     "metadata": {}
    }
   ],
   "source": [
    "#\n",
    "# rec = RecordsAPIWrapper(creds={ \"NFERENCE_USER\": \"<user>\",  \"NFERENCE_TOKEN\": \"<token>\" })\n",
    "\n",
    "# rec = RecordsAPIWrapper(creds={ \"NFERENCE_USER\": os.environ['NFERENCE_USER'],  \"NFERENCE_TOKEN\": os.environ['NFERENCE_TOKEN']  })\n",
    "\n",
    "# rec = RecordsAPIWrapper(creds={ \"NFERENCE_USER\": credentials['nfer_access_key'], \"NFERENCE_TOKEN\": credentials['nfer_secret_key'] )"
   ]
  },
  {
   "cell_type": "code",
   "execution_count": 32,
   "metadata": {},
   "outputs": [],
   "source": []
  },
  {
   "cell_type": "code",
   "execution_count": 19,
   "metadata": {},
   "outputs": [
    {
     "output_type": "display_data",
     "data": {
      "text/plain": "<IPython.core.display.Javascript object>",
      "application/javascript": "\n            setTimeout(function() {\n                var nbb_cell_id = 19;\n                var nbb_unformatted_code = \"# import requests, base64\\n# base_url = os.environ.get('X_NFER_BASEURL',None)\\n# url = base_url + '/api/get_data_versions?'\\n\\n# access_key = os.environ['NFERENCE_USER']\\n# secret_key = os.environ['NFERENCE_TOKEN']\\n\\n# key = '%s:%s' % (access_key, secret_key)\\n# sig = base64.standard_b64encode(key.encode('utf-8')).decode('utf-8')\\n\\n# headers = {'Authorization': 'Basic %s' % sig}\\n\\n# r = requests.get(url=url, headers=headers, verify=True, timeout=60)\\n# if r.status_code == 200:\\n#     data = r.json()\\n# print(r.text)\\n# print(r.url)\\n# print(r.headers)\\n# pprint(r.headers.items())\";\n                var nbb_formatted_code = \"# import requests, base64\\n# base_url = os.environ.get('X_NFER_BASEURL',None)\\n# url = base_url + '/api/get_data_versions?'\\n\\n# access_key = os.environ['NFERENCE_USER']\\n# secret_key = os.environ['NFERENCE_TOKEN']\\n\\n# key = '%s:%s' % (access_key, secret_key)\\n# sig = base64.standard_b64encode(key.encode('utf-8')).decode('utf-8')\\n\\n# headers = {'Authorization': 'Basic %s' % sig}\\n\\n# r = requests.get(url=url, headers=headers, verify=True, timeout=60)\\n# if r.status_code == 200:\\n#     data = r.json()\\n# print(r.text)\\n# print(r.url)\\n# print(r.headers)\\n# pprint(r.headers.items())\";\n                var nbb_cells = Jupyter.notebook.get_cells();\n                for (var i = 0; i < nbb_cells.length; ++i) {\n                    if (nbb_cells[i].input_prompt_number == nbb_cell_id) {\n                        if (nbb_cells[i].get_text() == nbb_unformatted_code) {\n                             nbb_cells[i].set_text(nbb_formatted_code);\n                        }\n                        break;\n                    }\n                }\n            }, 500);\n            "
     },
     "metadata": {}
    }
   ],
   "source": [
    "# import requests, base64\n",
    "# base_url = os.environ.get('X_NFER_BASEURL',None)\n",
    "# url = base_url + '/api/get_data_versions?'\n",
    "\n",
    "# access_key = os.environ['NFERENCE_USER']\n",
    "# secret_key = os.environ['NFERENCE_TOKEN']\n",
    "\n",
    "# key = '%s:%s' % (access_key, secret_key)\n",
    "# sig = base64.standard_b64encode(key.encode('utf-8')).decode('utf-8')\n",
    "\n",
    "# headers = {'Authorization': 'Basic %s' % sig}\n",
    "\n",
    "# r = requests.get(url=url, headers=headers, verify=True, timeout=60)\n",
    "# if r.status_code == 200:\n",
    "#     data = r.json()\n",
    "# print(r.text)\n",
    "# print(r.url)\n",
    "# print(r.headers)\n",
    "# pprint(r.headers.items())"
   ]
  },
  {
   "cell_type": "code",
   "execution_count": 20,
   "metadata": {},
   "outputs": [
    {
     "output_type": "display_data",
     "data": {
      "text/plain": "<IPython.core.display.Javascript object>",
      "application/javascript": "\n            setTimeout(function() {\n                var nbb_cell_id = 20;\n                var nbb_unformatted_code = \"# Add SDK path to sys.path for importing SDK modules\\n# sdkPath = '/Users/christopherpoptic/repos/lumenbiomics/sdk'\\n# sys.path.append(sdkPath)\";\n                var nbb_formatted_code = \"# Add SDK path to sys.path for importing SDK modules\\n# sdkPath = '/Users/christopherpoptic/repos/lumenbiomics/sdk'\\n# sys.path.append(sdkPath)\";\n                var nbb_cells = Jupyter.notebook.get_cells();\n                for (var i = 0; i < nbb_cells.length; ++i) {\n                    if (nbb_cells[i].input_prompt_number == nbb_cell_id) {\n                        if (nbb_cells[i].get_text() == nbb_unformatted_code) {\n                             nbb_cells[i].set_text(nbb_formatted_code);\n                        }\n                        break;\n                    }\n                }\n            }, 500);\n            "
     },
     "metadata": {}
    }
   ],
   "source": [
    "# Add SDK path to sys.path for importing SDK modules\n",
    "# sdkPath = '/Users/christopherpoptic/repos/lumenbiomics/sdk'\n",
    "# sys.path.append(sdkPath)"
   ]
  },
  {
   "source": [
    "# Data Overview\n",
    "### https://preview.nferx.com/sdk_docs/overview_notebooks/01_Data%20Overview.html"
   ],
   "cell_type": "markdown",
   "metadata": {}
  },
  {
   "cell_type": "code",
   "execution_count": 21,
   "metadata": {},
   "outputs": [
    {
     "output_type": "display_data",
     "data": {
      "text/plain": "<IPython.core.display.Javascript object>",
      "application/javascript": "\n            setTimeout(function() {\n                var nbb_cell_id = 21;\n                var nbb_unformatted_code = \"from nferx_sdk.data_sources import RecordsAPIWrapper\\n# from nferx_sdk.utils.query import *\\nfrom nferx_sdk.utils.query import inQuery, andQuery\";\n                var nbb_formatted_code = \"from nferx_sdk.data_sources import RecordsAPIWrapper\\n\\n# from nferx_sdk.utils.query import *\\nfrom nferx_sdk.utils.query import inQuery, andQuery\";\n                var nbb_cells = Jupyter.notebook.get_cells();\n                for (var i = 0; i < nbb_cells.length; ++i) {\n                    if (nbb_cells[i].input_prompt_number == nbb_cell_id) {\n                        if (nbb_cells[i].get_text() == nbb_unformatted_code) {\n                             nbb_cells[i].set_text(nbb_formatted_code);\n                        }\n                        break;\n                    }\n                }\n            }, 500);\n            "
     },
     "metadata": {}
    }
   ],
   "source": [
    "from nferx_sdk.data_sources import RecordsAPIWrapper\n",
    "\n",
    "# from nferx_sdk.utils.query import *\n",
    "from nferx_sdk.utils.query import inQuery, andQuery"
   ]
  },
  {
   "cell_type": "code",
   "execution_count": 22,
   "metadata": {},
   "outputs": [
    {
     "output_type": "display_data",
     "data": {
      "text/plain": "<IPython.core.display.Javascript object>",
      "application/javascript": "\n            setTimeout(function() {\n                var nbb_cell_id = 22;\n                var nbb_unformatted_code = \"from nferx_sdk.data_sources import ClinicalTrialsAPIWrapper\";\n                var nbb_formatted_code = \"from nferx_sdk.data_sources import ClinicalTrialsAPIWrapper\";\n                var nbb_cells = Jupyter.notebook.get_cells();\n                for (var i = 0; i < nbb_cells.length; ++i) {\n                    if (nbb_cells[i].input_prompt_number == nbb_cell_id) {\n                        if (nbb_cells[i].get_text() == nbb_unformatted_code) {\n                             nbb_cells[i].set_text(nbb_formatted_code);\n                        }\n                        break;\n                    }\n                }\n            }, 500);\n            "
     },
     "metadata": {}
    }
   ],
   "source": [
    "from nferx_sdk.data_sources import ClinicalTrialsAPIWrapper"
   ]
  },
  {
   "cell_type": "code",
   "execution_count": 23,
   "metadata": {},
   "outputs": [
    {
     "output_type": "stream",
     "name": "stdout",
     "text": [
      "X_NFER_BASEURL: https://preview.nferx.com\nDEBUG: False\nNFERENCE_USER: cpoptic@nference.net\n"
     ]
    },
    {
     "output_type": "display_data",
     "data": {
      "text/plain": "<IPython.core.display.Javascript object>",
      "application/javascript": "\n            setTimeout(function() {\n                var nbb_cell_id = 23;\n                var nbb_unformatted_code = \"clin = ClinicalTrialsAPIWrapper()\";\n                var nbb_formatted_code = \"clin = ClinicalTrialsAPIWrapper()\";\n                var nbb_cells = Jupyter.notebook.get_cells();\n                for (var i = 0; i < nbb_cells.length; ++i) {\n                    if (nbb_cells[i].input_prompt_number == nbb_cell_id) {\n                        if (nbb_cells[i].get_text() == nbb_unformatted_code) {\n                             nbb_cells[i].set_text(nbb_formatted_code);\n                        }\n                        break;\n                    }\n                }\n            }, 500);\n            "
     },
     "metadata": {}
    }
   ],
   "source": [
    "clin = ClinicalTrialsAPIWrapper()"
   ]
  },
  {
   "cell_type": "code",
   "execution_count": 24,
   "metadata": {},
   "outputs": [
    {
     "output_type": "stream",
     "name": "stdout",
     "text": [
      "X_NFER_BASEURL: https://preview.nferx.com\n",
      "DEBUG: False\n",
      "NFERENCE_USER: cpoptic@nference.net\n",
      "Data Type: ClinicalData\n",
      "Default Data Version: physician_notes\n",
      "Available Data Version  ['physician_notes_disk', 'physician_notes']\n"
     ]
    },
    {
     "output_type": "display_data",
     "data": {
      "text/plain": "<IPython.core.display.Javascript object>",
      "application/javascript": "\n            setTimeout(function() {\n                var nbb_cell_id = 24;\n                var nbb_unformatted_code = \"rec = RecordsAPIWrapper()\";\n                var nbb_formatted_code = \"rec = RecordsAPIWrapper()\";\n                var nbb_cells = Jupyter.notebook.get_cells();\n                for (var i = 0; i < nbb_cells.length; ++i) {\n                    if (nbb_cells[i].input_prompt_number == nbb_cell_id) {\n                        if (nbb_cells[i].get_text() == nbb_unformatted_code) {\n                             nbb_cells[i].set_text(nbb_formatted_code);\n                        }\n                        break;\n                    }\n                }\n            }, 500);\n            "
     },
     "metadata": {}
    }
   ],
   "source": [
    "rec = RecordsAPIWrapper()"
   ]
  },
  {
   "source": [
    "## Overview of Hybrid Cohorts Data Structure in SDK"
   ],
   "cell_type": "markdown",
   "metadata": {}
  },
  {
   "cell_type": "code",
   "execution_count": 25,
   "metadata": {},
   "outputs": [
    {
     "output_type": "display_data",
     "data": {
      "text/plain": "<IPython.core.display.Javascript object>",
      "application/javascript": "\n            setTimeout(function() {\n                var nbb_cell_id = 25;\n                var nbb_unformatted_code = \"drugs = [ 'venlafaxine', 'Sertraline', 'Paroxetine', 'milnacipran', 'levomilnacipran', 'Fluvoxamine', 'Fluoxetine', 'Escitalopram', 'duloxetine', 'Desvenlafaxine', 'Citalopram']\";\n                var nbb_formatted_code = \"drugs = [\\n    \\\"venlafaxine\\\",\\n    \\\"Sertraline\\\",\\n    \\\"Paroxetine\\\",\\n    \\\"milnacipran\\\",\\n    \\\"levomilnacipran\\\",\\n    \\\"Fluvoxamine\\\",\\n    \\\"Fluoxetine\\\",\\n    \\\"Escitalopram\\\",\\n    \\\"duloxetine\\\",\\n    \\\"Desvenlafaxine\\\",\\n    \\\"Citalopram\\\",\\n]\";\n                var nbb_cells = Jupyter.notebook.get_cells();\n                for (var i = 0; i < nbb_cells.length; ++i) {\n                    if (nbb_cells[i].input_prompt_number == nbb_cell_id) {\n                        if (nbb_cells[i].get_text() == nbb_unformatted_code) {\n                             nbb_cells[i].set_text(nbb_formatted_code);\n                        }\n                        break;\n                    }\n                }\n            }, 500);\n            "
     },
     "metadata": {}
    }
   ],
   "source": [
    "drugs = [\n",
    "    \"venlafaxine\",\n",
    "    \"Sertraline\",\n",
    "    \"Paroxetine\",\n",
    "    \"milnacipran\",\n",
    "    \"levomilnacipran\",\n",
    "    \"Fluvoxamine\",\n",
    "    \"Fluoxetine\",\n",
    "    \"Escitalopram\",\n",
    "    \"duloxetine\",\n",
    "    \"Desvenlafaxine\",\n",
    "    \"Citalopram\",\n",
    "]"
   ]
  },
  {
   "cell_type": "code",
   "execution_count": 26,
   "metadata": {},
   "outputs": [
    {
     "output_type": "display_data",
     "data": {
      "text/plain": "<IPython.core.display.Javascript object>",
      "application/javascript": "\n            setTimeout(function() {\n                var nbb_cell_id = 26;\n                var nbb_unformatted_code = \"medication_df = rec.medication(tokens=drugs)\";\n                var nbb_formatted_code = \"medication_df = rec.medication(tokens=drugs)\";\n                var nbb_cells = Jupyter.notebook.get_cells();\n                for (var i = 0; i < nbb_cells.length; ++i) {\n                    if (nbb_cells[i].input_prompt_number == nbb_cell_id) {\n                        if (nbb_cells[i].get_text() == nbb_unformatted_code) {\n                             nbb_cells[i].set_text(nbb_formatted_code);\n                        }\n                        break;\n                    }\n                }\n            }, 500);\n            "
     },
     "metadata": {}
    }
   ],
   "source": [
    "medication_df = rec.medication(tokens=drugs)"
   ]
  },
  {
   "cell_type": "code",
   "execution_count": 27,
   "metadata": {},
   "outputs": [
    {
     "output_type": "execute_result",
     "data": {
      "text/plain": [
       "((7, 3),\n",
       " Index(['Column Name', 'No of Patients', 'No of Rows'], dtype='object'))"
      ]
     },
     "metadata": {},
     "execution_count": 27
    },
    {
     "output_type": "display_data",
     "data": {
      "text/plain": "<IPython.core.display.Javascript object>",
      "application/javascript": "\n            setTimeout(function() {\n                var nbb_cell_id = 27;\n                var nbb_unformatted_code = \"medication_df.shape, medication_df.columns\";\n                var nbb_formatted_code = \"medication_df.shape, medication_df.columns\";\n                var nbb_cells = Jupyter.notebook.get_cells();\n                for (var i = 0; i < nbb_cells.length; ++i) {\n                    if (nbb_cells[i].input_prompt_number == nbb_cell_id) {\n                        if (nbb_cells[i].get_text() == nbb_unformatted_code) {\n                             nbb_cells[i].set_text(nbb_formatted_code);\n                        }\n                        break;\n                    }\n                }\n            }, 500);\n            "
     },
     "metadata": {}
    }
   ],
   "source": [
    "medication_df.shape, medication_df.columns"
   ]
  },
  {
   "cell_type": "code",
   "execution_count": 28,
   "metadata": {},
   "outputs": [
    {
     "output_type": "execute_result",
     "data": {
      "text/plain": [
       "                    Column Name  No of Patients  No of Rows\n",
       "1                   order_drugs           98569      654344\n",
       "2                   med_generic           96350      882123\n",
       "3             order_description           95345      631543\n",
       "4       medication_generic_name           57026      179764\n",
       "5                    meds_drugs           24942      245228\n",
       "6  med_generic_name_description           24942      245227\n",
       "7          med_name_description           18182      165536"
      ],
      "text/html": "<div>\n<style scoped>\n    .dataframe tbody tr th:only-of-type {\n        vertical-align: middle;\n    }\n\n    .dataframe tbody tr th {\n        vertical-align: top;\n    }\n\n    .dataframe thead th {\n        text-align: right;\n    }\n</style>\n<table border=\"1\" class=\"dataframe\">\n  <thead>\n    <tr style=\"text-align: right;\">\n      <th></th>\n      <th>Column Name</th>\n      <th>No of Patients</th>\n      <th>No of Rows</th>\n    </tr>\n  </thead>\n  <tbody>\n    <tr>\n      <th>1</th>\n      <td>order_drugs</td>\n      <td>98569</td>\n      <td>654344</td>\n    </tr>\n    <tr>\n      <th>2</th>\n      <td>med_generic</td>\n      <td>96350</td>\n      <td>882123</td>\n    </tr>\n    <tr>\n      <th>3</th>\n      <td>order_description</td>\n      <td>95345</td>\n      <td>631543</td>\n    </tr>\n    <tr>\n      <th>4</th>\n      <td>medication_generic_name</td>\n      <td>57026</td>\n      <td>179764</td>\n    </tr>\n    <tr>\n      <th>5</th>\n      <td>meds_drugs</td>\n      <td>24942</td>\n      <td>245228</td>\n    </tr>\n    <tr>\n      <th>6</th>\n      <td>med_generic_name_description</td>\n      <td>24942</td>\n      <td>245227</td>\n    </tr>\n    <tr>\n      <th>7</th>\n      <td>med_name_description</td>\n      <td>18182</td>\n      <td>165536</td>\n    </tr>\n  </tbody>\n</table>\n</div>"
     },
     "metadata": {},
     "execution_count": 28
    },
    {
     "output_type": "display_data",
     "data": {
      "text/plain": "<IPython.core.display.Javascript object>",
      "application/javascript": "\n            setTimeout(function() {\n                var nbb_cell_id = 28;\n                var nbb_unformatted_code = \"medication_df\";\n                var nbb_formatted_code = \"medication_df\";\n                var nbb_cells = Jupyter.notebook.get_cells();\n                for (var i = 0; i < nbb_cells.length; ++i) {\n                    if (nbb_cells[i].input_prompt_number == nbb_cell_id) {\n                        if (nbb_cells[i].get_text() == nbb_unformatted_code) {\n                             nbb_cells[i].set_text(nbb_formatted_code);\n                        }\n                        break;\n                    }\n                }\n            }, 500);\n            "
     },
     "metadata": {}
    }
   ],
   "source": [
    "medication_df"
   ]
  },
  {
   "cell_type": "code",
   "execution_count": 29,
   "metadata": {},
   "outputs": [
    {
     "output_type": "display_data",
     "data": {
      "text/plain": "<IPython.core.display.Javascript object>",
      "application/javascript": "\n            setTimeout(function() {\n                var nbb_cell_id = 29;\n                var nbb_unformatted_code = \"cml_codes = rec.getDiagnosticCodesFromDisease('CML')\";\n                var nbb_formatted_code = \"cml_codes = rec.getDiagnosticCodesFromDisease(\\\"CML\\\")\";\n                var nbb_cells = Jupyter.notebook.get_cells();\n                for (var i = 0; i < nbb_cells.length; ++i) {\n                    if (nbb_cells[i].input_prompt_number == nbb_cell_id) {\n                        if (nbb_cells[i].get_text() == nbb_unformatted_code) {\n                             nbb_cells[i].set_text(nbb_formatted_code);\n                        }\n                        break;\n                    }\n                }\n            }, 500);\n            "
     },
     "metadata": {}
    }
   ],
   "source": [
    "cml_codes = rec.getDiagnosticCodesFromDisease(\"CML\")"
   ]
  },
  {
   "cell_type": "code",
   "execution_count": 30,
   "metadata": {},
   "outputs": [
    {
     "output_type": "display_data",
     "data": {
      "text/plain": "<IPython.core.display.Javascript object>",
      "application/javascript": "\n            setTimeout(function() {\n                var nbb_cell_id = 30;\n                var nbb_unformatted_code = \"cml_full_name_codes = rec.getDiagnosticCodesFromDisease('chronic myeloid leukemia')\";\n                var nbb_formatted_code = \"cml_full_name_codes = rec.getDiagnosticCodesFromDisease(\\\"chronic myeloid leukemia\\\")\";\n                var nbb_cells = Jupyter.notebook.get_cells();\n                for (var i = 0; i < nbb_cells.length; ++i) {\n                    if (nbb_cells[i].input_prompt_number == nbb_cell_id) {\n                        if (nbb_cells[i].get_text() == nbb_unformatted_code) {\n                             nbb_cells[i].set_text(nbb_formatted_code);\n                        }\n                        break;\n                    }\n                }\n            }, 500);\n            "
     },
     "metadata": {}
    }
   ],
   "source": [
    "cml_full_name_codes = rec.getDiagnosticCodesFromDisease(\"chronic myeloid leukemia\")"
   ]
  },
  {
   "cell_type": "code",
   "execution_count": 31,
   "metadata": {},
   "outputs": [
    {
     "output_type": "stream",
     "name": "stdout",
     "text": [
      "['02051110', '02899370', '105329013', '105330015', '105331016', '1217278018', '1217279014', '1218766018', '1218767010', '153446019', '153447011', '153448018', '1772080015', '1773807012', '1775093018', '201656010', '205.1', '205.10', '205.11', '205.12', '207403012', '2531158010', '2531159019', '2531160012', '2531161011', '2531162016', '2534648014', '2534649018', '2534650018', '2534651019', '2534652014', '2534653016', '2534654010', '2534655011', '2534656012', '2534657015', '2534658013', '2537477010', '2537478017', '2770413014', '2772431018', '2837901015', '2837902010', '2897550015', '2898684014', '289899015', '289900013', '2899857015', '2899858013', '2901809010', '572065019', '836420010', '836421014', 'C92.1', 'C92.10', 'C92.11', 'C92.12']\n"
     ]
    },
    {
     "output_type": "display_data",
     "data": {
      "text/plain": "<IPython.core.display.Javascript object>",
      "application/javascript": "\n            setTimeout(function() {\n                var nbb_cell_id = 31;\n                var nbb_unformatted_code = \"both = list(set(cml_codes) & set(cml_full_name_codes))\\nprint(sorted(both))\";\n                var nbb_formatted_code = \"both = list(set(cml_codes) & set(cml_full_name_codes))\\nprint(sorted(both))\";\n                var nbb_cells = Jupyter.notebook.get_cells();\n                for (var i = 0; i < nbb_cells.length; ++i) {\n                    if (nbb_cells[i].input_prompt_number == nbb_cell_id) {\n                        if (nbb_cells[i].get_text() == nbb_unformatted_code) {\n                             nbb_cells[i].set_text(nbb_formatted_code);\n                        }\n                        break;\n                    }\n                }\n            }, 500);\n            "
     },
     "metadata": {}
    }
   ],
   "source": [
    "both = list(set(cml_codes) & set(cml_full_name_codes))\n",
    "print(sorted(both))"
   ]
  },
  {
   "cell_type": "code",
   "execution_count": 32,
   "metadata": {},
   "outputs": [
    {
     "output_type": "execute_result",
     "data": {
      "text/plain": [
       "57"
      ]
     },
     "metadata": {},
     "execution_count": 32
    },
    {
     "output_type": "display_data",
     "data": {
      "text/plain": "<IPython.core.display.Javascript object>",
      "application/javascript": "\n            setTimeout(function() {\n                var nbb_cell_id = 32;\n                var nbb_unformatted_code = \"len(cml_codes)\";\n                var nbb_formatted_code = \"len(cml_codes)\";\n                var nbb_cells = Jupyter.notebook.get_cells();\n                for (var i = 0; i < nbb_cells.length; ++i) {\n                    if (nbb_cells[i].input_prompt_number == nbb_cell_id) {\n                        if (nbb_cells[i].get_text() == nbb_unformatted_code) {\n                             nbb_cells[i].set_text(nbb_formatted_code);\n                        }\n                        break;\n                    }\n                }\n            }, 500);\n            "
     },
     "metadata": {}
    }
   ],
   "source": [
    "len(cml_codes)"
   ]
  },
  {
   "cell_type": "code",
   "execution_count": 33,
   "metadata": {},
   "outputs": [
    {
     "output_type": "display_data",
     "data": {
      "text/plain": "<IPython.core.display.Javascript object>",
      "application/javascript": "\n            setTimeout(function() {\n                var nbb_cell_id = 33;\n                var nbb_unformatted_code = \"# Find the ICD codes related to Major Depressive Disorder\\nmdd_codes = rec.getDiagnosticCodesFromDisease('Major Depressive Disorder')\";\n                var nbb_formatted_code = \"# Find the ICD codes related to Major Depressive Disorder\\nmdd_codes = rec.getDiagnosticCodesFromDisease(\\\"Major Depressive Disorder\\\")\";\n                var nbb_cells = Jupyter.notebook.get_cells();\n                for (var i = 0; i < nbb_cells.length; ++i) {\n                    if (nbb_cells[i].input_prompt_number == nbb_cell_id) {\n                        if (nbb_cells[i].get_text() == nbb_unformatted_code) {\n                             nbb_cells[i].set_text(nbb_formatted_code);\n                        }\n                        break;\n                    }\n                }\n            }, 500);\n            "
     },
     "metadata": {}
    }
   ],
   "source": [
    "# Find the ICD codes related to Major Depressive Disorder\n",
    "mdd_codes = rec.getDiagnosticCodesFromDisease(\"Major Depressive Disorder\")"
   ]
  },
  {
   "cell_type": "code",
   "execution_count": 34,
   "metadata": {},
   "outputs": [
    {
     "output_type": "execute_result",
     "data": {
      "text/plain": [
       "['296.20',\n",
       " '296.2',\n",
       " '296.3',\n",
       " '296.30',\n",
       " 'F32.9',\n",
       " 'F33.1',\n",
       " 'F33.9',\n",
       " 'F33.0',\n",
       " 'F32.1',\n",
       " 'F33.42',\n",
       " 'F33.41',\n",
       " 'F33.2',\n",
       " 'F32.0',\n",
       " 'F32.5',\n",
       " 'F32.2',\n",
       " 'F32.4',\n",
       " 'F33.40',\n",
       " 'F33.3',\n",
       " 'F32.3',\n",
       " 'F32',\n",
       " 'F33.4',\n",
       " 'F33',\n",
       " '1208903011',\n",
       " '31734016',\n",
       " '67318015',\n",
       " '110183011',\n",
       " '2967289019',\n",
       " '55297012',\n",
       " '3304524018',\n",
       " '77113019',\n",
       " '401766011',\n",
       " '60885016',\n",
       " '294826016',\n",
       " '61592011',\n",
       " '294831019',\n",
       " '112983018',\n",
       " '294825017',\n",
       " '43436011',\n",
       " '441826016',\n",
       " '575312011',\n",
       " '25793014',\n",
       " '764437010',\n",
       " '71628011',\n",
       " '3447110019',\n",
       " '809332011',\n",
       " '759158012',\n",
       " '3005871013',\n",
       " '3005851016',\n",
       " '811444017',\n",
       " '3320813013',\n",
       " '575318010',\n",
       " '294832014',\n",
       " '575315013',\n",
       " '3304523012',\n",
       " '3320811010',\n",
       " '3646265011',\n",
       " '3646267015',\n",
       " '743291014',\n",
       " '783572012',\n",
       " '3005831015',\n",
       " '105998019',\n",
       " '764501019',\n",
       " '1064901000119115',\n",
       " '47670016',\n",
       " '3646264010',\n",
       " '3447117016',\n",
       " '767531018',\n",
       " '768230018',\n",
       " '575317017',\n",
       " '110184017',\n",
       " '575314012',\n",
       " '575319019',\n",
       " '3447116013',\n",
       " '294824018',\n",
       " '3447115012',\n",
       " '3646260018',\n",
       " '575311016',\n",
       " '3005549010',\n",
       " '3005548019',\n",
       " '2770929013',\n",
       " '55208011',\n",
       " '115270017',\n",
       " '3005878019',\n",
       " '3646266012',\n",
       " '779879010',\n",
       " '709320011',\n",
       " '756295019',\n",
       " '294830018',\n",
       " '294828015',\n",
       " '803098012',\n",
       " '807808018',\n",
       " '2181000119116',\n",
       " '1195435015',\n",
       " '3447118014',\n",
       " '3646259011',\n",
       " '741948019',\n",
       " '575313018',\n",
       " '59216014',\n",
       " '661382010',\n",
       " '3447111015',\n",
       " '3320812015',\n",
       " '59219019',\n",
       " '294827013',\n",
       " '3647170015',\n",
       " '775005010',\n",
       " '64391018',\n",
       " '462884010',\n",
       " '110185016',\n",
       " '715367012',\n",
       " '3647431019',\n",
       " '776333011',\n",
       " '3647169016',\n",
       " '575323010',\n",
       " '118497013',\n",
       " '110186015',\n",
       " '575322017',\n",
       " '575330016',\n",
       " '811491012',\n",
       " '575321012',\n",
       " '3647432014',\n",
       " '67125015',\n",
       " '661383017',\n",
       " '740122015',\n",
       " '756582011',\n",
       " '5460017',\n",
       " '24135018',\n",
       " '696414010',\n",
       " '346972018',\n",
       " '410861011',\n",
       " '619439012',\n",
       " '667762016',\n",
       " '03082111']"
      ]
     },
     "metadata": {},
     "execution_count": 34
    },
    {
     "output_type": "display_data",
     "data": {
      "text/plain": "<IPython.core.display.Javascript object>",
      "application/javascript": "\n            setTimeout(function() {\n                var nbb_cell_id = 34;\n                var nbb_unformatted_code = \"mdd_codes\";\n                var nbb_formatted_code = \"mdd_codes\";\n                var nbb_cells = Jupyter.notebook.get_cells();\n                for (var i = 0; i < nbb_cells.length; ++i) {\n                    if (nbb_cells[i].input_prompt_number == nbb_cell_id) {\n                        if (nbb_cells[i].get_text() == nbb_unformatted_code) {\n                             nbb_cells[i].set_text(nbb_formatted_code);\n                        }\n                        break;\n                    }\n                }\n            }, 500);\n            "
     },
     "metadata": {}
    }
   ],
   "source": [
    "mdd_codes"
   ]
  },
  {
   "cell_type": "code",
   "execution_count": 35,
   "metadata": {},
   "outputs": [
    {
     "output_type": "display_data",
     "data": {
      "text/plain": "<IPython.core.display.Javascript object>",
      "application/javascript": "\n            setTimeout(function() {\n                var nbb_cell_id = 35;\n                var nbb_unformatted_code = \"meds_query  = inQuery( ['medication_generic_name', 'order_description', 'med_generic', 'order_drugs', 'meds_drugs', 'med_generic', 'med_name_description', 'med_generic_name_description'] ,drugs)\\ncodes_query = inQuery('diagnosis_code', mdd_codes)\\nquery       = andQuery(meds_query, codes_query)\";\n                var nbb_formatted_code = \"meds_query = inQuery(\\n    [\\n        \\\"medication_generic_name\\\",\\n        \\\"order_description\\\",\\n        \\\"med_generic\\\",\\n        \\\"order_drugs\\\",\\n        \\\"meds_drugs\\\",\\n        \\\"med_generic\\\",\\n        \\\"med_name_description\\\",\\n        \\\"med_generic_name_description\\\",\\n    ],\\n    drugs,\\n)\\ncodes_query = inQuery(\\\"diagnosis_code\\\", mdd_codes)\\nquery = andQuery(meds_query, codes_query)\";\n                var nbb_cells = Jupyter.notebook.get_cells();\n                for (var i = 0; i < nbb_cells.length; ++i) {\n                    if (nbb_cells[i].input_prompt_number == nbb_cell_id) {\n                        if (nbb_cells[i].get_text() == nbb_unformatted_code) {\n                             nbb_cells[i].set_text(nbb_formatted_code);\n                        }\n                        break;\n                    }\n                }\n            }, 500);\n            "
     },
     "metadata": {}
    }
   ],
   "source": [
    "meds_query = inQuery(\n",
    "    [\n",
    "        \"medication_generic_name\",\n",
    "        \"order_description\",\n",
    "        \"med_generic\",\n",
    "        \"order_drugs\",\n",
    "        \"meds_drugs\",\n",
    "        \"med_generic\",\n",
    "        \"med_name_description\",\n",
    "        \"med_generic_name_description\",\n",
    "    ],\n",
    "    drugs,\n",
    ")\n",
    "codes_query = inQuery(\"diagnosis_code\", mdd_codes)\n",
    "query = andQuery(meds_query, codes_query)"
   ]
  },
  {
   "cell_type": "code",
   "execution_count": 36,
   "metadata": {},
   "outputs": [
    {
     "output_type": "execute_result",
     "data": {
      "text/plain": [
       "'medication_generic_name:venlafaxine,medication_generic_name:Sertraline,medication_generic_name:Paroxetine,medication_generic_name:milnacipran,medication_generic_name:levomilnacipran,medication_generic_name:Fluvoxamine,medication_generic_name:Fluoxetine,medication_generic_name:Escitalopram,medication_generic_name:duloxetine,medication_generic_name:Desvenlafaxine,medication_generic_name:Citalopram,order_description:venlafaxine,order_description:Sertraline,order_description:Paroxetine,order_description:milnacipran,order_description:levomilnacipran,order_description:Fluvoxamine,order_description:Fluoxetine,order_description:Escitalopram,order_description:duloxetine,order_description:Desvenlafaxine,order_description:Citalopram,med_generic:venlafaxine,med_generic:Sertraline,med_generic:Paroxetine,med_generic:milnacipran,med_generic:levomilnacipran,med_generic:Fluvoxamine,med_generic:Fluoxetine,med_generic:Escitalopram,med_generic:duloxetine,med_generic:Desvenlafaxine,med_generic:Citalopram,order_drugs:venlafaxine,order_drugs:Sertraline,order_drugs:Paroxetine,order_drugs:milnacipran,order_drugs:levomilnacipran,order_drugs:Fluvoxamine,order_drugs:Fluoxetine,order_drugs:Escitalopram,order_drugs:duloxetine,order_drugs:Desvenlafaxine,order_drugs:Citalopram,meds_drugs:venlafaxine,meds_drugs:Sertraline,meds_drugs:Paroxetine,meds_drugs:milnacipran,meds_drugs:levomilnacipran,meds_drugs:Fluvoxamine,meds_drugs:Fluoxetine,meds_drugs:Escitalopram,meds_drugs:duloxetine,meds_drugs:Desvenlafaxine,meds_drugs:Citalopram,med_generic:venlafaxine,med_generic:Sertraline,med_generic:Paroxetine,med_generic:milnacipran,med_generic:levomilnacipran,med_generic:Fluvoxamine,med_generic:Fluoxetine,med_generic:Escitalopram,med_generic:duloxetine,med_generic:Desvenlafaxine,med_generic:Citalopram,med_name_description:venlafaxine,med_name_description:Sertraline,med_name_description:Paroxetine,med_name_description:milnacipran,med_name_description:levomilnacipran,med_name_description:Fluvoxamine,med_name_description:Fluoxetine,med_name_description:Escitalopram,med_name_description:duloxetine,med_name_description:Desvenlafaxine,med_name_description:Citalopram,med_generic_name_description:venlafaxine,med_generic_name_description:Sertraline,med_generic_name_description:Paroxetine,med_generic_name_description:milnacipran,med_generic_name_description:levomilnacipran,med_generic_name_description:Fluvoxamine,med_generic_name_description:Fluoxetine,med_generic_name_description:Escitalopram,med_generic_name_description:duloxetine,med_generic_name_description:Desvenlafaxine,med_generic_name_description:Citalopram;diagnosis_code:296.20,diagnosis_code:296.2,diagnosis_code:296.3,diagnosis_code:296.30,diagnosis_code:F32.9,diagnosis_code:F33.1,diagnosis_code:F33.9,diagnosis_code:F33.0,diagnosis_code:F32.1,diagnosis_code:F33.42,diagnosis_code:F33.41,diagnosis_code:F33.2,diagnosis_code:F32.0,diagnosis_code:F32.5,diagnosis_code:F32.2,diagnosis_code:F32.4,diagnosis_code:F33.40,diagnosis_code:F33.3,diagnosis_code:F32.3,diagnosis_code:F32,diagnosis_code:F33.4,diagnosis_code:F33,diagnosis_code:1208903011,diagnosis_code:31734016,diagnosis_code:67318015,diagnosis_code:110183011,diagnosis_code:2967289019,diagnosis_code:55297012,diagnosis_code:3304524018,diagnosis_code:77113019,diagnosis_code:401766011,diagnosis_code:60885016,diagnosis_code:294826016,diagnosis_code:61592011,diagnosis_code:294831019,diagnosis_code:112983018,diagnosis_code:294825017,diagnosis_code:43436011,diagnosis_code:441826016,diagnosis_code:575312011,diagnosis_code:25793014,diagnosis_code:764437010,diagnosis_code:71628011,diagnosis_code:3447110019,diagnosis_code:809332011,diagnosis_code:759158012,diagnosis_code:3005871013,diagnosis_code:3005851016,diagnosis_code:811444017,diagnosis_code:3320813013,diagnosis_code:575318010,diagnosis_code:294832014,diagnosis_code:575315013,diagnosis_code:3304523012,diagnosis_code:3320811010,diagnosis_code:3646265011,diagnosis_code:3646267015,diagnosis_code:743291014,diagnosis_code:783572012,diagnosis_code:3005831015,diagnosis_code:105998019,diagnosis_code:764501019,diagnosis_code:1064901000119115,diagnosis_code:47670016,diagnosis_code:3646264010,diagnosis_code:3447117016,diagnosis_code:767531018,diagnosis_code:768230018,diagnosis_code:575317017,diagnosis_code:110184017,diagnosis_code:575314012,diagnosis_code:575319019,diagnosis_code:3447116013,diagnosis_code:294824018,diagnosis_code:3447115012,diagnosis_code:3646260018,diagnosis_code:575311016,diagnosis_code:3005549010,diagnosis_code:3005548019,diagnosis_code:2770929013,diagnosis_code:55208011,diagnosis_code:115270017,diagnosis_code:3005878019,diagnosis_code:3646266012,diagnosis_code:779879010,diagnosis_code:709320011,diagnosis_code:756295019,diagnosis_code:294830018,diagnosis_code:294828015,diagnosis_code:803098012,diagnosis_code:807808018,diagnosis_code:2181000119116,diagnosis_code:1195435015,diagnosis_code:3447118014,diagnosis_code:3646259011,diagnosis_code:741948019,diagnosis_code:575313018,diagnosis_code:59216014,diagnosis_code:661382010,diagnosis_code:3447111015,diagnosis_code:3320812015,diagnosis_code:59219019,diagnosis_code:294827013,diagnosis_code:3647170015,diagnosis_code:775005010,diagnosis_code:64391018,diagnosis_code:462884010,diagnosis_code:110185016,diagnosis_code:715367012,diagnosis_code:3647431019,diagnosis_code:776333011,diagnosis_code:3647169016,diagnosis_code:575323010,diagnosis_code:118497013,diagnosis_code:110186015,diagnosis_code:575322017,diagnosis_code:575330016,diagnosis_code:811491012,diagnosis_code:575321012,diagnosis_code:3647432014,diagnosis_code:67125015,diagnosis_code:661383017,diagnosis_code:740122015,diagnosis_code:756582011,diagnosis_code:5460017,diagnosis_code:24135018,diagnosis_code:696414010,diagnosis_code:346972018,diagnosis_code:410861011,diagnosis_code:619439012,diagnosis_code:667762016,diagnosis_code:03082111'"
      ]
     },
     "metadata": {},
     "execution_count": 36
    },
    {
     "output_type": "display_data",
     "data": {
      "text/plain": "<IPython.core.display.Javascript object>",
      "application/javascript": "\n            setTimeout(function() {\n                var nbb_cell_id = 36;\n                var nbb_unformatted_code = \"query\";\n                var nbb_formatted_code = \"query\";\n                var nbb_cells = Jupyter.notebook.get_cells();\n                for (var i = 0; i < nbb_cells.length; ++i) {\n                    if (nbb_cells[i].input_prompt_number == nbb_cell_id) {\n                        if (nbb_cells[i].get_text() == nbb_unformatted_code) {\n                             nbb_cells[i].set_text(nbb_formatted_code);\n                        }\n                        break;\n                    }\n                }\n            }, 500);\n            "
     },
     "metadata": {}
    }
   ],
   "source": [
    "query"
   ]
  },
  {
   "cell_type": "code",
   "execution_count": 37,
   "metadata": {},
   "outputs": [
    {
     "output_type": "execute_result",
     "data": {
      "text/plain": [
       "['medication_generic_name:venlafaxine',\n",
       " 'medication_generic_name:Sertraline',\n",
       " 'medication_generic_name:Paroxetine',\n",
       " 'medication_generic_name:milnacipran',\n",
       " 'medication_generic_name:levomilnacipran',\n",
       " 'medication_generic_name:Fluvoxamine',\n",
       " 'medication_generic_name:Fluoxetine',\n",
       " 'medication_generic_name:Escitalopram',\n",
       " 'medication_generic_name:duloxetine',\n",
       " 'medication_generic_name:Desvenlafaxine',\n",
       " 'medication_generic_name:Citalopram',\n",
       " 'order_description:venlafaxine',\n",
       " 'order_description:Sertraline',\n",
       " 'order_description:Paroxetine',\n",
       " 'order_description:milnacipran',\n",
       " 'order_description:levomilnacipran',\n",
       " 'order_description:Fluvoxamine',\n",
       " 'order_description:Fluoxetine',\n",
       " 'order_description:Escitalopram',\n",
       " 'order_description:duloxetine',\n",
       " 'order_description:Desvenlafaxine',\n",
       " 'order_description:Citalopram',\n",
       " 'med_generic:venlafaxine',\n",
       " 'med_generic:Sertraline',\n",
       " 'med_generic:Paroxetine',\n",
       " 'med_generic:milnacipran',\n",
       " 'med_generic:levomilnacipran',\n",
       " 'med_generic:Fluvoxamine',\n",
       " 'med_generic:Fluoxetine',\n",
       " 'med_generic:Escitalopram',\n",
       " 'med_generic:duloxetine',\n",
       " 'med_generic:Desvenlafaxine',\n",
       " 'med_generic:Citalopram',\n",
       " 'order_drugs:venlafaxine',\n",
       " 'order_drugs:Sertraline',\n",
       " 'order_drugs:Paroxetine',\n",
       " 'order_drugs:milnacipran',\n",
       " 'order_drugs:levomilnacipran',\n",
       " 'order_drugs:Fluvoxamine',\n",
       " 'order_drugs:Fluoxetine',\n",
       " 'order_drugs:Escitalopram',\n",
       " 'order_drugs:duloxetine',\n",
       " 'order_drugs:Desvenlafaxine',\n",
       " 'order_drugs:Citalopram',\n",
       " 'meds_drugs:venlafaxine',\n",
       " 'meds_drugs:Sertraline',\n",
       " 'meds_drugs:Paroxetine',\n",
       " 'meds_drugs:milnacipran',\n",
       " 'meds_drugs:levomilnacipran',\n",
       " 'meds_drugs:Fluvoxamine',\n",
       " 'meds_drugs:Fluoxetine',\n",
       " 'meds_drugs:Escitalopram',\n",
       " 'meds_drugs:duloxetine',\n",
       " 'meds_drugs:Desvenlafaxine',\n",
       " 'meds_drugs:Citalopram',\n",
       " 'med_generic:venlafaxine',\n",
       " 'med_generic:Sertraline',\n",
       " 'med_generic:Paroxetine',\n",
       " 'med_generic:milnacipran',\n",
       " 'med_generic:levomilnacipran',\n",
       " 'med_generic:Fluvoxamine',\n",
       " 'med_generic:Fluoxetine',\n",
       " 'med_generic:Escitalopram',\n",
       " 'med_generic:duloxetine',\n",
       " 'med_generic:Desvenlafaxine',\n",
       " 'med_generic:Citalopram',\n",
       " 'med_name_description:venlafaxine',\n",
       " 'med_name_description:Sertraline',\n",
       " 'med_name_description:Paroxetine',\n",
       " 'med_name_description:milnacipran',\n",
       " 'med_name_description:levomilnacipran',\n",
       " 'med_name_description:Fluvoxamine',\n",
       " 'med_name_description:Fluoxetine',\n",
       " 'med_name_description:Escitalopram',\n",
       " 'med_name_description:duloxetine',\n",
       " 'med_name_description:Desvenlafaxine',\n",
       " 'med_name_description:Citalopram',\n",
       " 'med_generic_name_description:venlafaxine',\n",
       " 'med_generic_name_description:Sertraline',\n",
       " 'med_generic_name_description:Paroxetine',\n",
       " 'med_generic_name_description:milnacipran',\n",
       " 'med_generic_name_description:levomilnacipran',\n",
       " 'med_generic_name_description:Fluvoxamine',\n",
       " 'med_generic_name_description:Fluoxetine',\n",
       " 'med_generic_name_description:Escitalopram',\n",
       " 'med_generic_name_description:duloxetine',\n",
       " 'med_generic_name_description:Desvenlafaxine',\n",
       " 'med_generic_name_description:Citalopram;diagnosis_code:296.20',\n",
       " 'diagnosis_code:296.2',\n",
       " 'diagnosis_code:296.3',\n",
       " 'diagnosis_code:296.30',\n",
       " 'diagnosis_code:F32.9',\n",
       " 'diagnosis_code:F33.1',\n",
       " 'diagnosis_code:F33.9',\n",
       " 'diagnosis_code:F33.0',\n",
       " 'diagnosis_code:F32.1',\n",
       " 'diagnosis_code:F33.42',\n",
       " 'diagnosis_code:F33.41',\n",
       " 'diagnosis_code:F33.2',\n",
       " 'diagnosis_code:F32.0',\n",
       " 'diagnosis_code:F32.5',\n",
       " 'diagnosis_code:F32.2',\n",
       " 'diagnosis_code:F32.4',\n",
       " 'diagnosis_code:F33.40',\n",
       " 'diagnosis_code:F33.3',\n",
       " 'diagnosis_code:F32.3',\n",
       " 'diagnosis_code:F32',\n",
       " 'diagnosis_code:F33.4',\n",
       " 'diagnosis_code:F33',\n",
       " 'diagnosis_code:1208903011',\n",
       " 'diagnosis_code:31734016',\n",
       " 'diagnosis_code:67318015',\n",
       " 'diagnosis_code:110183011',\n",
       " 'diagnosis_code:2967289019',\n",
       " 'diagnosis_code:55297012',\n",
       " 'diagnosis_code:3304524018',\n",
       " 'diagnosis_code:77113019',\n",
       " 'diagnosis_code:401766011',\n",
       " 'diagnosis_code:60885016',\n",
       " 'diagnosis_code:294826016',\n",
       " 'diagnosis_code:61592011',\n",
       " 'diagnosis_code:294831019',\n",
       " 'diagnosis_code:112983018',\n",
       " 'diagnosis_code:294825017',\n",
       " 'diagnosis_code:43436011',\n",
       " 'diagnosis_code:441826016',\n",
       " 'diagnosis_code:575312011',\n",
       " 'diagnosis_code:25793014',\n",
       " 'diagnosis_code:764437010',\n",
       " 'diagnosis_code:71628011',\n",
       " 'diagnosis_code:3447110019',\n",
       " 'diagnosis_code:809332011',\n",
       " 'diagnosis_code:759158012',\n",
       " 'diagnosis_code:3005871013',\n",
       " 'diagnosis_code:3005851016',\n",
       " 'diagnosis_code:811444017',\n",
       " 'diagnosis_code:3320813013',\n",
       " 'diagnosis_code:575318010',\n",
       " 'diagnosis_code:294832014',\n",
       " 'diagnosis_code:575315013',\n",
       " 'diagnosis_code:3304523012',\n",
       " 'diagnosis_code:3320811010',\n",
       " 'diagnosis_code:3646265011',\n",
       " 'diagnosis_code:3646267015',\n",
       " 'diagnosis_code:743291014',\n",
       " 'diagnosis_code:783572012',\n",
       " 'diagnosis_code:3005831015',\n",
       " 'diagnosis_code:105998019',\n",
       " 'diagnosis_code:764501019',\n",
       " 'diagnosis_code:1064901000119115',\n",
       " 'diagnosis_code:47670016',\n",
       " 'diagnosis_code:3646264010',\n",
       " 'diagnosis_code:3447117016',\n",
       " 'diagnosis_code:767531018',\n",
       " 'diagnosis_code:768230018',\n",
       " 'diagnosis_code:575317017',\n",
       " 'diagnosis_code:110184017',\n",
       " 'diagnosis_code:575314012',\n",
       " 'diagnosis_code:575319019',\n",
       " 'diagnosis_code:3447116013',\n",
       " 'diagnosis_code:294824018',\n",
       " 'diagnosis_code:3447115012',\n",
       " 'diagnosis_code:3646260018',\n",
       " 'diagnosis_code:575311016',\n",
       " 'diagnosis_code:3005549010',\n",
       " 'diagnosis_code:3005548019',\n",
       " 'diagnosis_code:2770929013',\n",
       " 'diagnosis_code:55208011',\n",
       " 'diagnosis_code:115270017',\n",
       " 'diagnosis_code:3005878019',\n",
       " 'diagnosis_code:3646266012',\n",
       " 'diagnosis_code:779879010',\n",
       " 'diagnosis_code:709320011',\n",
       " 'diagnosis_code:756295019',\n",
       " 'diagnosis_code:294830018',\n",
       " 'diagnosis_code:294828015',\n",
       " 'diagnosis_code:803098012',\n",
       " 'diagnosis_code:807808018',\n",
       " 'diagnosis_code:2181000119116',\n",
       " 'diagnosis_code:1195435015',\n",
       " 'diagnosis_code:3447118014',\n",
       " 'diagnosis_code:3646259011',\n",
       " 'diagnosis_code:741948019',\n",
       " 'diagnosis_code:575313018',\n",
       " 'diagnosis_code:59216014',\n",
       " 'diagnosis_code:661382010',\n",
       " 'diagnosis_code:3447111015',\n",
       " 'diagnosis_code:3320812015',\n",
       " 'diagnosis_code:59219019',\n",
       " 'diagnosis_code:294827013',\n",
       " 'diagnosis_code:3647170015',\n",
       " 'diagnosis_code:775005010',\n",
       " 'diagnosis_code:64391018',\n",
       " 'diagnosis_code:462884010',\n",
       " 'diagnosis_code:110185016',\n",
       " 'diagnosis_code:715367012',\n",
       " 'diagnosis_code:3647431019',\n",
       " 'diagnosis_code:776333011',\n",
       " 'diagnosis_code:3647169016',\n",
       " 'diagnosis_code:575323010',\n",
       " 'diagnosis_code:118497013',\n",
       " 'diagnosis_code:110186015',\n",
       " 'diagnosis_code:575322017',\n",
       " 'diagnosis_code:575330016',\n",
       " 'diagnosis_code:811491012',\n",
       " 'diagnosis_code:575321012',\n",
       " 'diagnosis_code:3647432014',\n",
       " 'diagnosis_code:67125015',\n",
       " 'diagnosis_code:661383017',\n",
       " 'diagnosis_code:740122015',\n",
       " 'diagnosis_code:756582011',\n",
       " 'diagnosis_code:5460017',\n",
       " 'diagnosis_code:24135018',\n",
       " 'diagnosis_code:696414010',\n",
       " 'diagnosis_code:346972018',\n",
       " 'diagnosis_code:410861011',\n",
       " 'diagnosis_code:619439012',\n",
       " 'diagnosis_code:667762016',\n",
       " 'diagnosis_code:03082111']"
      ]
     },
     "metadata": {},
     "execution_count": 37
    },
    {
     "output_type": "display_data",
     "data": {
      "text/plain": "<IPython.core.display.Javascript object>",
      "application/javascript": "\n            setTimeout(function() {\n                var nbb_cell_id = 37;\n                var nbb_unformatted_code = \"query.split(',')\";\n                var nbb_formatted_code = \"query.split(\\\",\\\")\";\n                var nbb_cells = Jupyter.notebook.get_cells();\n                for (var i = 0; i < nbb_cells.length; ++i) {\n                    if (nbb_cells[i].input_prompt_number == nbb_cell_id) {\n                        if (nbb_cells[i].get_text() == nbb_unformatted_code) {\n                             nbb_cells[i].set_text(nbb_formatted_code);\n                        }\n                        break;\n                    }\n                }\n            }, 500);\n            "
     },
     "metadata": {}
    }
   ],
   "source": [
    "query.split(\",\")"
   ]
  },
  {
   "cell_type": "code",
   "execution_count": 44,
   "metadata": {},
   "outputs": [
    {
     "output_type": "display_data",
     "data": {
      "text/plain": "<IPython.core.display.Javascript object>",
      "application/javascript": "\n            setTimeout(function() {\n                var nbb_cell_id = 44;\n                var nbb_unformatted_code = \"cohort1 = rec.makeCohort(cohortName='mdd_full',cohortSpecifier=query, timeWindow='full')\\ncohort1.initDump(cohortProjector=['patient_id','timestamp','diagnosis_code','meds_drugs'])\";\n                var nbb_formatted_code = \"cohort1 = rec.makeCohort(\\n    cohortName=\\\"mdd_full\\\", cohortSpecifier=query, timeWindow=\\\"full\\\"\\n)\\ncohort1.initDump(\\n    cohortProjector=[\\\"patient_id\\\", \\\"timestamp\\\", \\\"diagnosis_code\\\", \\\"meds_drugs\\\"]\\n)\";\n                var nbb_cells = Jupyter.notebook.get_cells();\n                for (var i = 0; i < nbb_cells.length; ++i) {\n                    if (nbb_cells[i].input_prompt_number == nbb_cell_id) {\n                        if (nbb_cells[i].get_text() == nbb_unformatted_code) {\n                             nbb_cells[i].set_text(nbb_formatted_code);\n                        }\n                        break;\n                    }\n                }\n            }, 500);\n            "
     },
     "metadata": {}
    }
   ],
   "source": [
    "cohort1 = rec.makeCohort(\n",
    "    cohortName=\"mdd_full\", cohortSpecifier=query, timeWindow=\"full\"\n",
    ")\n",
    "cohort1.initDump(\n",
    "    cohortProjector=[\"patient_id\", \"timestamp\", \"diagnosis_code\", \"meds_drugs\"]\n",
    ")"
   ]
  },
  {
   "cell_type": "code",
   "execution_count": 45,
   "metadata": {},
   "outputs": [
    {
     "output_type": "execute_result",
     "data": {
      "text/plain": [
       "nferx_sdk.data_sources.hybridcohort_sdk.Cohort"
      ]
     },
     "metadata": {},
     "execution_count": 45
    },
    {
     "output_type": "display_data",
     "data": {
      "text/plain": "<IPython.core.display.Javascript object>",
      "application/javascript": "\n            setTimeout(function() {\n                var nbb_cell_id = 45;\n                var nbb_unformatted_code = \"type(cohort1)\";\n                var nbb_formatted_code = \"type(cohort1)\";\n                var nbb_cells = Jupyter.notebook.get_cells();\n                for (var i = 0; i < nbb_cells.length; ++i) {\n                    if (nbb_cells[i].input_prompt_number == nbb_cell_id) {\n                        if (nbb_cells[i].get_text() == nbb_unformatted_code) {\n                             nbb_cells[i].set_text(nbb_formatted_code);\n                        }\n                        break;\n                    }\n                }\n            }, 500);\n            "
     },
     "metadata": {}
    }
   ],
   "source": [
    "type(cohort1)"
   ]
  },
  {
   "cell_type": "code",
   "execution_count": 46,
   "metadata": {},
   "outputs": [
    {
     "output_type": "execute_result",
     "data": {
      "text/plain": [
       "43320"
      ]
     },
     "metadata": {},
     "execution_count": 46
    },
    {
     "output_type": "display_data",
     "data": {
      "text/plain": "<IPython.core.display.Javascript object>",
      "application/javascript": "\n            setTimeout(function() {\n                var nbb_cell_id = 46;\n                var nbb_unformatted_code = \"cohort1.getTotalPatients()\";\n                var nbb_formatted_code = \"cohort1.getTotalPatients()\";\n                var nbb_cells = Jupyter.notebook.get_cells();\n                for (var i = 0; i < nbb_cells.length; ++i) {\n                    if (nbb_cells[i].input_prompt_number == nbb_cell_id) {\n                        if (nbb_cells[i].get_text() == nbb_unformatted_code) {\n                             nbb_cells[i].set_text(nbb_formatted_code);\n                        }\n                        break;\n                    }\n                }\n            }, 500);\n            "
     },
     "metadata": {}
    }
   ],
   "source": [
    "cohort1.getTotalPatients()"
   ]
  },
  {
   "cell_type": "code",
   "execution_count": 41,
   "metadata": {},
   "outputs": [
    {
     "output_type": "execute_result",
     "data": {
      "text/plain": [
       "18805740"
      ]
     },
     "metadata": {},
     "execution_count": 41
    },
    {
     "output_type": "display_data",
     "data": {
      "text/plain": "<IPython.core.display.Javascript object>",
      "application/javascript": "\n            setTimeout(function() {\n                var nbb_cell_id = 41;\n                var nbb_unformatted_code = \"cohort1.getTotalRecords()\";\n                var nbb_formatted_code = \"cohort1.getTotalRecords()\";\n                var nbb_cells = Jupyter.notebook.get_cells();\n                for (var i = 0; i < nbb_cells.length; ++i) {\n                    if (nbb_cells[i].input_prompt_number == nbb_cell_id) {\n                        if (nbb_cells[i].get_text() == nbb_unformatted_code) {\n                             nbb_cells[i].set_text(nbb_formatted_code);\n                        }\n                        break;\n                    }\n                }\n            }, 500);\n            "
     },
     "metadata": {}
    }
   ],
   "source": [
    "cohort1.getTotalRecords()"
   ]
  },
  {
   "cell_type": "code",
   "execution_count": 42,
   "metadata": {},
   "outputs": [
    {
     "output_type": "execute_result",
     "data": {
      "text/plain": [
       "434.112188365651"
      ]
     },
     "metadata": {},
     "execution_count": 42
    },
    {
     "output_type": "display_data",
     "data": {
      "text/plain": "<IPython.core.display.Javascript object>",
      "application/javascript": "\n            setTimeout(function() {\n                var nbb_cell_id = 42;\n                var nbb_unformatted_code = \"cohort1.getTotalRecords() / cohort1.getTotalPatients()\";\n                var nbb_formatted_code = \"cohort1.getTotalRecords() / cohort1.getTotalPatients()\";\n                var nbb_cells = Jupyter.notebook.get_cells();\n                for (var i = 0; i < nbb_cells.length; ++i) {\n                    if (nbb_cells[i].input_prompt_number == nbb_cell_id) {\n                        if (nbb_cells[i].get_text() == nbb_unformatted_code) {\n                             nbb_cells[i].set_text(nbb_formatted_code);\n                        }\n                        break;\n                    }\n                }\n            }, 500);\n            "
     },
     "metadata": {}
    }
   ],
   "source": [
    "cohort1.getTotalRecords() / cohort1.getTotalPatients()"
   ]
  },
  {
   "cell_type": "code",
   "execution_count": 47,
   "metadata": {},
   "outputs": [
    {
     "output_type": "display_data",
     "data": {
      "text/plain": "       timestamp diagnosis_code patient_id     meds_drugs\n1         -47580          k21.9     100044  acetaminophen\n2         -47580         j01.90     100044  dexamethasone\n3         157945          k21.9     100044            NaN\n4       52724188          n76.0     100044            NaN\n5       52724188          r30.0     100044               \n...          ...            ...        ...            ...\n58891   46581720            o76     101596               \n58892   46581720          z37.0     101596               \n58893   46581720         o47.03     101596               \n58894   46581720         z3a.34     101596               \n58895   46581720       o69.1xx0     101596               \n\n[58895 rows x 4 columns]",
      "text/html": "<div>\n<style scoped>\n    .dataframe tbody tr th:only-of-type {\n        vertical-align: middle;\n    }\n\n    .dataframe tbody tr th {\n        vertical-align: top;\n    }\n\n    .dataframe thead th {\n        text-align: right;\n    }\n</style>\n<table border=\"1\" class=\"dataframe\">\n  <thead>\n    <tr style=\"text-align: right;\">\n      <th></th>\n      <th>timestamp</th>\n      <th>diagnosis_code</th>\n      <th>patient_id</th>\n      <th>meds_drugs</th>\n    </tr>\n  </thead>\n  <tbody>\n    <tr>\n      <th>1</th>\n      <td>-47580</td>\n      <td>k21.9</td>\n      <td>100044</td>\n      <td>acetaminophen</td>\n    </tr>\n    <tr>\n      <th>2</th>\n      <td>-47580</td>\n      <td>j01.90</td>\n      <td>100044</td>\n      <td>dexamethasone</td>\n    </tr>\n    <tr>\n      <th>3</th>\n      <td>157945</td>\n      <td>k21.9</td>\n      <td>100044</td>\n      <td>NaN</td>\n    </tr>\n    <tr>\n      <th>4</th>\n      <td>52724188</td>\n      <td>n76.0</td>\n      <td>100044</td>\n      <td>NaN</td>\n    </tr>\n    <tr>\n      <th>5</th>\n      <td>52724188</td>\n      <td>r30.0</td>\n      <td>100044</td>\n      <td></td>\n    </tr>\n    <tr>\n      <th>...</th>\n      <td>...</td>\n      <td>...</td>\n      <td>...</td>\n      <td>...</td>\n    </tr>\n    <tr>\n      <th>58891</th>\n      <td>46581720</td>\n      <td>o76</td>\n      <td>101596</td>\n      <td></td>\n    </tr>\n    <tr>\n      <th>58892</th>\n      <td>46581720</td>\n      <td>z37.0</td>\n      <td>101596</td>\n      <td></td>\n    </tr>\n    <tr>\n      <th>58893</th>\n      <td>46581720</td>\n      <td>o47.03</td>\n      <td>101596</td>\n      <td></td>\n    </tr>\n    <tr>\n      <th>58894</th>\n      <td>46581720</td>\n      <td>z3a.34</td>\n      <td>101596</td>\n      <td></td>\n    </tr>\n    <tr>\n      <th>58895</th>\n      <td>46581720</td>\n      <td>o69.1xx0</td>\n      <td>101596</td>\n      <td></td>\n    </tr>\n  </tbody>\n</table>\n<p>58895 rows × 4 columns</p>\n</div>"
     },
     "metadata": {}
    },
    {
     "output_type": "display_data",
     "data": {
      "text/plain": "<IPython.core.display.Javascript object>",
      "application/javascript": "\n            setTimeout(function() {\n                var nbb_cell_id = 47;\n                var nbb_unformatted_code = \"if cohort1.advanceDF():\\n    df = cohort1.getDF()\\n    display(df)\";\n                var nbb_formatted_code = \"if cohort1.advanceDF():\\n    df = cohort1.getDF()\\n    display(df)\";\n                var nbb_cells = Jupyter.notebook.get_cells();\n                for (var i = 0; i < nbb_cells.length; ++i) {\n                    if (nbb_cells[i].input_prompt_number == nbb_cell_id) {\n                        if (nbb_cells[i].get_text() == nbb_unformatted_code) {\n                             nbb_cells[i].set_text(nbb_formatted_code);\n                        }\n                        break;\n                    }\n                }\n            }, 500);\n            "
     },
     "metadata": {}
    }
   ],
   "source": [
    "if cohort1.advanceDF():\n",
    "    df = cohort1.getDF()\n",
    "    display(df)"
   ]
  },
  {
   "source": [
    "### Case 2: Create a cohort of patients who were ever diagnosed with MDD and have administered the drugs venlafaxine etc within an interval of 3 months after being diagnosed in their medical record history"
   ],
   "cell_type": "markdown",
   "metadata": {}
  },
  {
   "cell_type": "code",
   "execution_count": 48,
   "metadata": {},
   "outputs": [
    {
     "output_type": "execute_result",
     "data": {
      "text/plain": [
       "523"
      ]
     },
     "metadata": {},
     "execution_count": 48
    },
    {
     "output_type": "display_data",
     "data": {
      "text/plain": "<IPython.core.display.Javascript object>",
      "application/javascript": "\n            setTimeout(function() {\n                var nbb_cell_id = 48;\n                var nbb_unformatted_code = \"cohort2 = rec.makeCohort('mdd_test_2', cohortSpecifier=query, timeWindow=3, unit='months')\\ncohort2.initDump(cohortProjector=['patient_id', 'timestamp', 'diagnosis_code', 'meds_drugs', 'disease'])\\ncohort2.getTotalPatients()\";\n                var nbb_formatted_code = \"cohort2 = rec.makeCohort(\\n    \\\"mdd_test_2\\\", cohortSpecifier=query, timeWindow=3, unit=\\\"months\\\"\\n)\\ncohort2.initDump(\\n    cohortProjector=[\\n        \\\"patient_id\\\",\\n        \\\"timestamp\\\",\\n        \\\"diagnosis_code\\\",\\n        \\\"meds_drugs\\\",\\n        \\\"disease\\\",\\n    ]\\n)\\ncohort2.getTotalPatients()\";\n                var nbb_cells = Jupyter.notebook.get_cells();\n                for (var i = 0; i < nbb_cells.length; ++i) {\n                    if (nbb_cells[i].input_prompt_number == nbb_cell_id) {\n                        if (nbb_cells[i].get_text() == nbb_unformatted_code) {\n                             nbb_cells[i].set_text(nbb_formatted_code);\n                        }\n                        break;\n                    }\n                }\n            }, 500);\n            "
     },
     "metadata": {}
    }
   ],
   "source": [
    "cohort2 = rec.makeCohort(\n",
    "    \"mdd_test_2\", cohortSpecifier=query, timeWindow=3, unit=\"months\"\n",
    ")\n",
    "cohort2.initDump(\n",
    "    cohortProjector=[\n",
    "        \"patient_id\",\n",
    "        \"timestamp\",\n",
    "        \"diagnosis_code\",\n",
    "        \"meds_drugs\",\n",
    "        \"disease\",\n",
    "    ]\n",
    ")\n",
    "cohort2.getTotalPatients()"
   ]
  },
  {
   "cell_type": "code",
   "execution_count": 49,
   "metadata": {},
   "outputs": [
    {
     "output_type": "execute_result",
     "data": {
      "text/plain": [
       "540"
      ]
     },
     "metadata": {},
     "execution_count": 49
    },
    {
     "output_type": "display_data",
     "data": {
      "text/plain": "<IPython.core.display.Javascript object>",
      "application/javascript": "\n            setTimeout(function() {\n                var nbb_cell_id = 49;\n                var nbb_unformatted_code = \"cohort2.getTotalRecords()\";\n                var nbb_formatted_code = \"cohort2.getTotalRecords()\";\n                var nbb_cells = Jupyter.notebook.get_cells();\n                for (var i = 0; i < nbb_cells.length; ++i) {\n                    if (nbb_cells[i].input_prompt_number == nbb_cell_id) {\n                        if (nbb_cells[i].get_text() == nbb_unformatted_code) {\n                             nbb_cells[i].set_text(nbb_formatted_code);\n                        }\n                        break;\n                    }\n                }\n            }, 500);\n            "
     },
     "metadata": {}
    }
   ],
   "source": [
    "cohort2.getTotalRecords()"
   ]
  },
  {
   "cell_type": "code",
   "execution_count": 50,
   "metadata": {},
   "outputs": [
    {
     "output_type": "display_data",
     "data": {
      "text/plain": "       timestamp diagnosis_code                       disease patient_id  \\\n1       52724188          n76.0                     vaginitis     100044   \n2       52724188          r30.0                       dysuria     100044   \n3       56439388         r53.83                       fatigue     100044   \n4       57044188          f41.1  generalized anxiety disorder     100044   \n5       57044188          f33.9     major depressive disorder     100044   \n...          ...            ...                           ...        ...   \n76514  381465764         z90.49                                   103495   \n76515  381465764         z68.31                  septic shock     103495   \n76516  381465764         z79.01                 severe sepsis     103495   \n76517  381465764         z79.52                                   103495   \n76518  381465764                                                  103495   \n\n        meds_drugs  \n1      misoprostol  \n2                   \n3              NaN  \n4              NaN  \n5                   \n...            ...  \n76514               \n76515               \n76516               \n76517               \n76518               \n\n[76518 rows x 5 columns]",
      "text/html": "<div>\n<style scoped>\n    .dataframe tbody tr th:only-of-type {\n        vertical-align: middle;\n    }\n\n    .dataframe tbody tr th {\n        vertical-align: top;\n    }\n\n    .dataframe thead th {\n        text-align: right;\n    }\n</style>\n<table border=\"1\" class=\"dataframe\">\n  <thead>\n    <tr style=\"text-align: right;\">\n      <th></th>\n      <th>timestamp</th>\n      <th>diagnosis_code</th>\n      <th>disease</th>\n      <th>patient_id</th>\n      <th>meds_drugs</th>\n    </tr>\n  </thead>\n  <tbody>\n    <tr>\n      <th>1</th>\n      <td>52724188</td>\n      <td>n76.0</td>\n      <td>vaginitis</td>\n      <td>100044</td>\n      <td>misoprostol</td>\n    </tr>\n    <tr>\n      <th>2</th>\n      <td>52724188</td>\n      <td>r30.0</td>\n      <td>dysuria</td>\n      <td>100044</td>\n      <td></td>\n    </tr>\n    <tr>\n      <th>3</th>\n      <td>56439388</td>\n      <td>r53.83</td>\n      <td>fatigue</td>\n      <td>100044</td>\n      <td>NaN</td>\n    </tr>\n    <tr>\n      <th>4</th>\n      <td>57044188</td>\n      <td>f41.1</td>\n      <td>generalized anxiety disorder</td>\n      <td>100044</td>\n      <td>NaN</td>\n    </tr>\n    <tr>\n      <th>5</th>\n      <td>57044188</td>\n      <td>f33.9</td>\n      <td>major depressive disorder</td>\n      <td>100044</td>\n      <td></td>\n    </tr>\n    <tr>\n      <th>...</th>\n      <td>...</td>\n      <td>...</td>\n      <td>...</td>\n      <td>...</td>\n      <td>...</td>\n    </tr>\n    <tr>\n      <th>76514</th>\n      <td>381465764</td>\n      <td>z90.49</td>\n      <td></td>\n      <td>103495</td>\n      <td></td>\n    </tr>\n    <tr>\n      <th>76515</th>\n      <td>381465764</td>\n      <td>z68.31</td>\n      <td>septic shock</td>\n      <td>103495</td>\n      <td></td>\n    </tr>\n    <tr>\n      <th>76516</th>\n      <td>381465764</td>\n      <td>z79.01</td>\n      <td>severe sepsis</td>\n      <td>103495</td>\n      <td></td>\n    </tr>\n    <tr>\n      <th>76517</th>\n      <td>381465764</td>\n      <td>z79.52</td>\n      <td></td>\n      <td>103495</td>\n      <td></td>\n    </tr>\n    <tr>\n      <th>76518</th>\n      <td>381465764</td>\n      <td></td>\n      <td></td>\n      <td>103495</td>\n      <td></td>\n    </tr>\n  </tbody>\n</table>\n<p>76518 rows × 5 columns</p>\n</div>"
     },
     "metadata": {}
    },
    {
     "output_type": "display_data",
     "data": {
      "text/plain": "<IPython.core.display.Javascript object>",
      "application/javascript": "\n            setTimeout(function() {\n                var nbb_cell_id = 50;\n                var nbb_unformatted_code = \"if cohort2.advanceDF():\\n    df = cohort2.getDF()\\n    display(df)\";\n                var nbb_formatted_code = \"if cohort2.advanceDF():\\n    df = cohort2.getDF()\\n    display(df)\";\n                var nbb_cells = Jupyter.notebook.get_cells();\n                for (var i = 0; i < nbb_cells.length; ++i) {\n                    if (nbb_cells[i].input_prompt_number == nbb_cell_id) {\n                        if (nbb_cells[i].get_text() == nbb_unformatted_code) {\n                             nbb_cells[i].set_text(nbb_formatted_code);\n                        }\n                        break;\n                    }\n                }\n            }, 500);\n            "
     },
     "metadata": {}
    }
   ],
   "source": [
    "if cohort2.advanceDF():\n",
    "    df = cohort2.getDF()\n",
    "    display(df)"
   ]
  },
  {
   "cell_type": "code",
   "execution_count": 51,
   "metadata": {},
   "outputs": [
    {
     "output_type": "execute_result",
     "data": {
      "text/plain": [
       "timestamp         20829\n",
       "diagnosis_code     3369\n",
       "disease            1382\n",
       "patient_id          322\n",
       "meds_drugs          383\n",
       "dtype: int64"
      ]
     },
     "metadata": {},
     "execution_count": 51
    },
    {
     "output_type": "display_data",
     "data": {
      "text/plain": "<IPython.core.display.Javascript object>",
      "application/javascript": "\n            setTimeout(function() {\n                var nbb_cell_id = 51;\n                var nbb_unformatted_code = \"df.nunique()\";\n                var nbb_formatted_code = \"df.nunique()\";\n                var nbb_cells = Jupyter.notebook.get_cells();\n                for (var i = 0; i < nbb_cells.length; ++i) {\n                    if (nbb_cells[i].input_prompt_number == nbb_cell_id) {\n                        if (nbb_cells[i].get_text() == nbb_unformatted_code) {\n                             nbb_cells[i].set_text(nbb_formatted_code);\n                        }\n                        break;\n                    }\n                }\n            }, 500);\n            "
     },
     "metadata": {}
    }
   ],
   "source": [
    "df.nunique()"
   ]
  },
  {
   "source": [
    "### Get most significant labtests done for the set of patients identified in case 1"
   ],
   "cell_type": "markdown",
   "metadata": {}
  },
  {
   "cell_type": "code",
   "execution_count": 57,
   "metadata": {},
   "outputs": [
    {
     "output_type": "execute_result",
     "data": {
      "text/plain": [
       "   timestamp diagnosis_code patient_id     meds_drugs\n",
       "1     -47580          k21.9     100044  acetaminophen\n",
       "2     -47580         j01.90     100044  dexamethasone\n",
       "3     157945          k21.9     100044            NaN\n",
       "4   52724188          n76.0     100044            NaN\n",
       "5   52724188          r30.0     100044               "
      ],
      "text/html": "<div>\n<style scoped>\n    .dataframe tbody tr th:only-of-type {\n        vertical-align: middle;\n    }\n\n    .dataframe tbody tr th {\n        vertical-align: top;\n    }\n\n    .dataframe thead th {\n        text-align: right;\n    }\n</style>\n<table border=\"1\" class=\"dataframe\">\n  <thead>\n    <tr style=\"text-align: right;\">\n      <th></th>\n      <th>timestamp</th>\n      <th>diagnosis_code</th>\n      <th>patient_id</th>\n      <th>meds_drugs</th>\n    </tr>\n  </thead>\n  <tbody>\n    <tr>\n      <th>1</th>\n      <td>-47580</td>\n      <td>k21.9</td>\n      <td>100044</td>\n      <td>acetaminophen</td>\n    </tr>\n    <tr>\n      <th>2</th>\n      <td>-47580</td>\n      <td>j01.90</td>\n      <td>100044</td>\n      <td>dexamethasone</td>\n    </tr>\n    <tr>\n      <th>3</th>\n      <td>157945</td>\n      <td>k21.9</td>\n      <td>100044</td>\n      <td>NaN</td>\n    </tr>\n    <tr>\n      <th>4</th>\n      <td>52724188</td>\n      <td>n76.0</td>\n      <td>100044</td>\n      <td>NaN</td>\n    </tr>\n    <tr>\n      <th>5</th>\n      <td>52724188</td>\n      <td>r30.0</td>\n      <td>100044</td>\n      <td></td>\n    </tr>\n  </tbody>\n</table>\n</div>"
     },
     "metadata": {},
     "execution_count": 57
    },
    {
     "output_type": "display_data",
     "data": {
      "text/plain": "<IPython.core.display.Javascript object>",
      "application/javascript": "\n            setTimeout(function() {\n                var nbb_cell_id = 57;\n                var nbb_unformatted_code = \"cohort1.getDF().head()\";\n                var nbb_formatted_code = \"cohort1.getDF().head()\";\n                var nbb_cells = Jupyter.notebook.get_cells();\n                for (var i = 0; i < nbb_cells.length; ++i) {\n                    if (nbb_cells[i].input_prompt_number == nbb_cell_id) {\n                        if (nbb_cells[i].get_text() == nbb_unformatted_code) {\n                             nbb_cells[i].set_text(nbb_formatted_code);\n                        }\n                        break;\n                    }\n                }\n            }, 500);\n            "
     },
     "metadata": {}
    }
   ],
   "source": [
    "cohort1.getDF().head()"
   ]
  },
  {
   "cell_type": "code",
   "execution_count": 58,
   "metadata": {},
   "outputs": [
    {
     "output_type": "execute_result",
     "data": {
      "text/plain": [
       "(58895, 4)"
      ]
     },
     "metadata": {},
     "execution_count": 58
    },
    {
     "output_type": "display_data",
     "data": {
      "text/plain": "<IPython.core.display.Javascript object>",
      "application/javascript": "\n            setTimeout(function() {\n                var nbb_cell_id = 58;\n                var nbb_unformatted_code = \"cohort1.getDF().shape\";\n                var nbb_formatted_code = \"cohort1.getDF().shape\";\n                var nbb_cells = Jupyter.notebook.get_cells();\n                for (var i = 0; i < nbb_cells.length; ++i) {\n                    if (nbb_cells[i].input_prompt_number == nbb_cell_id) {\n                        if (nbb_cells[i].get_text() == nbb_unformatted_code) {\n                             nbb_cells[i].set_text(nbb_formatted_code);\n                        }\n                        break;\n                    }\n                }\n            }, 500);\n            "
     },
     "metadata": {}
    }
   ],
   "source": [
    "cohort1.getDF().shape"
   ]
  },
  {
   "cell_type": "code",
   "execution_count": 64,
   "metadata": {},
   "outputs": [
    {
     "output_type": "execute_result",
     "data": {
      "text/plain": [
       "                                                   Column Name  \\\n",
       "1          Erythrocyte sedimentation rate by Westergren method   \n",
       "2            Leukocytes [#/volume] in Blood by Automated count   \n",
       "3                               Protein [Mass/volume] in Urine   \n",
       "4           Neutrophils [#/volume] in Blood by Automated count   \n",
       "5  Homocysteine cysteine disulfide/Creatinine [Ratio] in Urine   \n",
       "\n",
       "   Cohen's D Lab Test Score  Cohen's D  Count (Cohort)  Min (Cohort)  \\\n",
       "1                     1.088      0.260         35735.0           0.0   \n",
       "2                     0.987      0.215        563155.0           0.0   \n",
       "3                     0.986      0.291          7037.0           1.0   \n",
       "4                     0.977      0.214        375684.0           0.0   \n",
       "5                     0.945      1.352             4.0          12.0   \n",
       "\n",
       "   Min (Column)  Max (Cohort)  Max (Column)  Mean (Cohort)  Mean (Column)  \\\n",
       "1           0.0     53819.281     53819.281      13190.388       9519.499   \n",
       "2           0.0     53820.789     53820.809      10913.717       7739.693   \n",
       "3           1.0     64597.262     64597.262      15780.614      10942.225   \n",
       "4           0.0     76999.891     76999.961      18186.557      13723.589   \n",
       "5           2.0        86.000        86.000         32.750         12.565   \n",
       "\n",
       "   Std Dev (Cohort)  Std Dev (Column)  \n",
       "1         15870.034         13776.229  \n",
       "2         16294.502         14466.235  \n",
       "3         19056.932         16143.271  \n",
       "4         22780.540         20438.169  \n",
       "5            30.801            12.249  "
      ],
      "text/html": "<div>\n<style scoped>\n    .dataframe tbody tr th:only-of-type {\n        vertical-align: middle;\n    }\n\n    .dataframe tbody tr th {\n        vertical-align: top;\n    }\n\n    .dataframe thead th {\n        text-align: right;\n    }\n</style>\n<table border=\"1\" class=\"dataframe\">\n  <thead>\n    <tr style=\"text-align: right;\">\n      <th></th>\n      <th>Column Name</th>\n      <th>Cohen's D Lab Test Score</th>\n      <th>Cohen's D</th>\n      <th>Count (Cohort)</th>\n      <th>Min (Cohort)</th>\n      <th>Min (Column)</th>\n      <th>Max (Cohort)</th>\n      <th>Max (Column)</th>\n      <th>Mean (Cohort)</th>\n      <th>Mean (Column)</th>\n      <th>Std Dev (Cohort)</th>\n      <th>Std Dev (Column)</th>\n    </tr>\n  </thead>\n  <tbody>\n    <tr>\n      <th>1</th>\n      <td>Erythrocyte sedimentation rate by Westergren method</td>\n      <td>1.088</td>\n      <td>0.260</td>\n      <td>35735.0</td>\n      <td>0.0</td>\n      <td>0.0</td>\n      <td>53819.281</td>\n      <td>53819.281</td>\n      <td>13190.388</td>\n      <td>9519.499</td>\n      <td>15870.034</td>\n      <td>13776.229</td>\n    </tr>\n    <tr>\n      <th>2</th>\n      <td>Leukocytes [#/volume] in Blood by Automated count</td>\n      <td>0.987</td>\n      <td>0.215</td>\n      <td>563155.0</td>\n      <td>0.0</td>\n      <td>0.0</td>\n      <td>53820.789</td>\n      <td>53820.809</td>\n      <td>10913.717</td>\n      <td>7739.693</td>\n      <td>16294.502</td>\n      <td>14466.235</td>\n    </tr>\n    <tr>\n      <th>3</th>\n      <td>Protein [Mass/volume] in Urine</td>\n      <td>0.986</td>\n      <td>0.291</td>\n      <td>7037.0</td>\n      <td>1.0</td>\n      <td>1.0</td>\n      <td>64597.262</td>\n      <td>64597.262</td>\n      <td>15780.614</td>\n      <td>10942.225</td>\n      <td>19056.932</td>\n      <td>16143.271</td>\n    </tr>\n    <tr>\n      <th>4</th>\n      <td>Neutrophils [#/volume] in Blood by Automated count</td>\n      <td>0.977</td>\n      <td>0.214</td>\n      <td>375684.0</td>\n      <td>0.0</td>\n      <td>0.0</td>\n      <td>76999.891</td>\n      <td>76999.961</td>\n      <td>18186.557</td>\n      <td>13723.589</td>\n      <td>22780.540</td>\n      <td>20438.169</td>\n    </tr>\n    <tr>\n      <th>5</th>\n      <td>Homocysteine cysteine disulfide/Creatinine [Ratio] in Urine</td>\n      <td>0.945</td>\n      <td>1.352</td>\n      <td>4.0</td>\n      <td>12.0</td>\n      <td>2.0</td>\n      <td>86.000</td>\n      <td>86.000</td>\n      <td>32.750</td>\n      <td>12.565</td>\n      <td>30.801</td>\n      <td>12.249</td>\n    </tr>\n  </tbody>\n</table>\n</div>"
     },
     "metadata": {},
     "execution_count": 64
    },
    {
     "output_type": "display_data",
     "data": {
      "text/plain": "<IPython.core.display.Javascript object>",
      "application/javascript": "\n            setTimeout(function() {\n                var nbb_cell_id = 64;\n                var nbb_unformatted_code = \"labtest_df = cohort1.getNumericEnrichments(category='labtest')\\nlabtest_df.head()\";\n                var nbb_formatted_code = \"labtest_df = cohort1.getNumericEnrichments(category=\\\"labtest\\\")\\nlabtest_df.head()\";\n                var nbb_cells = Jupyter.notebook.get_cells();\n                for (var i = 0; i < nbb_cells.length; ++i) {\n                    if (nbb_cells[i].input_prompt_number == nbb_cell_id) {\n                        if (nbb_cells[i].get_text() == nbb_unformatted_code) {\n                             nbb_cells[i].set_text(nbb_formatted_code);\n                        }\n                        break;\n                    }\n                }\n            }, 500);\n            "
     },
     "metadata": {}
    }
   ],
   "source": [
    "labtest_df = cohort1.getNumericEnrichments(category=\"labtest\")\n",
    "labtest_df.head()"
   ]
  },
  {
   "cell_type": "code",
   "execution_count": 78,
   "metadata": {},
   "outputs": [
    {
     "output_type": "execute_result",
     "data": {
      "text/plain": [
       "-0.95"
      ]
     },
     "metadata": {},
     "execution_count": 78
    },
    {
     "output_type": "display_data",
     "data": {
      "text/plain": "<IPython.core.display.Javascript object>",
      "application/javascript": "\n            setTimeout(function() {\n                var nbb_cell_id = 78;\n                var nbb_unformatted_code = \"labtest_df['Cohen\\\\'s D Lab Test Score'].min()\";\n                var nbb_formatted_code = \"labtest_df[\\\"Cohen's D Lab Test Score\\\"].min()\";\n                var nbb_cells = Jupyter.notebook.get_cells();\n                for (var i = 0; i < nbb_cells.length; ++i) {\n                    if (nbb_cells[i].input_prompt_number == nbb_cell_id) {\n                        if (nbb_cells[i].get_text() == nbb_unformatted_code) {\n                             nbb_cells[i].set_text(nbb_formatted_code);\n                        }\n                        break;\n                    }\n                }\n            }, 500);\n            "
     },
     "metadata": {}
    }
   ],
   "source": [
    "labtest_df[\"Cohen's D Lab Test Score\"].min()"
   ]
  },
  {
   "cell_type": "code",
   "execution_count": 76,
   "metadata": {},
   "outputs": [
    {
     "output_type": "execute_result",
     "data": {
      "text/plain": [
       "0.0"
      ]
     },
     "metadata": {},
     "execution_count": 76
    },
    {
     "output_type": "display_data",
     "data": {
      "text/plain": "<IPython.core.display.Javascript object>",
      "application/javascript": "\n            setTimeout(function() {\n                var nbb_cell_id = 76;\n                var nbb_unformatted_code = \"labtest_df['Cohen\\\\'s D Lab Test Score'].median()\";\n                var nbb_formatted_code = \"labtest_df[\\\"Cohen's D Lab Test Score\\\"].median()\";\n                var nbb_cells = Jupyter.notebook.get_cells();\n                for (var i = 0; i < nbb_cells.length; ++i) {\n                    if (nbb_cells[i].input_prompt_number == nbb_cell_id) {\n                        if (nbb_cells[i].get_text() == nbb_unformatted_code) {\n                             nbb_cells[i].set_text(nbb_formatted_code);\n                        }\n                        break;\n                    }\n                }\n            }, 500);\n            "
     },
     "metadata": {}
    }
   ],
   "source": [
    "labtest_df[\"Cohen's D Lab Test Score\"].median()"
   ]
  },
  {
   "cell_type": "code",
   "execution_count": 77,
   "metadata": {},
   "outputs": [
    {
     "output_type": "execute_result",
     "data": {
      "text/plain": [
       "1.088"
      ]
     },
     "metadata": {},
     "execution_count": 77
    },
    {
     "output_type": "display_data",
     "data": {
      "text/plain": "<IPython.core.display.Javascript object>",
      "application/javascript": "\n            setTimeout(function() {\n                var nbb_cell_id = 77;\n                var nbb_unformatted_code = \"labtest_df['Cohen\\\\'s D Lab Test Score'].max()\";\n                var nbb_formatted_code = \"labtest_df[\\\"Cohen's D Lab Test Score\\\"].max()\";\n                var nbb_cells = Jupyter.notebook.get_cells();\n                for (var i = 0; i < nbb_cells.length; ++i) {\n                    if (nbb_cells[i].input_prompt_number == nbb_cell_id) {\n                        if (nbb_cells[i].get_text() == nbb_unformatted_code) {\n                             nbb_cells[i].set_text(nbb_formatted_code);\n                        }\n                        break;\n                    }\n                }\n            }, 500);\n            "
     },
     "metadata": {}
    }
   ],
   "source": [
    "labtest_df[\"Cohen's D Lab Test Score\"].max()"
   ]
  },
  {
   "cell_type": "code",
   "execution_count": 75,
   "metadata": {},
   "outputs": [
    {
     "output_type": "execute_result",
     "data": {
      "text/plain": [
       "Column Name                 2883\n",
       "Cohen's D Lab Test Score    2883\n",
       "Cohen's D                   2883\n",
       "Count (Cohort)              2883\n",
       "Min (Cohort)                2883\n",
       "Min (Column)                2883\n",
       "Max (Cohort)                2883\n",
       "Max (Column)                2883\n",
       "Mean (Cohort)               2883\n",
       "Mean (Column)               2883\n",
       "Std Dev (Cohort)            2883\n",
       "Std Dev (Column)            2883\n",
       "dtype: int64"
      ]
     },
     "metadata": {},
     "execution_count": 75
    },
    {
     "output_type": "display_data",
     "data": {
      "text/plain": "<IPython.core.display.Javascript object>",
      "application/javascript": "\n            setTimeout(function() {\n                var nbb_cell_id = 75;\n                var nbb_unformatted_code = \"labtest_df[labtest_df['Cohen\\\\'s D Lab Test Score'] < 0].count()\";\n                var nbb_formatted_code = \"labtest_df[labtest_df[\\\"Cohen's D Lab Test Score\\\"] < 0].count()\";\n                var nbb_cells = Jupyter.notebook.get_cells();\n                for (var i = 0; i < nbb_cells.length; ++i) {\n                    if (nbb_cells[i].input_prompt_number == nbb_cell_id) {\n                        if (nbb_cells[i].get_text() == nbb_unformatted_code) {\n                             nbb_cells[i].set_text(nbb_formatted_code);\n                        }\n                        break;\n                    }\n                }\n            }, 500);\n            "
     },
     "metadata": {}
    }
   ],
   "source": [
    "labtest_df[labtest_df[\"Cohen's D Lab Test Score\"] < 0].count()"
   ]
  },
  {
   "cell_type": "code",
   "execution_count": 74,
   "metadata": {},
   "outputs": [
    {
     "output_type": "execute_result",
     "data": {
      "text/plain": [
       "                                                                      Column Name  \\\n",
       "793                          Calcium oxalate [Energy Difference] in 24 hour Urine   \n",
       "857                             Base excess in Arterial cord blood by calculation   \n",
       "1964                                                            U Brush Crys-Mayo   \n",
       "2262                             Base excess in Mixed venous blood by calculation   \n",
       "2283                                                         Base Excess Cord Art   \n",
       "2339                            Coagulation index in Blood by Thromboelastography   \n",
       "2724                     Urea nitrogen/Creatinine [Mass Ratio] in Serum or Plasma   \n",
       "2875                                                    HXHIV 1/2 Ext QC Exp Date   \n",
       "3531                                     BUN/Creat Ratio......................MHS   \n",
       "3675                                     Osmolality Calc......................MHS   \n",
       "3730                                                               Date last dose   \n",
       "4032  Calcium hydrogen phosphate dihydrate [Saturation Fraction] in 24 hour Urine   \n",
       "4155              Urate crystals [Presence] in Urine sediment by Light microscopy   \n",
       "4217                                 Osmolality of Serum or Plasma by calculation   \n",
       "4292                                                              Neg Base Ex POC   \n",
       "4362                                                           HX BE-Cord Ven POC   \n",
       "4755                                     Base Excess Neg  POC.................MHS   \n",
       "4901                                Base excess in Capillary blood by calculation   \n",
       "4936                          Sodium urate [Saturation Fraction] in 24 hour Urine   \n",
       "4962                                 Urate [Saturation Fraction] in 24 hour Urine   \n",
       "5434                              Base excess in Venous cord blood by calculation   \n",
       "5935                                                     Mass Difference (w/TTRX)   \n",
       "\n",
       "      Cohen's D Lab Test Score  Cohen's D  Count (Cohort)  Min (Cohort)  \\\n",
       "793                      0.247      0.094           829.0 -7.482000e+01   \n",
       "857                      0.231      0.137            51.0 -1.510000e+01   \n",
       "1964                     0.071      0.043            54.0 -5.590000e+00   \n",
       "2262                     0.038      0.040            20.0 -1.200000e+01   \n",
       "2283                     0.035      0.058             3.0 -2.000000e+00   \n",
       "2339                     0.030      0.012          3323.0 -6.810000e+01   \n",
       "2724                    -0.000     -0.000          7794.0 -9.990000e+02   \n",
       "2875                     0.000      0.000             9.0 -9.223372e+14   \n",
       "3531                    -0.039     -0.011          7058.0 -9.987600e+02   \n",
       "3675                    -0.054     -0.020          1717.0 -9.983900e+02   \n",
       "3730                    -0.060     -0.022           926.0 -9.223372e+14   \n",
       "4032                    -0.094     -0.036           830.0 -8.100000e+00   \n",
       "4155                    -0.108     -0.357             1.0 -3.120000e+00   \n",
       "4217                    -0.116     -0.044           993.0 -9.966700e+02   \n",
       "4292                    -0.126     -0.180             5.0 -2.000000e+01   \n",
       "4362                    -0.133     -0.128            11.0 -3.000000e+01   \n",
       "4755                    -0.191     -0.246             6.0 -1.923000e+01   \n",
       "4901                    -0.213     -0.707             1.0 -5.000000e+00   \n",
       "4936                    -0.216     -0.083           842.0 -6.049000e+01   \n",
       "4962                    -0.220     -0.084           829.0 -1.785000e+01   \n",
       "5434                    -0.321     -0.186            58.0 -1.393000e+01   \n",
       "5935                    -0.629     -0.900             4.0 -1.491800e+02   \n",
       "\n",
       "      Min (Column)  Max (Cohort)  Max (Column)  Mean (Cohort)  Mean (Column)  \\\n",
       "793  -7.497000e+01  4.640000e+00  4.640000e+00  -1.416200e+01  -1.644200e+01   \n",
       "857  -1.533000e+01  4.800000e+00  4.880000e+00  -2.940000e+00  -3.731000e+00   \n",
       "1964 -5.780000e+00  2.620000e+00  2.660000e+00  -1.085000e+00  -1.194000e+00   \n",
       "2262 -1.300000e+01  4.000000e+00  6.000000e+00  -3.850000e+00  -4.070000e+00   \n",
       "2283 -3.920000e+00  3.000000e-01  1.850000e+00  -9.230000e-01  -1.027000e+00   \n",
       "2339 -6.810000e+01  6.690000e+00  6.700000e+00  -1.524000e+01  -1.550100e+01   \n",
       "2724 -9.990000e+02  1.888200e+02  1.889000e+02  -3.985090e+02  -3.984990e+02   \n",
       "2875 -9.223372e+14 -9.223372e+14 -9.223372e+14  -9.223372e+14  -9.223372e+14   \n",
       "3531 -9.989300e+02  1.299900e+02  1.299900e+02  -4.305490e+02  -4.268470e+02   \n",
       "3675 -9.988400e+02  3.578900e+02  3.583000e+02  -3.330500e+02  -3.252230e+02   \n",
       "3730 -9.223372e+14  9.594974e+09  9.949340e+09  -3.983904e+12  -2.805824e+12   \n",
       "4032 -8.110000e+00  4.140000e+00  4.140000e+00  -2.305000e+00  -2.188000e+00   \n",
       "4155 -8.010000e+00 -3.120000e+00  3.340000e+00  -3.120000e+00  -2.043000e+00   \n",
       "4217 -9.989900e+02  3.564300e+02  3.588300e+02  -3.166500e+02  -2.988990e+02   \n",
       "4292 -2.000000e+01  9.000000e+00  9.000000e+00  -3.600000e+00  -1.667000e+00   \n",
       "4362 -3.000000e+01  2.400000e+01  2.400000e+01  -5.454000e+00  -3.125000e+00   \n",
       "4755 -1.923000e+01  1.947000e+01  1.947000e+01  -4.810000e+00  -9.610000e-01   \n",
       "4901 -5.000000e+00 -5.000000e+00  0.000000e+00  -5.000000e+00  -2.500000e+00   \n",
       "4936 -6.089000e+01  4.210000e+00  4.210000e+00  -1.346700e+01  -1.201400e+01   \n",
       "4962 -1.785000e+01  7.580000e+00  7.580000e+00  -4.976000e+00  -4.415000e+00   \n",
       "5434 -1.393000e+01  1.780000e+00  2.180000e+00  -4.690000e+00  -3.791000e+00   \n",
       "5935 -1.491800e+02 -5.233000e+01  6.200000e+01  -9.739700e+01  -3.759400e+01   \n",
       "\n",
       "      Std Dev (Cohort)  Std Dev (Column)  \n",
       "793       2.373400e+01      2.420100e+01  \n",
       "857       5.418000e+00      5.841000e+00  \n",
       "1964      2.524000e+00      2.558000e+00  \n",
       "2262      5.659000e+00      5.387000e+00  \n",
       "2283      9.450000e-01      1.800000e+00  \n",
       "2339      2.161400e+01      2.152600e+01  \n",
       "2724      3.450610e+02      3.443990e+02  \n",
       "2875      0.000000e+00      0.000000e+00  \n",
       "3531      3.276160e+02      3.289800e+02  \n",
       "3675      3.909310e+02      3.898200e+02  \n",
       "3730      6.048871e+13      5.079586e+13  \n",
       "4032      3.259000e+00      3.254000e+00  \n",
       "4155      2.000000e-03      2.937000e+00  \n",
       "4217      3.965650e+02      4.000520e+02  \n",
       "4292      9.972000e+00      1.016800e+01  \n",
       "4362      1.939200e+01      1.745000e+01  \n",
       "4755      1.423800e+01      1.515500e+01  \n",
       "4901      0.000000e+00      2.500000e+00  \n",
       "4936      1.838400e+01      1.748600e+01  \n",
       "4962      6.787000e+00      6.658000e+00  \n",
       "5434      5.032000e+00      4.735000e+00  \n",
       "5935      4.051700e+01      6.708800e+01  "
      ],
      "text/html": "<div>\n<style scoped>\n    .dataframe tbody tr th:only-of-type {\n        vertical-align: middle;\n    }\n\n    .dataframe tbody tr th {\n        vertical-align: top;\n    }\n\n    .dataframe thead th {\n        text-align: right;\n    }\n</style>\n<table border=\"1\" class=\"dataframe\">\n  <thead>\n    <tr style=\"text-align: right;\">\n      <th></th>\n      <th>Column Name</th>\n      <th>Cohen's D Lab Test Score</th>\n      <th>Cohen's D</th>\n      <th>Count (Cohort)</th>\n      <th>Min (Cohort)</th>\n      <th>Min (Column)</th>\n      <th>Max (Cohort)</th>\n      <th>Max (Column)</th>\n      <th>Mean (Cohort)</th>\n      <th>Mean (Column)</th>\n      <th>Std Dev (Cohort)</th>\n      <th>Std Dev (Column)</th>\n    </tr>\n  </thead>\n  <tbody>\n    <tr>\n      <th>793</th>\n      <td>Calcium oxalate [Energy Difference] in 24 hour Urine</td>\n      <td>0.247</td>\n      <td>0.094</td>\n      <td>829.0</td>\n      <td>-7.482000e+01</td>\n      <td>-7.497000e+01</td>\n      <td>4.640000e+00</td>\n      <td>4.640000e+00</td>\n      <td>-1.416200e+01</td>\n      <td>-1.644200e+01</td>\n      <td>2.373400e+01</td>\n      <td>2.420100e+01</td>\n    </tr>\n    <tr>\n      <th>857</th>\n      <td>Base excess in Arterial cord blood by calculation</td>\n      <td>0.231</td>\n      <td>0.137</td>\n      <td>51.0</td>\n      <td>-1.510000e+01</td>\n      <td>-1.533000e+01</td>\n      <td>4.800000e+00</td>\n      <td>4.880000e+00</td>\n      <td>-2.940000e+00</td>\n      <td>-3.731000e+00</td>\n      <td>5.418000e+00</td>\n      <td>5.841000e+00</td>\n    </tr>\n    <tr>\n      <th>1964</th>\n      <td>U Brush Crys-Mayo</td>\n      <td>0.071</td>\n      <td>0.043</td>\n      <td>54.0</td>\n      <td>-5.590000e+00</td>\n      <td>-5.780000e+00</td>\n      <td>2.620000e+00</td>\n      <td>2.660000e+00</td>\n      <td>-1.085000e+00</td>\n      <td>-1.194000e+00</td>\n      <td>2.524000e+00</td>\n      <td>2.558000e+00</td>\n    </tr>\n    <tr>\n      <th>2262</th>\n      <td>Base excess in Mixed venous blood by calculation</td>\n      <td>0.038</td>\n      <td>0.040</td>\n      <td>20.0</td>\n      <td>-1.200000e+01</td>\n      <td>-1.300000e+01</td>\n      <td>4.000000e+00</td>\n      <td>6.000000e+00</td>\n      <td>-3.850000e+00</td>\n      <td>-4.070000e+00</td>\n      <td>5.659000e+00</td>\n      <td>5.387000e+00</td>\n    </tr>\n    <tr>\n      <th>2283</th>\n      <td>Base Excess Cord Art</td>\n      <td>0.035</td>\n      <td>0.058</td>\n      <td>3.0</td>\n      <td>-2.000000e+00</td>\n      <td>-3.920000e+00</td>\n      <td>3.000000e-01</td>\n      <td>1.850000e+00</td>\n      <td>-9.230000e-01</td>\n      <td>-1.027000e+00</td>\n      <td>9.450000e-01</td>\n      <td>1.800000e+00</td>\n    </tr>\n    <tr>\n      <th>2339</th>\n      <td>Coagulation index in Blood by Thromboelastography</td>\n      <td>0.030</td>\n      <td>0.012</td>\n      <td>3323.0</td>\n      <td>-6.810000e+01</td>\n      <td>-6.810000e+01</td>\n      <td>6.690000e+00</td>\n      <td>6.700000e+00</td>\n      <td>-1.524000e+01</td>\n      <td>-1.550100e+01</td>\n      <td>2.161400e+01</td>\n      <td>2.152600e+01</td>\n    </tr>\n    <tr>\n      <th>2724</th>\n      <td>Urea nitrogen/Creatinine [Mass Ratio] in Serum or Plasma</td>\n      <td>-0.000</td>\n      <td>-0.000</td>\n      <td>7794.0</td>\n      <td>-9.990000e+02</td>\n      <td>-9.990000e+02</td>\n      <td>1.888200e+02</td>\n      <td>1.889000e+02</td>\n      <td>-3.985090e+02</td>\n      <td>-3.984990e+02</td>\n      <td>3.450610e+02</td>\n      <td>3.443990e+02</td>\n    </tr>\n    <tr>\n      <th>2875</th>\n      <td>HXHIV 1/2 Ext QC Exp Date</td>\n      <td>0.000</td>\n      <td>0.000</td>\n      <td>9.0</td>\n      <td>-9.223372e+14</td>\n      <td>-9.223372e+14</td>\n      <td>-9.223372e+14</td>\n      <td>-9.223372e+14</td>\n      <td>-9.223372e+14</td>\n      <td>-9.223372e+14</td>\n      <td>0.000000e+00</td>\n      <td>0.000000e+00</td>\n    </tr>\n    <tr>\n      <th>3531</th>\n      <td>BUN/Creat Ratio......................MHS</td>\n      <td>-0.039</td>\n      <td>-0.011</td>\n      <td>7058.0</td>\n      <td>-9.987600e+02</td>\n      <td>-9.989300e+02</td>\n      <td>1.299900e+02</td>\n      <td>1.299900e+02</td>\n      <td>-4.305490e+02</td>\n      <td>-4.268470e+02</td>\n      <td>3.276160e+02</td>\n      <td>3.289800e+02</td>\n    </tr>\n    <tr>\n      <th>3675</th>\n      <td>Osmolality Calc......................MHS</td>\n      <td>-0.054</td>\n      <td>-0.020</td>\n      <td>1717.0</td>\n      <td>-9.983900e+02</td>\n      <td>-9.988400e+02</td>\n      <td>3.578900e+02</td>\n      <td>3.583000e+02</td>\n      <td>-3.330500e+02</td>\n      <td>-3.252230e+02</td>\n      <td>3.909310e+02</td>\n      <td>3.898200e+02</td>\n    </tr>\n    <tr>\n      <th>3730</th>\n      <td>Date last dose</td>\n      <td>-0.060</td>\n      <td>-0.022</td>\n      <td>926.0</td>\n      <td>-9.223372e+14</td>\n      <td>-9.223372e+14</td>\n      <td>9.594974e+09</td>\n      <td>9.949340e+09</td>\n      <td>-3.983904e+12</td>\n      <td>-2.805824e+12</td>\n      <td>6.048871e+13</td>\n      <td>5.079586e+13</td>\n    </tr>\n    <tr>\n      <th>4032</th>\n      <td>Calcium hydrogen phosphate dihydrate [Saturation Fraction] in 24 hour Urine</td>\n      <td>-0.094</td>\n      <td>-0.036</td>\n      <td>830.0</td>\n      <td>-8.100000e+00</td>\n      <td>-8.110000e+00</td>\n      <td>4.140000e+00</td>\n      <td>4.140000e+00</td>\n      <td>-2.305000e+00</td>\n      <td>-2.188000e+00</td>\n      <td>3.259000e+00</td>\n      <td>3.254000e+00</td>\n    </tr>\n    <tr>\n      <th>4155</th>\n      <td>Urate crystals [Presence] in Urine sediment by Light microscopy</td>\n      <td>-0.108</td>\n      <td>-0.357</td>\n      <td>1.0</td>\n      <td>-3.120000e+00</td>\n      <td>-8.010000e+00</td>\n      <td>-3.120000e+00</td>\n      <td>3.340000e+00</td>\n      <td>-3.120000e+00</td>\n      <td>-2.043000e+00</td>\n      <td>2.000000e-03</td>\n      <td>2.937000e+00</td>\n    </tr>\n    <tr>\n      <th>4217</th>\n      <td>Osmolality of Serum or Plasma by calculation</td>\n      <td>-0.116</td>\n      <td>-0.044</td>\n      <td>993.0</td>\n      <td>-9.966700e+02</td>\n      <td>-9.989900e+02</td>\n      <td>3.564300e+02</td>\n      <td>3.588300e+02</td>\n      <td>-3.166500e+02</td>\n      <td>-2.988990e+02</td>\n      <td>3.965650e+02</td>\n      <td>4.000520e+02</td>\n    </tr>\n    <tr>\n      <th>4292</th>\n      <td>Neg Base Ex POC</td>\n      <td>-0.126</td>\n      <td>-0.180</td>\n      <td>5.0</td>\n      <td>-2.000000e+01</td>\n      <td>-2.000000e+01</td>\n      <td>9.000000e+00</td>\n      <td>9.000000e+00</td>\n      <td>-3.600000e+00</td>\n      <td>-1.667000e+00</td>\n      <td>9.972000e+00</td>\n      <td>1.016800e+01</td>\n    </tr>\n    <tr>\n      <th>4362</th>\n      <td>HX BE-Cord Ven POC</td>\n      <td>-0.133</td>\n      <td>-0.128</td>\n      <td>11.0</td>\n      <td>-3.000000e+01</td>\n      <td>-3.000000e+01</td>\n      <td>2.400000e+01</td>\n      <td>2.400000e+01</td>\n      <td>-5.454000e+00</td>\n      <td>-3.125000e+00</td>\n      <td>1.939200e+01</td>\n      <td>1.745000e+01</td>\n    </tr>\n    <tr>\n      <th>4755</th>\n      <td>Base Excess Neg  POC.................MHS</td>\n      <td>-0.191</td>\n      <td>-0.246</td>\n      <td>6.0</td>\n      <td>-1.923000e+01</td>\n      <td>-1.923000e+01</td>\n      <td>1.947000e+01</td>\n      <td>1.947000e+01</td>\n      <td>-4.810000e+00</td>\n      <td>-9.610000e-01</td>\n      <td>1.423800e+01</td>\n      <td>1.515500e+01</td>\n    </tr>\n    <tr>\n      <th>4901</th>\n      <td>Base excess in Capillary blood by calculation</td>\n      <td>-0.213</td>\n      <td>-0.707</td>\n      <td>1.0</td>\n      <td>-5.000000e+00</td>\n      <td>-5.000000e+00</td>\n      <td>-5.000000e+00</td>\n      <td>0.000000e+00</td>\n      <td>-5.000000e+00</td>\n      <td>-2.500000e+00</td>\n      <td>0.000000e+00</td>\n      <td>2.500000e+00</td>\n    </tr>\n    <tr>\n      <th>4936</th>\n      <td>Sodium urate [Saturation Fraction] in 24 hour Urine</td>\n      <td>-0.216</td>\n      <td>-0.083</td>\n      <td>842.0</td>\n      <td>-6.049000e+01</td>\n      <td>-6.089000e+01</td>\n      <td>4.210000e+00</td>\n      <td>4.210000e+00</td>\n      <td>-1.346700e+01</td>\n      <td>-1.201400e+01</td>\n      <td>1.838400e+01</td>\n      <td>1.748600e+01</td>\n    </tr>\n    <tr>\n      <th>4962</th>\n      <td>Urate [Saturation Fraction] in 24 hour Urine</td>\n      <td>-0.220</td>\n      <td>-0.084</td>\n      <td>829.0</td>\n      <td>-1.785000e+01</td>\n      <td>-1.785000e+01</td>\n      <td>7.580000e+00</td>\n      <td>7.580000e+00</td>\n      <td>-4.976000e+00</td>\n      <td>-4.415000e+00</td>\n      <td>6.787000e+00</td>\n      <td>6.658000e+00</td>\n    </tr>\n    <tr>\n      <th>5434</th>\n      <td>Base excess in Venous cord blood by calculation</td>\n      <td>-0.321</td>\n      <td>-0.186</td>\n      <td>58.0</td>\n      <td>-1.393000e+01</td>\n      <td>-1.393000e+01</td>\n      <td>1.780000e+00</td>\n      <td>2.180000e+00</td>\n      <td>-4.690000e+00</td>\n      <td>-3.791000e+00</td>\n      <td>5.032000e+00</td>\n      <td>4.735000e+00</td>\n    </tr>\n    <tr>\n      <th>5935</th>\n      <td>Mass Difference (w/TTRX)</td>\n      <td>-0.629</td>\n      <td>-0.900</td>\n      <td>4.0</td>\n      <td>-1.491800e+02</td>\n      <td>-1.491800e+02</td>\n      <td>-5.233000e+01</td>\n      <td>6.200000e+01</td>\n      <td>-9.739700e+01</td>\n      <td>-3.759400e+01</td>\n      <td>4.051700e+01</td>\n      <td>6.708800e+01</td>\n    </tr>\n  </tbody>\n</table>\n</div>"
     },
     "metadata": {},
     "execution_count": 74
    },
    {
     "output_type": "display_data",
     "data": {
      "text/plain": "<IPython.core.display.Javascript object>",
      "application/javascript": "\n            setTimeout(function() {\n                var nbb_cell_id = 74;\n                var nbb_unformatted_code = \"labtest_df[labtest_df['Mean (Cohort)'] < 0]\";\n                var nbb_formatted_code = \"labtest_df[labtest_df[\\\"Mean (Cohort)\\\"] < 0]\";\n                var nbb_cells = Jupyter.notebook.get_cells();\n                for (var i = 0; i < nbb_cells.length; ++i) {\n                    if (nbb_cells[i].input_prompt_number == nbb_cell_id) {\n                        if (nbb_cells[i].get_text() == nbb_unformatted_code) {\n                             nbb_cells[i].set_text(nbb_formatted_code);\n                        }\n                        break;\n                    }\n                }\n            }, 500);\n            "
     },
     "metadata": {}
    }
   ],
   "source": [
    "labtest_df[labtest_df[\"Mean (Cohort)\"] < 0]"
   ]
  },
  {
   "cell_type": "code",
   "execution_count": null,
   "metadata": {},
   "outputs": [],
   "source": []
  },
  {
   "cell_type": "code",
   "execution_count": 70,
   "metadata": {},
   "outputs": [
    {
     "output_type": "execute_result",
     "data": {
      "text/plain": [
       "       Cohen's D Lab Test Score    Cohen's D  Count (Cohort)  Min (Cohort)  \\\n",
       "count               5983.000000  5983.000000     5983.000000  5.983000e+03   \n",
       "mean                  -0.009260    -0.004962     3801.902056 -3.044959e+11   \n",
       "std                    0.238951     0.390760    33322.328058  1.686409e+13   \n",
       "min                   -0.950000    -2.195000        1.000000 -9.223372e+14   \n",
       "25%                   -0.150000    -0.116000        3.000000  5.650000e-01   \n",
       "50%                    0.000000     0.000000       16.000000  4.240000e+00   \n",
       "75%                    0.127500     0.099000      110.000000  3.300000e+01   \n",
       "max                    1.088000     2.504000   717919.000000  2.018052e+13   \n",
       "\n",
       "       Min (Column)  Max (Cohort)  Max (Column)  Mean (Cohort)  Mean (Column)  \\\n",
       "count  5.983000e+03  5.983000e+03  5.983000e+03   5.983000e+03   5.983000e+03   \n",
       "mean  -4.588829e+11  1.550394e+11  1.705841e+11  -3.615453e+09  -4.891800e+10   \n",
       "std    2.065165e+13  1.957081e+13  1.961400e+13   1.410586e+13   1.476574e+13   \n",
       "min   -9.223372e+14 -9.223372e+14 -9.223372e+14  -9.223372e+14  -9.223372e+14   \n",
       "25%    3.500000e-01  1.190000e+01  1.481500e+01   7.159000e+00   7.302000e+00   \n",
       "50%    2.000000e+00  8.000000e+01  9.200000e+01   4.450000e+01   4.637600e+01   \n",
       "75%    1.730000e+01  5.325000e+02  6.000000e+02   2.626345e+02   2.670775e+02   \n",
       "max    2.018051e+13  8.888268e+14  8.888268e+14   4.463440e+14   4.560197e+14   \n",
       "\n",
       "       Std Dev (Cohort)  Std Dev (Column)  \n",
       "count      5.983000e+03      5.983000e+03  \n",
       "mean       1.048316e+11      1.739796e+11  \n",
       "std        4.860910e+12      7.207750e+12  \n",
       "min        0.000000e+00      0.000000e+00  \n",
       "25%        1.197000e+00      2.876500e+00  \n",
       "50%        1.536100e+01      2.146200e+01  \n",
       "75%        1.116350e+02      1.464375e+02  \n",
       "max        2.705954e+14      4.347970e+14  "
      ],
      "text/html": "<div>\n<style scoped>\n    .dataframe tbody tr th:only-of-type {\n        vertical-align: middle;\n    }\n\n    .dataframe tbody tr th {\n        vertical-align: top;\n    }\n\n    .dataframe thead th {\n        text-align: right;\n    }\n</style>\n<table border=\"1\" class=\"dataframe\">\n  <thead>\n    <tr style=\"text-align: right;\">\n      <th></th>\n      <th>Cohen's D Lab Test Score</th>\n      <th>Cohen's D</th>\n      <th>Count (Cohort)</th>\n      <th>Min (Cohort)</th>\n      <th>Min (Column)</th>\n      <th>Max (Cohort)</th>\n      <th>Max (Column)</th>\n      <th>Mean (Cohort)</th>\n      <th>Mean (Column)</th>\n      <th>Std Dev (Cohort)</th>\n      <th>Std Dev (Column)</th>\n    </tr>\n  </thead>\n  <tbody>\n    <tr>\n      <th>count</th>\n      <td>5983.000000</td>\n      <td>5983.000000</td>\n      <td>5983.000000</td>\n      <td>5.983000e+03</td>\n      <td>5.983000e+03</td>\n      <td>5.983000e+03</td>\n      <td>5.983000e+03</td>\n      <td>5.983000e+03</td>\n      <td>5.983000e+03</td>\n      <td>5.983000e+03</td>\n      <td>5.983000e+03</td>\n    </tr>\n    <tr>\n      <th>mean</th>\n      <td>-0.009260</td>\n      <td>-0.004962</td>\n      <td>3801.902056</td>\n      <td>-3.044959e+11</td>\n      <td>-4.588829e+11</td>\n      <td>1.550394e+11</td>\n      <td>1.705841e+11</td>\n      <td>-3.615453e+09</td>\n      <td>-4.891800e+10</td>\n      <td>1.048316e+11</td>\n      <td>1.739796e+11</td>\n    </tr>\n    <tr>\n      <th>std</th>\n      <td>0.238951</td>\n      <td>0.390760</td>\n      <td>33322.328058</td>\n      <td>1.686409e+13</td>\n      <td>2.065165e+13</td>\n      <td>1.957081e+13</td>\n      <td>1.961400e+13</td>\n      <td>1.410586e+13</td>\n      <td>1.476574e+13</td>\n      <td>4.860910e+12</td>\n      <td>7.207750e+12</td>\n    </tr>\n    <tr>\n      <th>min</th>\n      <td>-0.950000</td>\n      <td>-2.195000</td>\n      <td>1.000000</td>\n      <td>-9.223372e+14</td>\n      <td>-9.223372e+14</td>\n      <td>-9.223372e+14</td>\n      <td>-9.223372e+14</td>\n      <td>-9.223372e+14</td>\n      <td>-9.223372e+14</td>\n      <td>0.000000e+00</td>\n      <td>0.000000e+00</td>\n    </tr>\n    <tr>\n      <th>25%</th>\n      <td>-0.150000</td>\n      <td>-0.116000</td>\n      <td>3.000000</td>\n      <td>5.650000e-01</td>\n      <td>3.500000e-01</td>\n      <td>1.190000e+01</td>\n      <td>1.481500e+01</td>\n      <td>7.159000e+00</td>\n      <td>7.302000e+00</td>\n      <td>1.197000e+00</td>\n      <td>2.876500e+00</td>\n    </tr>\n    <tr>\n      <th>50%</th>\n      <td>0.000000</td>\n      <td>0.000000</td>\n      <td>16.000000</td>\n      <td>4.240000e+00</td>\n      <td>2.000000e+00</td>\n      <td>8.000000e+01</td>\n      <td>9.200000e+01</td>\n      <td>4.450000e+01</td>\n      <td>4.637600e+01</td>\n      <td>1.536100e+01</td>\n      <td>2.146200e+01</td>\n    </tr>\n    <tr>\n      <th>75%</th>\n      <td>0.127500</td>\n      <td>0.099000</td>\n      <td>110.000000</td>\n      <td>3.300000e+01</td>\n      <td>1.730000e+01</td>\n      <td>5.325000e+02</td>\n      <td>6.000000e+02</td>\n      <td>2.626345e+02</td>\n      <td>2.670775e+02</td>\n      <td>1.116350e+02</td>\n      <td>1.464375e+02</td>\n    </tr>\n    <tr>\n      <th>max</th>\n      <td>1.088000</td>\n      <td>2.504000</td>\n      <td>717919.000000</td>\n      <td>2.018052e+13</td>\n      <td>2.018051e+13</td>\n      <td>8.888268e+14</td>\n      <td>8.888268e+14</td>\n      <td>4.463440e+14</td>\n      <td>4.560197e+14</td>\n      <td>2.705954e+14</td>\n      <td>4.347970e+14</td>\n    </tr>\n  </tbody>\n</table>\n</div>"
     },
     "metadata": {},
     "execution_count": 70
    },
    {
     "output_type": "display_data",
     "data": {
      "text/plain": "<IPython.core.display.Javascript object>",
      "application/javascript": "\n            setTimeout(function() {\n                var nbb_cell_id = 70;\n                var nbb_unformatted_code = \"labtest_df.describe()\";\n                var nbb_formatted_code = \"labtest_df.describe()\";\n                var nbb_cells = Jupyter.notebook.get_cells();\n                for (var i = 0; i < nbb_cells.length; ++i) {\n                    if (nbb_cells[i].input_prompt_number == nbb_cell_id) {\n                        if (nbb_cells[i].get_text() == nbb_unformatted_code) {\n                             nbb_cells[i].set_text(nbb_formatted_code);\n                        }\n                        break;\n                    }\n                }\n            }, 500);\n            "
     },
     "metadata": {}
    }
   ],
   "source": [
    "labtest_df.describe()"
   ]
  },
  {
   "cell_type": "code",
   "execution_count": 80,
   "metadata": {},
   "outputs": [
    {
     "output_type": "display_data",
     "data": {
      "text/plain": "<Figure size 432x288 with 1 Axes>",
      "image/svg+xml": "<?xml version=\"1.0\" encoding=\"utf-8\" standalone=\"no\"?>\n<!DOCTYPE svg PUBLIC \"-//W3C//DTD SVG 1.1//EN\"\n  \"http://www.w3.org/Graphics/SVG/1.1/DTD/svg11.dtd\">\n<svg height=\"248.518125pt\" version=\"1.1\" viewBox=\"0 0 375.2875 248.518125\" width=\"375.2875pt\" xmlns=\"http://www.w3.org/2000/svg\" xmlns:xlink=\"http://www.w3.org/1999/xlink\">\n <metadata>\n  <rdf:RDF xmlns:cc=\"http://creativecommons.org/ns#\" xmlns:dc=\"http://purl.org/dc/elements/1.1/\" xmlns:rdf=\"http://www.w3.org/1999/02/22-rdf-syntax-ns#\">\n   <cc:Work>\n    <dc:type rdf:resource=\"http://purl.org/dc/dcmitype/StillImage\"/>\n    <dc:date>2021-05-17T16:32:00.975748</dc:date>\n    <dc:format>image/svg+xml</dc:format>\n    <dc:creator>\n     <cc:Agent>\n      <dc:title>Matplotlib v3.4.2, https://matplotlib.org/</dc:title>\n     </cc:Agent>\n    </dc:creator>\n   </cc:Work>\n  </rdf:RDF>\n </metadata>\n <defs>\n  <style type=\"text/css\">*{stroke-linecap:butt;stroke-linejoin:round;}</style>\n </defs>\n <g id=\"figure_1\">\n  <g id=\"patch_1\">\n   <path d=\"M 0 248.518125 \nL 375.2875 248.518125 \nL 375.2875 0 \nL 0 0 \nz\n\" style=\"fill:none;\"/>\n  </g>\n  <g id=\"axes_1\">\n   <g id=\"patch_2\">\n    <path d=\"M 33.2875 224.64 \nL 368.0875 224.64 \nL 368.0875 7.2 \nL 33.2875 7.2 \nz\n\" style=\"fill:#ffffff;\"/>\n   </g>\n   <g id=\"patch_3\">\n    <path clip-path=\"url(#peae0dafea9)\" d=\"M 48.505682 224.64 \nL 51.549318 224.64 \nL 51.549318 223.65544 \nL 48.505682 223.65544 \nz\n\" style=\"fill:#1f77b4;\"/>\n   </g>\n   <g id=\"patch_4\">\n    <path clip-path=\"url(#peae0dafea9)\" d=\"M 51.549318 224.64 \nL 54.592955 224.64 \nL 54.592955 224.311813 \nL 51.549318 224.311813 \nz\n\" style=\"fill:#1f77b4;\"/>\n   </g>\n   <g id=\"patch_5\">\n    <path clip-path=\"url(#peae0dafea9)\" d=\"M 54.592955 224.64 \nL 57.636591 224.64 \nL 57.636591 224.311813 \nL 54.592955 224.311813 \nz\n\" style=\"fill:#1f77b4;\"/>\n   </g>\n   <g id=\"patch_6\">\n    <path clip-path=\"url(#peae0dafea9)\" d=\"M 57.636591 224.64 \nL 60.680227 224.64 \nL 60.680227 223.983627 \nL 57.636591 223.983627 \nz\n\" style=\"fill:#1f77b4;\"/>\n   </g>\n   <g id=\"patch_7\">\n    <path clip-path=\"url(#peae0dafea9)\" d=\"M 60.680227 224.64 \nL 63.723864 224.64 \nL 63.723864 224.64 \nL 60.680227 224.64 \nz\n\" style=\"fill:#1f77b4;\"/>\n   </g>\n   <g id=\"patch_8\">\n    <path clip-path=\"url(#peae0dafea9)\" d=\"M 63.723864 224.64 \nL 66.7675 224.64 \nL 66.7675 224.64 \nL 63.723864 224.64 \nz\n\" style=\"fill:#1f77b4;\"/>\n   </g>\n   <g id=\"patch_9\">\n    <path clip-path=\"url(#peae0dafea9)\" d=\"M 66.7675 224.64 \nL 69.811136 224.64 \nL 69.811136 224.64 \nL 66.7675 224.64 \nz\n\" style=\"fill:#1f77b4;\"/>\n   </g>\n   <g id=\"patch_10\">\n    <path clip-path=\"url(#peae0dafea9)\" d=\"M 69.811136 224.64 \nL 72.854773 224.64 \nL 72.854773 224.311813 \nL 69.811136 224.311813 \nz\n\" style=\"fill:#1f77b4;\"/>\n   </g>\n   <g id=\"patch_11\">\n    <path clip-path=\"url(#peae0dafea9)\" d=\"M 72.854773 224.64 \nL 75.898409 224.64 \nL 75.898409 224.311813 \nL 72.854773 224.311813 \nz\n\" style=\"fill:#1f77b4;\"/>\n   </g>\n   <g id=\"patch_12\">\n    <path clip-path=\"url(#peae0dafea9)\" d=\"M 75.898409 224.64 \nL 78.942045 224.64 \nL 78.942045 223.65544 \nL 75.898409 223.65544 \nz\n\" style=\"fill:#1f77b4;\"/>\n   </g>\n   <g id=\"patch_13\">\n    <path clip-path=\"url(#peae0dafea9)\" d=\"M 78.942045 224.64 \nL 81.985682 224.64 \nL 81.985682 222.999067 \nL 78.942045 222.999067 \nz\n\" style=\"fill:#1f77b4;\"/>\n   </g>\n   <g id=\"patch_14\">\n    <path clip-path=\"url(#peae0dafea9)\" d=\"M 81.985682 224.64 \nL 85.029318 224.64 \nL 85.029318 223.327254 \nL 81.985682 223.327254 \nz\n\" style=\"fill:#1f77b4;\"/>\n   </g>\n   <g id=\"patch_15\">\n    <path clip-path=\"url(#peae0dafea9)\" d=\"M 85.029318 224.64 \nL 88.072955 224.64 \nL 88.072955 223.65544 \nL 85.029318 223.65544 \nz\n\" style=\"fill:#1f77b4;\"/>\n   </g>\n   <g id=\"patch_16\">\n    <path clip-path=\"url(#peae0dafea9)\" d=\"M 88.072955 224.64 \nL 91.116591 224.64 \nL 91.116591 222.999067 \nL 88.072955 222.999067 \nz\n\" style=\"fill:#1f77b4;\"/>\n   </g>\n   <g id=\"patch_17\">\n    <path clip-path=\"url(#peae0dafea9)\" d=\"M 91.116591 224.64 \nL 94.160227 224.64 \nL 94.160227 221.029948 \nL 91.116591 221.029948 \nz\n\" style=\"fill:#1f77b4;\"/>\n   </g>\n   <g id=\"patch_18\">\n    <path clip-path=\"url(#peae0dafea9)\" d=\"M 94.160227 224.64 \nL 97.203864 224.64 \nL 97.203864 220.373575 \nL 94.160227 220.373575 \nz\n\" style=\"fill:#1f77b4;\"/>\n   </g>\n   <g id=\"patch_19\">\n    <path clip-path=\"url(#peae0dafea9)\" d=\"M 97.203864 224.64 \nL 100.2475 224.64 \nL 100.2475 222.670881 \nL 97.203864 222.670881 \nz\n\" style=\"fill:#1f77b4;\"/>\n   </g>\n   <g id=\"patch_20\">\n    <path clip-path=\"url(#peae0dafea9)\" d=\"M 100.2475 224.64 \nL 103.291136 224.64 \nL 103.291136 221.029948 \nL 100.2475 221.029948 \nz\n\" style=\"fill:#1f77b4;\"/>\n   </g>\n   <g id=\"patch_21\">\n    <path clip-path=\"url(#peae0dafea9)\" d=\"M 103.291136 224.64 \nL 106.334773 224.64 \nL 106.334773 218.404456 \nL 103.291136 218.404456 \nz\n\" style=\"fill:#1f77b4;\"/>\n   </g>\n   <g id=\"patch_22\">\n    <path clip-path=\"url(#peae0dafea9)\" d=\"M 106.334773 224.64 \nL 109.378409 224.64 \nL 109.378409 219.060829 \nL 106.334773 219.060829 \nz\n\" style=\"fill:#1f77b4;\"/>\n   </g>\n   <g id=\"patch_23\">\n    <path clip-path=\"url(#peae0dafea9)\" d=\"M 109.378409 224.64 \nL 112.422045 224.64 \nL 112.422045 217.748082 \nL 109.378409 217.748082 \nz\n\" style=\"fill:#1f77b4;\"/>\n   </g>\n   <g id=\"patch_24\">\n    <path clip-path=\"url(#peae0dafea9)\" d=\"M 112.422045 224.64 \nL 115.465682 224.64 \nL 115.465682 217.419896 \nL 112.422045 217.419896 \nz\n\" style=\"fill:#1f77b4;\"/>\n   </g>\n   <g id=\"patch_25\">\n    <path clip-path=\"url(#peae0dafea9)\" d=\"M 115.465682 224.64 \nL 118.509318 224.64 \nL 118.509318 214.466217 \nL 115.465682 214.466217 \nz\n\" style=\"fill:#1f77b4;\"/>\n   </g>\n   <g id=\"patch_26\">\n    <path clip-path=\"url(#peae0dafea9)\" d=\"M 118.509318 224.64 \nL 121.552955 224.64 \nL 121.552955 217.091709 \nL 118.509318 217.091709 \nz\n\" style=\"fill:#1f77b4;\"/>\n   </g>\n   <g id=\"patch_27\">\n    <path clip-path=\"url(#peae0dafea9)\" d=\"M 121.552955 224.64 \nL 124.596591 224.64 \nL 124.596591 212.825284 \nL 121.552955 212.825284 \nz\n\" style=\"fill:#1f77b4;\"/>\n   </g>\n   <g id=\"patch_28\">\n    <path clip-path=\"url(#peae0dafea9)\" d=\"M 124.596591 224.64 \nL 127.640227 224.64 \nL 127.640227 216.10715 \nL 124.596591 216.10715 \nz\n\" style=\"fill:#1f77b4;\"/>\n   </g>\n   <g id=\"patch_29\">\n    <path clip-path=\"url(#peae0dafea9)\" d=\"M 127.640227 224.64 \nL 130.683864 224.64 \nL 130.683864 208.230672 \nL 127.640227 208.230672 \nz\n\" style=\"fill:#1f77b4;\"/>\n   </g>\n   <g id=\"patch_30\">\n    <path clip-path=\"url(#peae0dafea9)\" d=\"M 130.683864 224.64 \nL 133.7275 224.64 \nL 133.7275 210.199792 \nL 130.683864 210.199792 \nz\n\" style=\"fill:#1f77b4;\"/>\n   </g>\n   <g id=\"patch_31\">\n    <path clip-path=\"url(#peae0dafea9)\" d=\"M 133.7275 224.64 \nL 136.771136 224.64 \nL 136.771136 206.58974 \nL 133.7275 206.58974 \nz\n\" style=\"fill:#1f77b4;\"/>\n   </g>\n   <g id=\"patch_32\">\n    <path clip-path=\"url(#peae0dafea9)\" d=\"M 136.771136 224.64 \nL 139.814773 224.64 \nL 139.814773 200.682382 \nL 136.771136 200.682382 \nz\n\" style=\"fill:#1f77b4;\"/>\n   </g>\n   <g id=\"patch_33\">\n    <path clip-path=\"url(#peae0dafea9)\" d=\"M 139.814773 224.64 \nL 142.858409 224.64 \nL 142.858409 199.697822 \nL 139.814773 199.697822 \nz\n\" style=\"fill:#1f77b4;\"/>\n   </g>\n   <g id=\"patch_34\">\n    <path clip-path=\"url(#peae0dafea9)\" d=\"M 142.858409 224.64 \nL 145.902045 224.64 \nL 145.902045 192.477718 \nL 142.858409 192.477718 \nz\n\" style=\"fill:#1f77b4;\"/>\n   </g>\n   <g id=\"patch_35\">\n    <path clip-path=\"url(#peae0dafea9)\" d=\"M 145.902045 224.64 \nL 148.945682 224.64 \nL 148.945682 197.728703 \nL 145.902045 197.728703 \nz\n\" style=\"fill:#1f77b4;\"/>\n   </g>\n   <g id=\"patch_36\">\n    <path clip-path=\"url(#peae0dafea9)\" d=\"M 148.945682 224.64 \nL 151.989318 224.64 \nL 151.989318 196.744143 \nL 148.945682 196.744143 \nz\n\" style=\"fill:#1f77b4;\"/>\n   </g>\n   <g id=\"patch_37\">\n    <path clip-path=\"url(#peae0dafea9)\" d=\"M 151.989318 224.64 \nL 155.032955 224.64 \nL 155.032955 186.57036 \nL 151.989318 186.57036 \nz\n\" style=\"fill:#1f77b4;\"/>\n   </g>\n   <g id=\"patch_38\">\n    <path clip-path=\"url(#peae0dafea9)\" d=\"M 155.032955 224.64 \nL 158.076591 224.64 \nL 158.076591 191.493158 \nL 155.032955 191.493158 \nz\n\" style=\"fill:#1f77b4;\"/>\n   </g>\n   <g id=\"patch_39\">\n    <path clip-path=\"url(#peae0dafea9)\" d=\"M 158.076591 224.64 \nL 161.120227 224.64 \nL 161.120227 175.083831 \nL 158.076591 175.083831 \nz\n\" style=\"fill:#1f77b4;\"/>\n   </g>\n   <g id=\"patch_40\">\n    <path clip-path=\"url(#peae0dafea9)\" d=\"M 161.120227 224.64 \nL 164.163864 224.64 \nL 164.163864 187.55492 \nL 161.120227 187.55492 \nz\n\" style=\"fill:#1f77b4;\"/>\n   </g>\n   <g id=\"patch_41\">\n    <path clip-path=\"url(#peae0dafea9)\" d=\"M 164.163864 224.64 \nL 167.2075 224.64 \nL 167.2075 178.365696 \nL 164.163864 178.365696 \nz\n\" style=\"fill:#1f77b4;\"/>\n   </g>\n   <g id=\"patch_42\">\n    <path clip-path=\"url(#peae0dafea9)\" d=\"M 167.2075 224.64 \nL 170.251136 224.64 \nL 170.251136 170.489219 \nL 167.2075 170.489219 \nz\n\" style=\"fill:#1f77b4;\"/>\n   </g>\n   <g id=\"patch_43\">\n    <path clip-path=\"url(#peae0dafea9)\" d=\"M 170.251136 224.64 \nL 173.294773 224.64 \nL 173.294773 170.161032 \nL 170.251136 170.161032 \nz\n\" style=\"fill:#1f77b4;\"/>\n   </g>\n   <g id=\"patch_44\">\n    <path clip-path=\"url(#peae0dafea9)\" d=\"M 173.294773 224.64 \nL 176.338409 224.64 \nL 176.338409 169.504659 \nL 173.294773 169.504659 \nz\n\" style=\"fill:#1f77b4;\"/>\n   </g>\n   <g id=\"patch_45\">\n    <path clip-path=\"url(#peae0dafea9)\" d=\"M 176.338409 224.64 \nL 179.382045 224.64 \nL 179.382045 160.315436 \nL 176.338409 160.315436 \nz\n\" style=\"fill:#1f77b4;\"/>\n   </g>\n   <g id=\"patch_46\">\n    <path clip-path=\"url(#peae0dafea9)\" d=\"M 179.382045 224.64 \nL 182.425682 224.64 \nL 182.425682 169.504659 \nL 179.382045 169.504659 \nz\n\" style=\"fill:#1f77b4;\"/>\n   </g>\n   <g id=\"patch_47\">\n    <path clip-path=\"url(#peae0dafea9)\" d=\"M 182.425682 224.64 \nL 185.469318 224.64 \nL 185.469318 150.469839 \nL 182.425682 150.469839 \nz\n\" style=\"fill:#1f77b4;\"/>\n   </g>\n   <g id=\"patch_48\">\n    <path clip-path=\"url(#peae0dafea9)\" d=\"M 185.469318 224.64 \nL 188.512955 224.64 \nL 188.512955 158.346317 \nL 185.469318 158.346317 \nz\n\" style=\"fill:#1f77b4;\"/>\n   </g>\n   <g id=\"patch_49\">\n    <path clip-path=\"url(#peae0dafea9)\" d=\"M 188.512955 224.64 \nL 191.556591 224.64 \nL 191.556591 17.554286 \nL 188.512955 17.554286 \nz\n\" style=\"fill:#1f77b4;\"/>\n   </g>\n   <g id=\"patch_50\">\n    <path clip-path=\"url(#peae0dafea9)\" d=\"M 191.556591 224.64 \nL 194.600227 224.64 \nL 194.600227 143.906108 \nL 191.556591 143.906108 \nz\n\" style=\"fill:#1f77b4;\"/>\n   </g>\n   <g id=\"patch_51\">\n    <path clip-path=\"url(#peae0dafea9)\" d=\"M 194.600227 224.64 \nL 197.643864 224.64 \nL 197.643864 159.00269 \nL 194.600227 159.00269 \nz\n\" style=\"fill:#1f77b4;\"/>\n   </g>\n   <g id=\"patch_52\">\n    <path clip-path=\"url(#peae0dafea9)\" d=\"M 197.643864 224.64 \nL 200.6875 224.64 \nL 200.6875 163.269115 \nL 197.643864 163.269115 \nz\n\" style=\"fill:#1f77b4;\"/>\n   </g>\n   <g id=\"patch_53\">\n    <path clip-path=\"url(#peae0dafea9)\" d=\"M 200.6875 224.64 \nL 203.731136 224.64 \nL 203.731136 168.191913 \nL 200.6875 168.191913 \nz\n\" style=\"fill:#1f77b4;\"/>\n   </g>\n   <g id=\"patch_54\">\n    <path clip-path=\"url(#peae0dafea9)\" d=\"M 203.731136 224.64 \nL 206.774773 224.64 \nL 206.774773 163.925488 \nL 203.731136 163.925488 \nz\n\" style=\"fill:#1f77b4;\"/>\n   </g>\n   <g id=\"patch_55\">\n    <path clip-path=\"url(#peae0dafea9)\" d=\"M 206.774773 224.64 \nL 209.818409 224.64 \nL 209.818409 177.381137 \nL 206.774773 177.381137 \nz\n\" style=\"fill:#1f77b4;\"/>\n   </g>\n   <g id=\"patch_56\">\n    <path clip-path=\"url(#peae0dafea9)\" d=\"M 209.818409 224.64 \nL 212.862045 224.64 \nL 212.862045 180.006629 \nL 209.818409 180.006629 \nz\n\" style=\"fill:#1f77b4;\"/>\n   </g>\n   <g id=\"patch_57\">\n    <path clip-path=\"url(#peae0dafea9)\" d=\"M 212.862045 224.64 \nL 215.905682 224.64 \nL 215.905682 175.083831 \nL 212.862045 175.083831 \nz\n\" style=\"fill:#1f77b4;\"/>\n   </g>\n   <g id=\"patch_58\">\n    <path clip-path=\"url(#peae0dafea9)\" d=\"M 215.905682 224.64 \nL 218.949318 224.64 \nL 218.949318 186.242173 \nL 215.905682 186.242173 \nz\n\" style=\"fill:#1f77b4;\"/>\n   </g>\n   <g id=\"patch_59\">\n    <path clip-path=\"url(#peae0dafea9)\" d=\"M 218.949318 224.64 \nL 221.992955 224.64 \nL 221.992955 197.07233 \nL 218.949318 197.07233 \nz\n\" style=\"fill:#1f77b4;\"/>\n   </g>\n   <g id=\"patch_60\">\n    <path clip-path=\"url(#peae0dafea9)\" d=\"M 221.992955 224.64 \nL 225.036591 224.64 \nL 225.036591 178.693883 \nL 221.992955 178.693883 \nz\n\" style=\"fill:#1f77b4;\"/>\n   </g>\n   <g id=\"patch_61\">\n    <path clip-path=\"url(#peae0dafea9)\" d=\"M 225.036591 224.64 \nL 228.080227 224.64 \nL 228.080227 196.744143 \nL 225.036591 196.744143 \nz\n\" style=\"fill:#1f77b4;\"/>\n   </g>\n   <g id=\"patch_62\">\n    <path clip-path=\"url(#peae0dafea9)\" d=\"M 228.080227 224.64 \nL 231.123864 224.64 \nL 231.123864 196.08777 \nL 228.080227 196.08777 \nz\n\" style=\"fill:#1f77b4;\"/>\n   </g>\n   <g id=\"patch_63\">\n    <path clip-path=\"url(#peae0dafea9)\" d=\"M 231.123864 224.64 \nL 234.1675 224.64 \nL 234.1675 197.728703 \nL 231.123864 197.728703 \nz\n\" style=\"fill:#1f77b4;\"/>\n   </g>\n   <g id=\"patch_64\">\n    <path clip-path=\"url(#peae0dafea9)\" d=\"M 234.1675 224.64 \nL 237.211136 224.64 \nL 237.211136 198.713262 \nL 234.1675 198.713262 \nz\n\" style=\"fill:#1f77b4;\"/>\n   </g>\n   <g id=\"patch_65\">\n    <path clip-path=\"url(#peae0dafea9)\" d=\"M 237.211136 224.64 \nL 240.254773 224.64 \nL 240.254773 200.682382 \nL 237.211136 200.682382 \nz\n\" style=\"fill:#1f77b4;\"/>\n   </g>\n   <g id=\"patch_66\">\n    <path clip-path=\"url(#peae0dafea9)\" d=\"M 240.254773 224.64 \nL 243.298409 224.64 \nL 243.298409 198.385076 \nL 240.254773 198.385076 \nz\n\" style=\"fill:#1f77b4;\"/>\n   </g>\n   <g id=\"patch_67\">\n    <path clip-path=\"url(#peae0dafea9)\" d=\"M 243.298409 224.64 \nL 246.342045 224.64 \nL 246.342045 210.527978 \nL 243.298409 210.527978 \nz\n\" style=\"fill:#1f77b4;\"/>\n   </g>\n   <g id=\"patch_68\">\n    <path clip-path=\"url(#peae0dafea9)\" d=\"M 246.342045 224.64 \nL 249.385682 224.64 \nL 249.385682 213.809844 \nL 246.342045 213.809844 \nz\n\" style=\"fill:#1f77b4;\"/>\n   </g>\n   <g id=\"patch_69\">\n    <path clip-path=\"url(#peae0dafea9)\" d=\"M 249.385682 224.64 \nL 252.429318 224.64 \nL 252.429318 209.871605 \nL 249.385682 209.871605 \nz\n\" style=\"fill:#1f77b4;\"/>\n   </g>\n   <g id=\"patch_70\">\n    <path clip-path=\"url(#peae0dafea9)\" d=\"M 252.429318 224.64 \nL 255.472955 224.64 \nL 255.472955 213.153471 \nL 252.429318 213.153471 \nz\n\" style=\"fill:#1f77b4;\"/>\n   </g>\n   <g id=\"patch_71\">\n    <path clip-path=\"url(#peae0dafea9)\" d=\"M 255.472955 224.64 \nL 258.516591 224.64 \nL 258.516591 213.153471 \nL 255.472955 213.153471 \nz\n\" style=\"fill:#1f77b4;\"/>\n   </g>\n   <g id=\"patch_72\">\n    <path clip-path=\"url(#peae0dafea9)\" d=\"M 258.516591 224.64 \nL 261.560227 224.64 \nL 261.560227 217.419896 \nL 258.516591 217.419896 \nz\n\" style=\"fill:#1f77b4;\"/>\n   </g>\n   <g id=\"patch_73\">\n    <path clip-path=\"url(#peae0dafea9)\" d=\"M 261.560227 224.64 \nL 264.603864 224.64 \nL 264.603864 216.435336 \nL 261.560227 216.435336 \nz\n\" style=\"fill:#1f77b4;\"/>\n   </g>\n   <g id=\"patch_74\">\n    <path clip-path=\"url(#peae0dafea9)\" d=\"M 264.603864 224.64 \nL 267.6475 224.64 \nL 267.6475 219.060829 \nL 264.603864 219.060829 \nz\n\" style=\"fill:#1f77b4;\"/>\n   </g>\n   <g id=\"patch_75\">\n    <path clip-path=\"url(#peae0dafea9)\" d=\"M 267.6475 224.64 \nL 270.691136 224.64 \nL 270.691136 219.389015 \nL 267.6475 219.389015 \nz\n\" style=\"fill:#1f77b4;\"/>\n   </g>\n   <g id=\"patch_76\">\n    <path clip-path=\"url(#peae0dafea9)\" d=\"M 270.691136 224.64 \nL 273.734773 224.64 \nL 273.734773 221.029948 \nL 270.691136 221.029948 \nz\n\" style=\"fill:#1f77b4;\"/>\n   </g>\n   <g id=\"patch_77\">\n    <path clip-path=\"url(#peae0dafea9)\" d=\"M 273.734773 224.64 \nL 276.778409 224.64 \nL 276.778409 221.029948 \nL 273.734773 221.029948 \nz\n\" style=\"fill:#1f77b4;\"/>\n   </g>\n   <g id=\"patch_78\">\n    <path clip-path=\"url(#peae0dafea9)\" d=\"M 276.778409 224.64 \nL 279.822045 224.64 \nL 279.822045 222.342694 \nL 276.778409 222.342694 \nz\n\" style=\"fill:#1f77b4;\"/>\n   </g>\n   <g id=\"patch_79\">\n    <path clip-path=\"url(#peae0dafea9)\" d=\"M 279.822045 224.64 \nL 282.865682 224.64 \nL 282.865682 219.717202 \nL 279.822045 219.717202 \nz\n\" style=\"fill:#1f77b4;\"/>\n   </g>\n   <g id=\"patch_80\">\n    <path clip-path=\"url(#peae0dafea9)\" d=\"M 282.865682 224.64 \nL 285.909318 224.64 \nL 285.909318 222.670881 \nL 282.865682 222.670881 \nz\n\" style=\"fill:#1f77b4;\"/>\n   </g>\n   <g id=\"patch_81\">\n    <path clip-path=\"url(#peae0dafea9)\" d=\"M 285.909318 224.64 \nL 288.952955 224.64 \nL 288.952955 222.670881 \nL 285.909318 222.670881 \nz\n\" style=\"fill:#1f77b4;\"/>\n   </g>\n   <g id=\"patch_82\">\n    <path clip-path=\"url(#peae0dafea9)\" d=\"M 288.952955 224.64 \nL 291.996591 224.64 \nL 291.996591 222.342694 \nL 288.952955 222.342694 \nz\n\" style=\"fill:#1f77b4;\"/>\n   </g>\n   <g id=\"patch_83\">\n    <path clip-path=\"url(#peae0dafea9)\" d=\"M 291.996591 224.64 \nL 295.040227 224.64 \nL 295.040227 224.311813 \nL 291.996591 224.311813 \nz\n\" style=\"fill:#1f77b4;\"/>\n   </g>\n   <g id=\"patch_84\">\n    <path clip-path=\"url(#peae0dafea9)\" d=\"M 295.040227 224.64 \nL 298.083864 224.64 \nL 298.083864 223.65544 \nL 295.040227 223.65544 \nz\n\" style=\"fill:#1f77b4;\"/>\n   </g>\n   <g id=\"patch_85\">\n    <path clip-path=\"url(#peae0dafea9)\" d=\"M 298.083864 224.64 \nL 301.1275 224.64 \nL 301.1275 223.65544 \nL 298.083864 223.65544 \nz\n\" style=\"fill:#1f77b4;\"/>\n   </g>\n   <g id=\"patch_86\">\n    <path clip-path=\"url(#peae0dafea9)\" d=\"M 301.1275 224.64 \nL 304.171136 224.64 \nL 304.171136 223.65544 \nL 301.1275 223.65544 \nz\n\" style=\"fill:#1f77b4;\"/>\n   </g>\n   <g id=\"patch_87\">\n    <path clip-path=\"url(#peae0dafea9)\" d=\"M 304.171136 224.64 \nL 307.214773 224.64 \nL 307.214773 223.65544 \nL 304.171136 223.65544 \nz\n\" style=\"fill:#1f77b4;\"/>\n   </g>\n   <g id=\"patch_88\">\n    <path clip-path=\"url(#peae0dafea9)\" d=\"M 307.214773 224.64 \nL 310.258409 224.64 \nL 310.258409 224.311813 \nL 307.214773 224.311813 \nz\n\" style=\"fill:#1f77b4;\"/>\n   </g>\n   <g id=\"patch_89\">\n    <path clip-path=\"url(#peae0dafea9)\" d=\"M 310.258409 224.64 \nL 313.302045 224.64 \nL 313.302045 223.983627 \nL 310.258409 223.983627 \nz\n\" style=\"fill:#1f77b4;\"/>\n   </g>\n   <g id=\"patch_90\">\n    <path clip-path=\"url(#peae0dafea9)\" d=\"M 313.302045 224.64 \nL 316.345682 224.64 \nL 316.345682 224.311813 \nL 313.302045 224.311813 \nz\n\" style=\"fill:#1f77b4;\"/>\n   </g>\n   <g id=\"patch_91\">\n    <path clip-path=\"url(#peae0dafea9)\" d=\"M 316.345682 224.64 \nL 319.389318 224.64 \nL 319.389318 223.983627 \nL 316.345682 223.983627 \nz\n\" style=\"fill:#1f77b4;\"/>\n   </g>\n   <g id=\"patch_92\">\n    <path clip-path=\"url(#peae0dafea9)\" d=\"M 319.389318 224.64 \nL 322.432955 224.64 \nL 322.432955 223.65544 \nL 319.389318 223.65544 \nz\n\" style=\"fill:#1f77b4;\"/>\n   </g>\n   <g id=\"patch_93\">\n    <path clip-path=\"url(#peae0dafea9)\" d=\"M 322.432955 224.64 \nL 325.476591 224.64 \nL 325.476591 224.64 \nL 322.432955 224.64 \nz\n\" style=\"fill:#1f77b4;\"/>\n   </g>\n   <g id=\"patch_94\">\n    <path clip-path=\"url(#peae0dafea9)\" d=\"M 325.476591 224.64 \nL 328.520227 224.64 \nL 328.520227 224.64 \nL 325.476591 224.64 \nz\n\" style=\"fill:#1f77b4;\"/>\n   </g>\n   <g id=\"patch_95\">\n    <path clip-path=\"url(#peae0dafea9)\" d=\"M 328.520227 224.64 \nL 331.563864 224.64 \nL 331.563864 223.65544 \nL 328.520227 223.65544 \nz\n\" style=\"fill:#1f77b4;\"/>\n   </g>\n   <g id=\"patch_96\">\n    <path clip-path=\"url(#peae0dafea9)\" d=\"M 331.563864 224.64 \nL 334.6075 224.64 \nL 334.6075 224.64 \nL 331.563864 224.64 \nz\n\" style=\"fill:#1f77b4;\"/>\n   </g>\n   <g id=\"patch_97\">\n    <path clip-path=\"url(#peae0dafea9)\" d=\"M 334.6075 224.64 \nL 337.651136 224.64 \nL 337.651136 223.983627 \nL 334.6075 223.983627 \nz\n\" style=\"fill:#1f77b4;\"/>\n   </g>\n   <g id=\"patch_98\">\n    <path clip-path=\"url(#peae0dafea9)\" d=\"M 337.651136 224.64 \nL 340.694773 224.64 \nL 340.694773 224.311813 \nL 337.651136 224.311813 \nz\n\" style=\"fill:#1f77b4;\"/>\n   </g>\n   <g id=\"patch_99\">\n    <path clip-path=\"url(#peae0dafea9)\" d=\"M 340.694773 224.64 \nL 343.738409 224.64 \nL 343.738409 224.64 \nL 340.694773 224.64 \nz\n\" style=\"fill:#1f77b4;\"/>\n   </g>\n   <g id=\"patch_100\">\n    <path clip-path=\"url(#peae0dafea9)\" d=\"M 343.738409 224.64 \nL 346.782045 224.64 \nL 346.782045 224.64 \nL 343.738409 224.64 \nz\n\" style=\"fill:#1f77b4;\"/>\n   </g>\n   <g id=\"patch_101\">\n    <path clip-path=\"url(#peae0dafea9)\" d=\"M 346.782045 224.64 \nL 349.825682 224.64 \nL 349.825682 224.64 \nL 346.782045 224.64 \nz\n\" style=\"fill:#1f77b4;\"/>\n   </g>\n   <g id=\"patch_102\">\n    <path clip-path=\"url(#peae0dafea9)\" d=\"M 349.825682 224.64 \nL 352.869318 224.64 \nL 352.869318 224.311813 \nL 349.825682 224.311813 \nz\n\" style=\"fill:#1f77b4;\"/>\n   </g>\n   <g id=\"matplotlib.axis_1\">\n    <g id=\"xtick_1\">\n     <g id=\"line2d_1\">\n      <defs>\n       <path d=\"M 0 0 \nL 0 3.5 \n\" id=\"m48d3bb351b\" style=\"stroke:#000000;stroke-width:0.8;\"/>\n      </defs>\n      <g>\n       <use style=\"stroke:#000000;stroke-width:0.8;\" x=\"41.038468\" xlink:href=\"#m48d3bb351b\" y=\"224.64\"/>\n      </g>\n     </g>\n     <g id=\"text_1\">\n      <!-- −1.00 -->\n      <g transform=\"translate(25.715812 239.238437)scale(0.1 -0.1)\">\n       <defs>\n        <path d=\"M 678 2272 \nL 4684 2272 \nL 4684 1741 \nL 678 1741 \nL 678 2272 \nz\n\" id=\"DejaVuSans-2212\" transform=\"scale(0.015625)\"/>\n        <path d=\"M 794 531 \nL 1825 531 \nL 1825 4091 \nL 703 3866 \nL 703 4441 \nL 1819 4666 \nL 2450 4666 \nL 2450 531 \nL 3481 531 \nL 3481 0 \nL 794 0 \nL 794 531 \nz\n\" id=\"DejaVuSans-31\" transform=\"scale(0.015625)\"/>\n        <path d=\"M 684 794 \nL 1344 794 \nL 1344 0 \nL 684 0 \nL 684 794 \nz\n\" id=\"DejaVuSans-2e\" transform=\"scale(0.015625)\"/>\n        <path d=\"M 2034 4250 \nQ 1547 4250 1301 3770 \nQ 1056 3291 1056 2328 \nQ 1056 1369 1301 889 \nQ 1547 409 2034 409 \nQ 2525 409 2770 889 \nQ 3016 1369 3016 2328 \nQ 3016 3291 2770 3770 \nQ 2525 4250 2034 4250 \nz\nM 2034 4750 \nQ 2819 4750 3233 4129 \nQ 3647 3509 3647 2328 \nQ 3647 1150 3233 529 \nQ 2819 -91 2034 -91 \nQ 1250 -91 836 529 \nQ 422 1150 422 2328 \nQ 422 3509 836 4129 \nQ 1250 4750 2034 4750 \nz\n\" id=\"DejaVuSans-30\" transform=\"scale(0.015625)\"/>\n       </defs>\n       <use xlink:href=\"#DejaVuSans-2212\"/>\n       <use x=\"83.789062\" xlink:href=\"#DejaVuSans-31\"/>\n       <use x=\"147.412109\" xlink:href=\"#DejaVuSans-2e\"/>\n       <use x=\"179.199219\" xlink:href=\"#DejaVuSans-30\"/>\n       <use x=\"242.822266\" xlink:href=\"#DejaVuSans-30\"/>\n      </g>\n     </g>\n    </g>\n    <g id=\"xtick_2\">\n     <g id=\"line2d_2\">\n      <g>\n       <use style=\"stroke:#000000;stroke-width:0.8;\" x=\"78.374537\" xlink:href=\"#m48d3bb351b\" y=\"224.64\"/>\n      </g>\n     </g>\n     <g id=\"text_2\">\n      <!-- −0.75 -->\n      <g transform=\"translate(63.051881 239.238437)scale(0.1 -0.1)\">\n       <defs>\n        <path d=\"M 525 4666 \nL 3525 4666 \nL 3525 4397 \nL 1831 0 \nL 1172 0 \nL 2766 4134 \nL 525 4134 \nL 525 4666 \nz\n\" id=\"DejaVuSans-37\" transform=\"scale(0.015625)\"/>\n        <path d=\"M 691 4666 \nL 3169 4666 \nL 3169 4134 \nL 1269 4134 \nL 1269 2991 \nQ 1406 3038 1543 3061 \nQ 1681 3084 1819 3084 \nQ 2600 3084 3056 2656 \nQ 3513 2228 3513 1497 \nQ 3513 744 3044 326 \nQ 2575 -91 1722 -91 \nQ 1428 -91 1123 -41 \nQ 819 9 494 109 \nL 494 744 \nQ 775 591 1075 516 \nQ 1375 441 1709 441 \nQ 2250 441 2565 725 \nQ 2881 1009 2881 1497 \nQ 2881 1984 2565 2268 \nQ 2250 2553 1709 2553 \nQ 1456 2553 1204 2497 \nQ 953 2441 691 2322 \nL 691 4666 \nz\n\" id=\"DejaVuSans-35\" transform=\"scale(0.015625)\"/>\n       </defs>\n       <use xlink:href=\"#DejaVuSans-2212\"/>\n       <use x=\"83.789062\" xlink:href=\"#DejaVuSans-30\"/>\n       <use x=\"147.412109\" xlink:href=\"#DejaVuSans-2e\"/>\n       <use x=\"179.199219\" xlink:href=\"#DejaVuSans-37\"/>\n       <use x=\"242.822266\" xlink:href=\"#DejaVuSans-35\"/>\n      </g>\n     </g>\n    </g>\n    <g id=\"xtick_3\">\n     <g id=\"line2d_3\">\n      <g>\n       <use style=\"stroke:#000000;stroke-width:0.8;\" x=\"115.710606\" xlink:href=\"#m48d3bb351b\" y=\"224.64\"/>\n      </g>\n     </g>\n     <g id=\"text_3\">\n      <!-- −0.50 -->\n      <g transform=\"translate(100.38795 239.238437)scale(0.1 -0.1)\">\n       <use xlink:href=\"#DejaVuSans-2212\"/>\n       <use x=\"83.789062\" xlink:href=\"#DejaVuSans-30\"/>\n       <use x=\"147.412109\" xlink:href=\"#DejaVuSans-2e\"/>\n       <use x=\"179.199219\" xlink:href=\"#DejaVuSans-35\"/>\n       <use x=\"242.822266\" xlink:href=\"#DejaVuSans-30\"/>\n      </g>\n     </g>\n    </g>\n    <g id=\"xtick_4\">\n     <g id=\"line2d_4\">\n      <g>\n       <use style=\"stroke:#000000;stroke-width:0.8;\" x=\"153.046676\" xlink:href=\"#m48d3bb351b\" y=\"224.64\"/>\n      </g>\n     </g>\n     <g id=\"text_4\">\n      <!-- −0.25 -->\n      <g transform=\"translate(137.724019 239.238437)scale(0.1 -0.1)\">\n       <defs>\n        <path d=\"M 1228 531 \nL 3431 531 \nL 3431 0 \nL 469 0 \nL 469 531 \nQ 828 903 1448 1529 \nQ 2069 2156 2228 2338 \nQ 2531 2678 2651 2914 \nQ 2772 3150 2772 3378 \nQ 2772 3750 2511 3984 \nQ 2250 4219 1831 4219 \nQ 1534 4219 1204 4116 \nQ 875 4013 500 3803 \nL 500 4441 \nQ 881 4594 1212 4672 \nQ 1544 4750 1819 4750 \nQ 2544 4750 2975 4387 \nQ 3406 4025 3406 3419 \nQ 3406 3131 3298 2873 \nQ 3191 2616 2906 2266 \nQ 2828 2175 2409 1742 \nQ 1991 1309 1228 531 \nz\n\" id=\"DejaVuSans-32\" transform=\"scale(0.015625)\"/>\n       </defs>\n       <use xlink:href=\"#DejaVuSans-2212\"/>\n       <use x=\"83.789062\" xlink:href=\"#DejaVuSans-30\"/>\n       <use x=\"147.412109\" xlink:href=\"#DejaVuSans-2e\"/>\n       <use x=\"179.199219\" xlink:href=\"#DejaVuSans-32\"/>\n       <use x=\"242.822266\" xlink:href=\"#DejaVuSans-35\"/>\n      </g>\n     </g>\n    </g>\n    <g id=\"xtick_5\">\n     <g id=\"line2d_5\">\n      <g>\n       <use style=\"stroke:#000000;stroke-width:0.8;\" x=\"190.382745\" xlink:href=\"#m48d3bb351b\" y=\"224.64\"/>\n      </g>\n     </g>\n     <g id=\"text_5\">\n      <!-- 0.00 -->\n      <g transform=\"translate(179.249932 239.238437)scale(0.1 -0.1)\">\n       <use xlink:href=\"#DejaVuSans-30\"/>\n       <use x=\"63.623047\" xlink:href=\"#DejaVuSans-2e\"/>\n       <use x=\"95.410156\" xlink:href=\"#DejaVuSans-30\"/>\n       <use x=\"159.033203\" xlink:href=\"#DejaVuSans-30\"/>\n      </g>\n     </g>\n    </g>\n    <g id=\"xtick_6\">\n     <g id=\"line2d_6\">\n      <g>\n       <use style=\"stroke:#000000;stroke-width:0.8;\" x=\"227.718814\" xlink:href=\"#m48d3bb351b\" y=\"224.64\"/>\n      </g>\n     </g>\n     <g id=\"text_6\">\n      <!-- 0.25 -->\n      <g transform=\"translate(216.586002 239.238437)scale(0.1 -0.1)\">\n       <use xlink:href=\"#DejaVuSans-30\"/>\n       <use x=\"63.623047\" xlink:href=\"#DejaVuSans-2e\"/>\n       <use x=\"95.410156\" xlink:href=\"#DejaVuSans-32\"/>\n       <use x=\"159.033203\" xlink:href=\"#DejaVuSans-35\"/>\n      </g>\n     </g>\n    </g>\n    <g id=\"xtick_7\">\n     <g id=\"line2d_7\">\n      <g>\n       <use style=\"stroke:#000000;stroke-width:0.8;\" x=\"265.054883\" xlink:href=\"#m48d3bb351b\" y=\"224.64\"/>\n      </g>\n     </g>\n     <g id=\"text_7\">\n      <!-- 0.50 -->\n      <g transform=\"translate(253.922071 239.238437)scale(0.1 -0.1)\">\n       <use xlink:href=\"#DejaVuSans-30\"/>\n       <use x=\"63.623047\" xlink:href=\"#DejaVuSans-2e\"/>\n       <use x=\"95.410156\" xlink:href=\"#DejaVuSans-35\"/>\n       <use x=\"159.033203\" xlink:href=\"#DejaVuSans-30\"/>\n      </g>\n     </g>\n    </g>\n    <g id=\"xtick_8\">\n     <g id=\"line2d_8\">\n      <g>\n       <use style=\"stroke:#000000;stroke-width:0.8;\" x=\"302.390953\" xlink:href=\"#m48d3bb351b\" y=\"224.64\"/>\n      </g>\n     </g>\n     <g id=\"text_8\">\n      <!-- 0.75 -->\n      <g transform=\"translate(291.25814 239.238437)scale(0.1 -0.1)\">\n       <use xlink:href=\"#DejaVuSans-30\"/>\n       <use x=\"63.623047\" xlink:href=\"#DejaVuSans-2e\"/>\n       <use x=\"95.410156\" xlink:href=\"#DejaVuSans-37\"/>\n       <use x=\"159.033203\" xlink:href=\"#DejaVuSans-35\"/>\n      </g>\n     </g>\n    </g>\n    <g id=\"xtick_9\">\n     <g id=\"line2d_9\">\n      <g>\n       <use style=\"stroke:#000000;stroke-width:0.8;\" x=\"339.727022\" xlink:href=\"#m48d3bb351b\" y=\"224.64\"/>\n      </g>\n     </g>\n     <g id=\"text_9\">\n      <!-- 1.00 -->\n      <g transform=\"translate(328.594209 239.238437)scale(0.1 -0.1)\">\n       <use xlink:href=\"#DejaVuSans-31\"/>\n       <use x=\"63.623047\" xlink:href=\"#DejaVuSans-2e\"/>\n       <use x=\"95.410156\" xlink:href=\"#DejaVuSans-30\"/>\n       <use x=\"159.033203\" xlink:href=\"#DejaVuSans-30\"/>\n      </g>\n     </g>\n    </g>\n   </g>\n   <g id=\"matplotlib.axis_2\">\n    <g id=\"ytick_1\">\n     <g id=\"line2d_10\">\n      <defs>\n       <path d=\"M 0 0 \nL -3.5 0 \n\" id=\"m60646cc982\" style=\"stroke:#000000;stroke-width:0.8;\"/>\n      </defs>\n      <g>\n       <use style=\"stroke:#000000;stroke-width:0.8;\" x=\"33.2875\" xlink:href=\"#m60646cc982\" y=\"224.64\"/>\n      </g>\n     </g>\n     <g id=\"text_10\">\n      <!-- 0 -->\n      <g transform=\"translate(19.925 228.439219)scale(0.1 -0.1)\">\n       <use xlink:href=\"#DejaVuSans-30\"/>\n      </g>\n     </g>\n    </g>\n    <g id=\"ytick_2\">\n     <g id=\"line2d_11\">\n      <g>\n       <use style=\"stroke:#000000;stroke-width:0.8;\" x=\"33.2875\" xlink:href=\"#m60646cc982\" y=\"191.821345\"/>\n      </g>\n     </g>\n     <g id=\"text_11\">\n      <!-- 100 -->\n      <g transform=\"translate(7.2 195.620564)scale(0.1 -0.1)\">\n       <use xlink:href=\"#DejaVuSans-31\"/>\n       <use x=\"63.623047\" xlink:href=\"#DejaVuSans-30\"/>\n       <use x=\"127.246094\" xlink:href=\"#DejaVuSans-30\"/>\n      </g>\n     </g>\n    </g>\n    <g id=\"ytick_3\">\n     <g id=\"line2d_12\">\n      <g>\n       <use style=\"stroke:#000000;stroke-width:0.8;\" x=\"33.2875\" xlink:href=\"#m60646cc982\" y=\"159.00269\"/>\n      </g>\n     </g>\n     <g id=\"text_12\">\n      <!-- 200 -->\n      <g transform=\"translate(7.2 162.801908)scale(0.1 -0.1)\">\n       <use xlink:href=\"#DejaVuSans-32\"/>\n       <use x=\"63.623047\" xlink:href=\"#DejaVuSans-30\"/>\n       <use x=\"127.246094\" xlink:href=\"#DejaVuSans-30\"/>\n      </g>\n     </g>\n    </g>\n    <g id=\"ytick_4\">\n     <g id=\"line2d_13\">\n      <g>\n       <use style=\"stroke:#000000;stroke-width:0.8;\" x=\"33.2875\" xlink:href=\"#m60646cc982\" y=\"126.184034\"/>\n      </g>\n     </g>\n     <g id=\"text_13\">\n      <!-- 300 -->\n      <g transform=\"translate(7.2 129.983253)scale(0.1 -0.1)\">\n       <defs>\n        <path d=\"M 2597 2516 \nQ 3050 2419 3304 2112 \nQ 3559 1806 3559 1356 \nQ 3559 666 3084 287 \nQ 2609 -91 1734 -91 \nQ 1441 -91 1130 -33 \nQ 819 25 488 141 \nL 488 750 \nQ 750 597 1062 519 \nQ 1375 441 1716 441 \nQ 2309 441 2620 675 \nQ 2931 909 2931 1356 \nQ 2931 1769 2642 2001 \nQ 2353 2234 1838 2234 \nL 1294 2234 \nL 1294 2753 \nL 1863 2753 \nQ 2328 2753 2575 2939 \nQ 2822 3125 2822 3475 \nQ 2822 3834 2567 4026 \nQ 2313 4219 1838 4219 \nQ 1578 4219 1281 4162 \nQ 984 4106 628 3988 \nL 628 4550 \nQ 988 4650 1302 4700 \nQ 1616 4750 1894 4750 \nQ 2613 4750 3031 4423 \nQ 3450 4097 3450 3541 \nQ 3450 3153 3228 2886 \nQ 3006 2619 2597 2516 \nz\n\" id=\"DejaVuSans-33\" transform=\"scale(0.015625)\"/>\n       </defs>\n       <use xlink:href=\"#DejaVuSans-33\"/>\n       <use x=\"63.623047\" xlink:href=\"#DejaVuSans-30\"/>\n       <use x=\"127.246094\" xlink:href=\"#DejaVuSans-30\"/>\n      </g>\n     </g>\n    </g>\n    <g id=\"ytick_5\">\n     <g id=\"line2d_14\">\n      <g>\n       <use style=\"stroke:#000000;stroke-width:0.8;\" x=\"33.2875\" xlink:href=\"#m60646cc982\" y=\"93.365379\"/>\n      </g>\n     </g>\n     <g id=\"text_14\">\n      <!-- 400 -->\n      <g transform=\"translate(7.2 97.164598)scale(0.1 -0.1)\">\n       <defs>\n        <path d=\"M 2419 4116 \nL 825 1625 \nL 2419 1625 \nL 2419 4116 \nz\nM 2253 4666 \nL 3047 4666 \nL 3047 1625 \nL 3713 1625 \nL 3713 1100 \nL 3047 1100 \nL 3047 0 \nL 2419 0 \nL 2419 1100 \nL 313 1100 \nL 313 1709 \nL 2253 4666 \nz\n\" id=\"DejaVuSans-34\" transform=\"scale(0.015625)\"/>\n       </defs>\n       <use xlink:href=\"#DejaVuSans-34\"/>\n       <use x=\"63.623047\" xlink:href=\"#DejaVuSans-30\"/>\n       <use x=\"127.246094\" xlink:href=\"#DejaVuSans-30\"/>\n      </g>\n     </g>\n    </g>\n    <g id=\"ytick_6\">\n     <g id=\"line2d_15\">\n      <g>\n       <use style=\"stroke:#000000;stroke-width:0.8;\" x=\"33.2875\" xlink:href=\"#m60646cc982\" y=\"60.546724\"/>\n      </g>\n     </g>\n     <g id=\"text_15\">\n      <!-- 500 -->\n      <g transform=\"translate(7.2 64.345943)scale(0.1 -0.1)\">\n       <use xlink:href=\"#DejaVuSans-35\"/>\n       <use x=\"63.623047\" xlink:href=\"#DejaVuSans-30\"/>\n       <use x=\"127.246094\" xlink:href=\"#DejaVuSans-30\"/>\n      </g>\n     </g>\n    </g>\n    <g id=\"ytick_7\">\n     <g id=\"line2d_16\">\n      <g>\n       <use style=\"stroke:#000000;stroke-width:0.8;\" x=\"33.2875\" xlink:href=\"#m60646cc982\" y=\"27.728069\"/>\n      </g>\n     </g>\n     <g id=\"text_16\">\n      <!-- 600 -->\n      <g transform=\"translate(7.2 31.527288)scale(0.1 -0.1)\">\n       <defs>\n        <path d=\"M 2113 2584 \nQ 1688 2584 1439 2293 \nQ 1191 2003 1191 1497 \nQ 1191 994 1439 701 \nQ 1688 409 2113 409 \nQ 2538 409 2786 701 \nQ 3034 994 3034 1497 \nQ 3034 2003 2786 2293 \nQ 2538 2584 2113 2584 \nz\nM 3366 4563 \nL 3366 3988 \nQ 3128 4100 2886 4159 \nQ 2644 4219 2406 4219 \nQ 1781 4219 1451 3797 \nQ 1122 3375 1075 2522 \nQ 1259 2794 1537 2939 \nQ 1816 3084 2150 3084 \nQ 2853 3084 3261 2657 \nQ 3669 2231 3669 1497 \nQ 3669 778 3244 343 \nQ 2819 -91 2113 -91 \nQ 1303 -91 875 529 \nQ 447 1150 447 2328 \nQ 447 3434 972 4092 \nQ 1497 4750 2381 4750 \nQ 2619 4750 2861 4703 \nQ 3103 4656 3366 4563 \nz\n\" id=\"DejaVuSans-36\" transform=\"scale(0.015625)\"/>\n       </defs>\n       <use xlink:href=\"#DejaVuSans-36\"/>\n       <use x=\"63.623047\" xlink:href=\"#DejaVuSans-30\"/>\n       <use x=\"127.246094\" xlink:href=\"#DejaVuSans-30\"/>\n      </g>\n     </g>\n    </g>\n   </g>\n   <g id=\"patch_103\">\n    <path d=\"M 33.2875 224.64 \nL 33.2875 7.2 \n\" style=\"fill:none;stroke:#000000;stroke-linecap:square;stroke-linejoin:miter;stroke-width:0.8;\"/>\n   </g>\n   <g id=\"patch_104\">\n    <path d=\"M 368.0875 224.64 \nL 368.0875 7.2 \n\" style=\"fill:none;stroke:#000000;stroke-linecap:square;stroke-linejoin:miter;stroke-width:0.8;\"/>\n   </g>\n   <g id=\"patch_105\">\n    <path d=\"M 33.2875 224.64 \nL 368.0875 224.64 \n\" style=\"fill:none;stroke:#000000;stroke-linecap:square;stroke-linejoin:miter;stroke-width:0.8;\"/>\n   </g>\n   <g id=\"patch_106\">\n    <path d=\"M 33.2875 7.2 \nL 368.0875 7.2 \n\" style=\"fill:none;stroke:#000000;stroke-linecap:square;stroke-linejoin:miter;stroke-width:0.8;\"/>\n   </g>\n  </g>\n </g>\n <defs>\n  <clipPath id=\"peae0dafea9\">\n   <rect height=\"217.44\" width=\"334.8\" x=\"33.2875\" y=\"7.2\"/>\n  </clipPath>\n </defs>\n</svg>\n",
      "image/png": "[encoded data removed]"
     },
     "metadata": {
      "needs_background": "light"
     }
    },
    {
     "output_type": "display_data",
     "data": {
      "text/plain": "<IPython.core.display.Javascript object>",
      "application/javascript": "\n            setTimeout(function() {\n                var nbb_cell_id = 80;\n                var nbb_unformatted_code = \"plt.hist(labtest_df['Cohen\\\\'s D Lab Test Score'], bins=100)\\nplt.show()\";\n                var nbb_formatted_code = \"plt.hist(labtest_df[\\\"Cohen's D Lab Test Score\\\"], bins=100)\\nplt.show()\";\n                var nbb_cells = Jupyter.notebook.get_cells();\n                for (var i = 0; i < nbb_cells.length; ++i) {\n                    if (nbb_cells[i].input_prompt_number == nbb_cell_id) {\n                        if (nbb_cells[i].get_text() == nbb_unformatted_code) {\n                             nbb_cells[i].set_text(nbb_formatted_code);\n                        }\n                        break;\n                    }\n                }\n            }, 500);\n            "
     },
     "metadata": {}
    }
   ],
   "source": [
    "plt.hist(labtest_df[\"Cohen's D Lab Test Score\"], bins=100)\n",
    "plt.show()"
   ]
  },
  {
   "cell_type": "code",
   "execution_count": 81,
   "metadata": {},
   "outputs": [
    {
     "output_type": "display_data",
     "data": {
      "text/plain": "<Figure size 432x288 with 1 Axes>",
      "image/svg+xml": "<?xml version=\"1.0\" encoding=\"utf-8\" standalone=\"no\"?>\n<!DOCTYPE svg PUBLIC \"-//W3C//DTD SVG 1.1//EN\"\n  \"http://www.w3.org/Graphics/SVG/1.1/DTD/svg11.dtd\">\n<svg height=\"251.4942pt\" version=\"1.1\" viewBox=\"0 0 381.65 251.4942\" width=\"381.65pt\" xmlns=\"http://www.w3.org/2000/svg\" xmlns:xlink=\"http://www.w3.org/1999/xlink\">\n <metadata>\n  <rdf:RDF xmlns:cc=\"http://creativecommons.org/ns#\" xmlns:dc=\"http://purl.org/dc/elements/1.1/\" xmlns:rdf=\"http://www.w3.org/1999/02/22-rdf-syntax-ns#\">\n   <cc:Work>\n    <dc:type rdf:resource=\"http://purl.org/dc/dcmitype/StillImage\"/>\n    <dc:date>2021-05-17T16:32:10.173862</dc:date>\n    <dc:format>image/svg+xml</dc:format>\n    <dc:creator>\n     <cc:Agent>\n      <dc:title>Matplotlib v3.4.2, https://matplotlib.org/</dc:title>\n     </cc:Agent>\n    </dc:creator>\n   </cc:Work>\n  </rdf:RDF>\n </metadata>\n <defs>\n  <style type=\"text/css\">*{stroke-linecap:butt;stroke-linejoin:round;}</style>\n </defs>\n <g id=\"figure_1\">\n  <g id=\"patch_1\">\n   <path d=\"M -0 251.4942 \nL 381.65 251.4942 \nL 381.65 0 \nL -0 0 \nz\n\" style=\"fill:none;\"/>\n  </g>\n  <g id=\"axes_1\">\n   <g id=\"patch_2\">\n    <path d=\"M 39.65 227.616075 \nL 374.45 227.616075 \nL 374.45 10.176075 \nL 39.65 10.176075 \nz\n\" style=\"fill:#ffffff;\"/>\n   </g>\n   <g id=\"patch_3\">\n    <path clip-path=\"url(#p4f1c14442b)\" d=\"M 54.868182 227.616075 \nL 85.304545 227.616075 \nL 85.304545 226.576314 \nL 54.868182 226.576314 \nz\n\" style=\"fill:#1f77b4;\"/>\n   </g>\n   <g id=\"patch_4\">\n    <path clip-path=\"url(#p4f1c14442b)\" d=\"M 85.304545 227.616075 \nL 115.740909 227.616075 \nL 115.740909 219.471281 \nL 85.304545 219.471281 \nz\n\" style=\"fill:#1f77b4;\"/>\n   </g>\n   <g id=\"patch_5\">\n    <path clip-path=\"url(#p4f1c14442b)\" d=\"M 115.740909 227.616075 \nL 146.177273 227.616075 \nL 146.177273 194.603666 \nL 115.740909 194.603666 \nz\n\" style=\"fill:#1f77b4;\"/>\n   </g>\n   <g id=\"patch_6\">\n    <path clip-path=\"url(#p4f1c14442b)\" d=\"M 146.177273 227.616075 \nL 176.613636 227.616075 \nL 176.613636 129.878549 \nL 146.177273 129.878549 \nz\n\" style=\"fill:#1f77b4;\"/>\n   </g>\n   <g id=\"patch_7\">\n    <path clip-path=\"url(#p4f1c14442b)\" d=\"M 176.613636 227.616075 \nL 207.05 227.616075 \nL 207.05 20.53036 \nL 176.613636 20.53036 \nz\n\" style=\"fill:#1f77b4;\"/>\n   </g>\n   <g id=\"patch_8\">\n    <path clip-path=\"url(#p4f1c14442b)\" d=\"M 207.05 227.616075 \nL 237.486364 227.616075 \nL 237.486364 114.888663 \nL 207.05 114.888663 \nz\n\" style=\"fill:#1f77b4;\"/>\n   </g>\n   <g id=\"patch_9\">\n    <path clip-path=\"url(#p4f1c14442b)\" d=\"M 237.486364 227.616075 \nL 267.922727 227.616075 \nL 267.922727 181.953241 \nL 237.486364 181.953241 \nz\n\" style=\"fill:#1f77b4;\"/>\n   </g>\n   <g id=\"patch_10\">\n    <path clip-path=\"url(#p4f1c14442b)\" d=\"M 267.922727 227.616075 \nL 298.359091 227.616075 \nL 298.359091 217.131819 \nL 267.922727 217.131819 \nz\n\" style=\"fill:#1f77b4;\"/>\n   </g>\n   <g id=\"patch_11\">\n    <path clip-path=\"url(#p4f1c14442b)\" d=\"M 298.359091 227.616075 \nL 328.795455 227.616075 \nL 328.795455 225.709846 \nL 298.359091 225.709846 \nz\n\" style=\"fill:#1f77b4;\"/>\n   </g>\n   <g id=\"patch_12\">\n    <path clip-path=\"url(#p4f1c14442b)\" d=\"M 328.795455 227.616075 \nL 359.231818 227.616075 \nL 359.231818 227.009548 \nL 328.795455 227.009548 \nz\n\" style=\"fill:#1f77b4;\"/>\n   </g>\n   <g id=\"matplotlib.axis_1\">\n    <g id=\"xtick_1\">\n     <g id=\"line2d_1\">\n      <defs>\n       <path d=\"M 0 0 \nL 0 3.5 \n\" id=\"m3602492f1e\" style=\"stroke:#000000;stroke-width:0.8;\"/>\n      </defs>\n      <g>\n       <use style=\"stroke:#000000;stroke-width:0.8;\" x=\"47.400968\" xlink:href=\"#m3602492f1e\" y=\"227.616075\"/>\n      </g>\n     </g>\n     <g id=\"text_1\">\n      <!-- −1.00 -->\n      <g transform=\"translate(32.078312 242.214512)scale(0.1 -0.1)\">\n       <defs>\n        <path d=\"M 678 2272 \nL 4684 2272 \nL 4684 1741 \nL 678 1741 \nL 678 2272 \nz\n\" id=\"DejaVuSans-2212\" transform=\"scale(0.015625)\"/>\n        <path d=\"M 794 531 \nL 1825 531 \nL 1825 4091 \nL 703 3866 \nL 703 4441 \nL 1819 4666 \nL 2450 4666 \nL 2450 531 \nL 3481 531 \nL 3481 0 \nL 794 0 \nL 794 531 \nz\n\" id=\"DejaVuSans-31\" transform=\"scale(0.015625)\"/>\n        <path d=\"M 684 794 \nL 1344 794 \nL 1344 0 \nL 684 0 \nL 684 794 \nz\n\" id=\"DejaVuSans-2e\" transform=\"scale(0.015625)\"/>\n        <path d=\"M 2034 4250 \nQ 1547 4250 1301 3770 \nQ 1056 3291 1056 2328 \nQ 1056 1369 1301 889 \nQ 1547 409 2034 409 \nQ 2525 409 2770 889 \nQ 3016 1369 3016 2328 \nQ 3016 3291 2770 3770 \nQ 2525 4250 2034 4250 \nz\nM 2034 4750 \nQ 2819 4750 3233 4129 \nQ 3647 3509 3647 2328 \nQ 3647 1150 3233 529 \nQ 2819 -91 2034 -91 \nQ 1250 -91 836 529 \nQ 422 1150 422 2328 \nQ 422 3509 836 4129 \nQ 1250 4750 2034 4750 \nz\n\" id=\"DejaVuSans-30\" transform=\"scale(0.015625)\"/>\n       </defs>\n       <use xlink:href=\"#DejaVuSans-2212\"/>\n       <use x=\"83.789062\" xlink:href=\"#DejaVuSans-31\"/>\n       <use x=\"147.412109\" xlink:href=\"#DejaVuSans-2e\"/>\n       <use x=\"179.199219\" xlink:href=\"#DejaVuSans-30\"/>\n       <use x=\"242.822266\" xlink:href=\"#DejaVuSans-30\"/>\n      </g>\n     </g>\n    </g>\n    <g id=\"xtick_2\">\n     <g id=\"line2d_2\">\n      <g>\n       <use style=\"stroke:#000000;stroke-width:0.8;\" x=\"84.737037\" xlink:href=\"#m3602492f1e\" y=\"227.616075\"/>\n      </g>\n     </g>\n     <g id=\"text_2\">\n      <!-- −0.75 -->\n      <g transform=\"translate(69.414381 242.214512)scale(0.1 -0.1)\">\n       <defs>\n        <path d=\"M 525 4666 \nL 3525 4666 \nL 3525 4397 \nL 1831 0 \nL 1172 0 \nL 2766 4134 \nL 525 4134 \nL 525 4666 \nz\n\" id=\"DejaVuSans-37\" transform=\"scale(0.015625)\"/>\n        <path d=\"M 691 4666 \nL 3169 4666 \nL 3169 4134 \nL 1269 4134 \nL 1269 2991 \nQ 1406 3038 1543 3061 \nQ 1681 3084 1819 3084 \nQ 2600 3084 3056 2656 \nQ 3513 2228 3513 1497 \nQ 3513 744 3044 326 \nQ 2575 -91 1722 -91 \nQ 1428 -91 1123 -41 \nQ 819 9 494 109 \nL 494 744 \nQ 775 591 1075 516 \nQ 1375 441 1709 441 \nQ 2250 441 2565 725 \nQ 2881 1009 2881 1497 \nQ 2881 1984 2565 2268 \nQ 2250 2553 1709 2553 \nQ 1456 2553 1204 2497 \nQ 953 2441 691 2322 \nL 691 4666 \nz\n\" id=\"DejaVuSans-35\" transform=\"scale(0.015625)\"/>\n       </defs>\n       <use xlink:href=\"#DejaVuSans-2212\"/>\n       <use x=\"83.789062\" xlink:href=\"#DejaVuSans-30\"/>\n       <use x=\"147.412109\" xlink:href=\"#DejaVuSans-2e\"/>\n       <use x=\"179.199219\" xlink:href=\"#DejaVuSans-37\"/>\n       <use x=\"242.822266\" xlink:href=\"#DejaVuSans-35\"/>\n      </g>\n     </g>\n    </g>\n    <g id=\"xtick_3\">\n     <g id=\"line2d_3\">\n      <g>\n       <use style=\"stroke:#000000;stroke-width:0.8;\" x=\"122.073106\" xlink:href=\"#m3602492f1e\" y=\"227.616075\"/>\n      </g>\n     </g>\n     <g id=\"text_3\">\n      <!-- −0.50 -->\n      <g transform=\"translate(106.75045 242.214512)scale(0.1 -0.1)\">\n       <use xlink:href=\"#DejaVuSans-2212\"/>\n       <use x=\"83.789062\" xlink:href=\"#DejaVuSans-30\"/>\n       <use x=\"147.412109\" xlink:href=\"#DejaVuSans-2e\"/>\n       <use x=\"179.199219\" xlink:href=\"#DejaVuSans-35\"/>\n       <use x=\"242.822266\" xlink:href=\"#DejaVuSans-30\"/>\n      </g>\n     </g>\n    </g>\n    <g id=\"xtick_4\">\n     <g id=\"line2d_4\">\n      <g>\n       <use style=\"stroke:#000000;stroke-width:0.8;\" x=\"159.409176\" xlink:href=\"#m3602492f1e\" y=\"227.616075\"/>\n      </g>\n     </g>\n     <g id=\"text_4\">\n      <!-- −0.25 -->\n      <g transform=\"translate(144.086519 242.214512)scale(0.1 -0.1)\">\n       <defs>\n        <path d=\"M 1228 531 \nL 3431 531 \nL 3431 0 \nL 469 0 \nL 469 531 \nQ 828 903 1448 1529 \nQ 2069 2156 2228 2338 \nQ 2531 2678 2651 2914 \nQ 2772 3150 2772 3378 \nQ 2772 3750 2511 3984 \nQ 2250 4219 1831 4219 \nQ 1534 4219 1204 4116 \nQ 875 4013 500 3803 \nL 500 4441 \nQ 881 4594 1212 4672 \nQ 1544 4750 1819 4750 \nQ 2544 4750 2975 4387 \nQ 3406 4025 3406 3419 \nQ 3406 3131 3298 2873 \nQ 3191 2616 2906 2266 \nQ 2828 2175 2409 1742 \nQ 1991 1309 1228 531 \nz\n\" id=\"DejaVuSans-32\" transform=\"scale(0.015625)\"/>\n       </defs>\n       <use xlink:href=\"#DejaVuSans-2212\"/>\n       <use x=\"83.789062\" xlink:href=\"#DejaVuSans-30\"/>\n       <use x=\"147.412109\" xlink:href=\"#DejaVuSans-2e\"/>\n       <use x=\"179.199219\" xlink:href=\"#DejaVuSans-32\"/>\n       <use x=\"242.822266\" xlink:href=\"#DejaVuSans-35\"/>\n      </g>\n     </g>\n    </g>\n    <g id=\"xtick_5\">\n     <g id=\"line2d_5\">\n      <g>\n       <use style=\"stroke:#000000;stroke-width:0.8;\" x=\"196.745245\" xlink:href=\"#m3602492f1e\" y=\"227.616075\"/>\n      </g>\n     </g>\n     <g id=\"text_5\">\n      <!-- 0.00 -->\n      <g transform=\"translate(185.612432 242.214512)scale(0.1 -0.1)\">\n       <use xlink:href=\"#DejaVuSans-30\"/>\n       <use x=\"63.623047\" xlink:href=\"#DejaVuSans-2e\"/>\n       <use x=\"95.410156\" xlink:href=\"#DejaVuSans-30\"/>\n       <use x=\"159.033203\" xlink:href=\"#DejaVuSans-30\"/>\n      </g>\n     </g>\n    </g>\n    <g id=\"xtick_6\">\n     <g id=\"line2d_6\">\n      <g>\n       <use style=\"stroke:#000000;stroke-width:0.8;\" x=\"234.081314\" xlink:href=\"#m3602492f1e\" y=\"227.616075\"/>\n      </g>\n     </g>\n     <g id=\"text_6\">\n      <!-- 0.25 -->\n      <g transform=\"translate(222.948502 242.214512)scale(0.1 -0.1)\">\n       <use xlink:href=\"#DejaVuSans-30\"/>\n       <use x=\"63.623047\" xlink:href=\"#DejaVuSans-2e\"/>\n       <use x=\"95.410156\" xlink:href=\"#DejaVuSans-32\"/>\n       <use x=\"159.033203\" xlink:href=\"#DejaVuSans-35\"/>\n      </g>\n     </g>\n    </g>\n    <g id=\"xtick_7\">\n     <g id=\"line2d_7\">\n      <g>\n       <use style=\"stroke:#000000;stroke-width:0.8;\" x=\"271.417383\" xlink:href=\"#m3602492f1e\" y=\"227.616075\"/>\n      </g>\n     </g>\n     <g id=\"text_7\">\n      <!-- 0.50 -->\n      <g transform=\"translate(260.284571 242.214512)scale(0.1 -0.1)\">\n       <use xlink:href=\"#DejaVuSans-30\"/>\n       <use x=\"63.623047\" xlink:href=\"#DejaVuSans-2e\"/>\n       <use x=\"95.410156\" xlink:href=\"#DejaVuSans-35\"/>\n       <use x=\"159.033203\" xlink:href=\"#DejaVuSans-30\"/>\n      </g>\n     </g>\n    </g>\n    <g id=\"xtick_8\">\n     <g id=\"line2d_8\">\n      <g>\n       <use style=\"stroke:#000000;stroke-width:0.8;\" x=\"308.753453\" xlink:href=\"#m3602492f1e\" y=\"227.616075\"/>\n      </g>\n     </g>\n     <g id=\"text_8\">\n      <!-- 0.75 -->\n      <g transform=\"translate(297.62064 242.214512)scale(0.1 -0.1)\">\n       <use xlink:href=\"#DejaVuSans-30\"/>\n       <use x=\"63.623047\" xlink:href=\"#DejaVuSans-2e\"/>\n       <use x=\"95.410156\" xlink:href=\"#DejaVuSans-37\"/>\n       <use x=\"159.033203\" xlink:href=\"#DejaVuSans-35\"/>\n      </g>\n     </g>\n    </g>\n    <g id=\"xtick_9\">\n     <g id=\"line2d_9\">\n      <g>\n       <use style=\"stroke:#000000;stroke-width:0.8;\" x=\"346.089522\" xlink:href=\"#m3602492f1e\" y=\"227.616075\"/>\n      </g>\n     </g>\n     <g id=\"text_9\">\n      <!-- 1.00 -->\n      <g transform=\"translate(334.956709 242.214512)scale(0.1 -0.1)\">\n       <use xlink:href=\"#DejaVuSans-31\"/>\n       <use x=\"63.623047\" xlink:href=\"#DejaVuSans-2e\"/>\n       <use x=\"95.410156\" xlink:href=\"#DejaVuSans-30\"/>\n       <use x=\"159.033203\" xlink:href=\"#DejaVuSans-30\"/>\n      </g>\n     </g>\n    </g>\n   </g>\n   <g id=\"matplotlib.axis_2\">\n    <g id=\"ytick_1\">\n     <g id=\"line2d_10\">\n      <defs>\n       <path d=\"M 0 0 \nL -3.5 0 \n\" id=\"m917fe5f07c\" style=\"stroke:#000000;stroke-width:0.8;\"/>\n      </defs>\n      <g>\n       <use style=\"stroke:#000000;stroke-width:0.8;\" x=\"39.65\" xlink:href=\"#m917fe5f07c\" y=\"227.616075\"/>\n      </g>\n     </g>\n     <g id=\"text_10\">\n      <!-- 0 -->\n      <g transform=\"translate(26.2875 231.415293)scale(0.1 -0.1)\">\n       <use xlink:href=\"#DejaVuSans-30\"/>\n      </g>\n     </g>\n    </g>\n    <g id=\"ytick_2\">\n     <g id=\"line2d_11\">\n      <g>\n       <use style=\"stroke:#000000;stroke-width:0.8;\" x=\"39.65\" xlink:href=\"#m917fe5f07c\" y=\"184.292704\"/>\n      </g>\n     </g>\n     <g id=\"text_11\">\n      <!-- 500 -->\n      <g transform=\"translate(13.5625 188.091922)scale(0.1 -0.1)\">\n       <use xlink:href=\"#DejaVuSans-35\"/>\n       <use x=\"63.623047\" xlink:href=\"#DejaVuSans-30\"/>\n       <use x=\"127.246094\" xlink:href=\"#DejaVuSans-30\"/>\n      </g>\n     </g>\n    </g>\n    <g id=\"ytick_3\">\n     <g id=\"line2d_12\">\n      <g>\n       <use style=\"stroke:#000000;stroke-width:0.8;\" x=\"39.65\" xlink:href=\"#m917fe5f07c\" y=\"140.969332\"/>\n      </g>\n     </g>\n     <g id=\"text_12\">\n      <!-- 1000 -->\n      <g transform=\"translate(7.2 144.768551)scale(0.1 -0.1)\">\n       <use xlink:href=\"#DejaVuSans-31\"/>\n       <use x=\"63.623047\" xlink:href=\"#DejaVuSans-30\"/>\n       <use x=\"127.246094\" xlink:href=\"#DejaVuSans-30\"/>\n       <use x=\"190.869141\" xlink:href=\"#DejaVuSans-30\"/>\n      </g>\n     </g>\n    </g>\n    <g id=\"ytick_4\">\n     <g id=\"line2d_13\">\n      <g>\n       <use style=\"stroke:#000000;stroke-width:0.8;\" x=\"39.65\" xlink:href=\"#m917fe5f07c\" y=\"97.645961\"/>\n      </g>\n     </g>\n     <g id=\"text_13\">\n      <!-- 1500 -->\n      <g transform=\"translate(7.2 101.44518)scale(0.1 -0.1)\">\n       <use xlink:href=\"#DejaVuSans-31\"/>\n       <use x=\"63.623047\" xlink:href=\"#DejaVuSans-35\"/>\n       <use x=\"127.246094\" xlink:href=\"#DejaVuSans-30\"/>\n       <use x=\"190.869141\" xlink:href=\"#DejaVuSans-30\"/>\n      </g>\n     </g>\n    </g>\n    <g id=\"ytick_5\">\n     <g id=\"line2d_14\">\n      <g>\n       <use style=\"stroke:#000000;stroke-width:0.8;\" x=\"39.65\" xlink:href=\"#m917fe5f07c\" y=\"54.32259\"/>\n      </g>\n     </g>\n     <g id=\"text_14\">\n      <!-- 2000 -->\n      <g transform=\"translate(7.2 58.121809)scale(0.1 -0.1)\">\n       <use xlink:href=\"#DejaVuSans-32\"/>\n       <use x=\"63.623047\" xlink:href=\"#DejaVuSans-30\"/>\n       <use x=\"127.246094\" xlink:href=\"#DejaVuSans-30\"/>\n       <use x=\"190.869141\" xlink:href=\"#DejaVuSans-30\"/>\n      </g>\n     </g>\n    </g>\n    <g id=\"ytick_6\">\n     <g id=\"line2d_15\">\n      <g>\n       <use style=\"stroke:#000000;stroke-width:0.8;\" x=\"39.65\" xlink:href=\"#m917fe5f07c\" y=\"10.999219\"/>\n      </g>\n     </g>\n     <g id=\"text_15\">\n      <!-- 2500 -->\n      <g transform=\"translate(7.2 14.798437)scale(0.1 -0.1)\">\n       <use xlink:href=\"#DejaVuSans-32\"/>\n       <use x=\"63.623047\" xlink:href=\"#DejaVuSans-35\"/>\n       <use x=\"127.246094\" xlink:href=\"#DejaVuSans-30\"/>\n       <use x=\"190.869141\" xlink:href=\"#DejaVuSans-30\"/>\n      </g>\n     </g>\n    </g>\n   </g>\n   <g id=\"patch_13\">\n    <path d=\"M 39.65 227.616075 \nL 39.65 10.176075 \n\" style=\"fill:none;stroke:#000000;stroke-linecap:square;stroke-linejoin:miter;stroke-width:0.8;\"/>\n   </g>\n   <g id=\"patch_14\">\n    <path d=\"M 374.45 227.616075 \nL 374.45 10.176075 \n\" style=\"fill:none;stroke:#000000;stroke-linecap:square;stroke-linejoin:miter;stroke-width:0.8;\"/>\n   </g>\n   <g id=\"patch_15\">\n    <path d=\"M 39.65 227.616075 \nL 374.45 227.616075 \n\" style=\"fill:none;stroke:#000000;stroke-linecap:square;stroke-linejoin:miter;stroke-width:0.8;\"/>\n   </g>\n   <g id=\"patch_16\">\n    <path d=\"M 39.65 10.176075 \nL 374.45 10.176075 \n\" style=\"fill:none;stroke:#000000;stroke-linecap:square;stroke-linejoin:miter;stroke-width:0.8;\"/>\n   </g>\n  </g>\n </g>\n <defs>\n  <clipPath id=\"p4f1c14442b\">\n   <rect height=\"217.44\" width=\"334.8\" x=\"39.65\" y=\"10.176075\"/>\n  </clipPath>\n </defs>\n</svg>\n",
      "image/png": "[encoded data removed]"
     },
     "metadata": {
      "needs_background": "light"
     }
    },
    {
     "output_type": "display_data",
     "data": {
      "text/plain": "<IPython.core.display.Javascript object>",
      "application/javascript": "\n            setTimeout(function() {\n                var nbb_cell_id = 81;\n                var nbb_unformatted_code = \"plt.hist(labtest_df['Cohen\\\\'s D Lab Test Score'], bins=10)\\nplt.show()\";\n                var nbb_formatted_code = \"plt.hist(labtest_df[\\\"Cohen's D Lab Test Score\\\"], bins=10)\\nplt.show()\";\n                var nbb_cells = Jupyter.notebook.get_cells();\n                for (var i = 0; i < nbb_cells.length; ++i) {\n                    if (nbb_cells[i].input_prompt_number == nbb_cell_id) {\n                        if (nbb_cells[i].get_text() == nbb_unformatted_code) {\n                             nbb_cells[i].set_text(nbb_formatted_code);\n                        }\n                        break;\n                    }\n                }\n            }, 500);\n            "
     },
     "metadata": {}
    }
   ],
   "source": [
    "plt.hist(labtest_df[\"Cohen's D Lab Test Score\"], bins=10)\n",
    "plt.show()"
   ]
  },
  {
   "cell_type": "code",
   "execution_count": 82,
   "metadata": {},
   "outputs": [
    {
     "output_type": "display_data",
     "data": {
      "text/plain": "<Figure size 432x288 with 1 Axes>",
      "image/svg+xml": "<?xml version=\"1.0\" encoding=\"utf-8\" standalone=\"no\"?>\n<!DOCTYPE svg PUBLIC \"-//W3C//DTD SVG 1.1//EN\"\n  \"http://www.w3.org/Graphics/SVG/1.1/DTD/svg11.dtd\">\n<svg height=\"248.518125pt\" version=\"1.1\" viewBox=\"0 0 381.65 248.518125\" width=\"381.65pt\" xmlns=\"http://www.w3.org/2000/svg\" xmlns:xlink=\"http://www.w3.org/1999/xlink\">\n <metadata>\n  <rdf:RDF xmlns:cc=\"http://creativecommons.org/ns#\" xmlns:dc=\"http://purl.org/dc/elements/1.1/\" xmlns:rdf=\"http://www.w3.org/1999/02/22-rdf-syntax-ns#\">\n   <cc:Work>\n    <dc:type rdf:resource=\"http://purl.org/dc/dcmitype/StillImage\"/>\n    <dc:date>2021-05-17T16:32:43.828068</dc:date>\n    <dc:format>image/svg+xml</dc:format>\n    <dc:creator>\n     <cc:Agent>\n      <dc:title>Matplotlib v3.4.2, https://matplotlib.org/</dc:title>\n     </cc:Agent>\n    </dc:creator>\n   </cc:Work>\n  </rdf:RDF>\n </metadata>\n <defs>\n  <style type=\"text/css\">*{stroke-linecap:butt;stroke-linejoin:round;}</style>\n </defs>\n <g id=\"figure_1\">\n  <g id=\"patch_1\">\n   <path d=\"M -0 248.518125 \nL 381.65 248.518125 \nL 381.65 0 \nL -0 0 \nz\n\" style=\"fill:none;\"/>\n  </g>\n  <g id=\"axes_1\">\n   <g id=\"patch_2\">\n    <path d=\"M 39.65 224.64 \nL 374.45 224.64 \nL 374.45 7.2 \nL 39.65 7.2 \nz\n\" style=\"fill:#ffffff;\"/>\n   </g>\n   <g id=\"patch_3\">\n    <path clip-path=\"url(#pf6987e2bf5)\" d=\"M 54.868182 224.64 \nL 57.911818 224.64 \nL 57.911818 224.473933 \nL 54.868182 224.473933 \nz\n\" style=\"fill:#1f77b4;\"/>\n   </g>\n   <g id=\"patch_4\">\n    <path clip-path=\"url(#pf6987e2bf5)\" d=\"M 57.911818 224.64 \nL 60.955455 224.64 \nL 60.955455 224.64 \nL 57.911818 224.64 \nz\n\" style=\"fill:#1f77b4;\"/>\n   </g>\n   <g id=\"patch_5\">\n    <path clip-path=\"url(#pf6987e2bf5)\" d=\"M 60.955455 224.64 \nL 63.999091 224.64 \nL 63.999091 224.473933 \nL 60.955455 224.473933 \nz\n\" style=\"fill:#1f77b4;\"/>\n   </g>\n   <g id=\"patch_6\">\n    <path clip-path=\"url(#pf6987e2bf5)\" d=\"M 63.999091 224.64 \nL 67.042727 224.64 \nL 67.042727 224.64 \nL 63.999091 224.64 \nz\n\" style=\"fill:#1f77b4;\"/>\n   </g>\n   <g id=\"patch_7\">\n    <path clip-path=\"url(#pf6987e2bf5)\" d=\"M 67.042727 224.64 \nL 70.086364 224.64 \nL 70.086364 224.473933 \nL 67.042727 224.473933 \nz\n\" style=\"fill:#1f77b4;\"/>\n   </g>\n   <g id=\"patch_8\">\n    <path clip-path=\"url(#pf6987e2bf5)\" d=\"M 70.086364 224.64 \nL 73.13 224.64 \nL 73.13 224.473933 \nL 70.086364 224.473933 \nz\n\" style=\"fill:#1f77b4;\"/>\n   </g>\n   <g id=\"patch_9\">\n    <path clip-path=\"url(#pf6987e2bf5)\" d=\"M 73.13 224.64 \nL 76.173636 224.64 \nL 76.173636 224.473933 \nL 73.13 224.473933 \nz\n\" style=\"fill:#1f77b4;\"/>\n   </g>\n   <g id=\"patch_10\">\n    <path clip-path=\"url(#pf6987e2bf5)\" d=\"M 76.173636 224.64 \nL 79.217273 224.64 \nL 79.217273 224.473933 \nL 76.173636 224.473933 \nz\n\" style=\"fill:#1f77b4;\"/>\n   </g>\n   <g id=\"patch_11\">\n    <path clip-path=\"url(#pf6987e2bf5)\" d=\"M 79.217273 224.64 \nL 82.260909 224.64 \nL 82.260909 223.809664 \nL 79.217273 223.809664 \nz\n\" style=\"fill:#1f77b4;\"/>\n   </g>\n   <g id=\"patch_12\">\n    <path clip-path=\"url(#pf6987e2bf5)\" d=\"M 82.260909 224.64 \nL 85.304545 224.64 \nL 85.304545 224.307866 \nL 82.260909 224.307866 \nz\n\" style=\"fill:#1f77b4;\"/>\n   </g>\n   <g id=\"patch_13\">\n    <path clip-path=\"url(#pf6987e2bf5)\" d=\"M 85.304545 224.64 \nL 88.348182 224.64 \nL 88.348182 224.473933 \nL 85.304545 224.473933 \nz\n\" style=\"fill:#1f77b4;\"/>\n   </g>\n   <g id=\"patch_14\">\n    <path clip-path=\"url(#pf6987e2bf5)\" d=\"M 88.348182 224.64 \nL 91.391818 224.64 \nL 91.391818 224.307866 \nL 88.348182 224.307866 \nz\n\" style=\"fill:#1f77b4;\"/>\n   </g>\n   <g id=\"patch_15\">\n    <path clip-path=\"url(#pf6987e2bf5)\" d=\"M 91.391818 224.64 \nL 94.435455 224.64 \nL 94.435455 224.473933 \nL 91.391818 224.473933 \nz\n\" style=\"fill:#1f77b4;\"/>\n   </g>\n   <g id=\"patch_16\">\n    <path clip-path=\"url(#pf6987e2bf5)\" d=\"M 94.435455 224.64 \nL 97.479091 224.64 \nL 97.479091 224.473933 \nL 94.435455 224.473933 \nz\n\" style=\"fill:#1f77b4;\"/>\n   </g>\n   <g id=\"patch_17\">\n    <path clip-path=\"url(#pf6987e2bf5)\" d=\"M 97.479091 224.64 \nL 100.522727 224.64 \nL 100.522727 224.141799 \nL 97.479091 224.141799 \nz\n\" style=\"fill:#1f77b4;\"/>\n   </g>\n   <g id=\"patch_18\">\n    <path clip-path=\"url(#pf6987e2bf5)\" d=\"M 100.522727 224.64 \nL 103.566364 224.64 \nL 103.566364 224.307866 \nL 100.522727 224.307866 \nz\n\" style=\"fill:#1f77b4;\"/>\n   </g>\n   <g id=\"patch_19\">\n    <path clip-path=\"url(#pf6987e2bf5)\" d=\"M 103.566364 224.64 \nL 106.61 224.64 \nL 106.61 223.975731 \nL 103.566364 223.975731 \nz\n\" style=\"fill:#1f77b4;\"/>\n   </g>\n   <g id=\"patch_20\">\n    <path clip-path=\"url(#pf6987e2bf5)\" d=\"M 106.61 224.64 \nL 109.653636 224.64 \nL 109.653636 223.311463 \nL 106.61 223.311463 \nz\n\" style=\"fill:#1f77b4;\"/>\n   </g>\n   <g id=\"patch_21\">\n    <path clip-path=\"url(#pf6987e2bf5)\" d=\"M 109.653636 224.64 \nL 112.697273 224.64 \nL 112.697273 223.809664 \nL 109.653636 223.809664 \nz\n\" style=\"fill:#1f77b4;\"/>\n   </g>\n   <g id=\"patch_22\">\n    <path clip-path=\"url(#pf6987e2bf5)\" d=\"M 112.697273 224.64 \nL 115.740909 224.64 \nL 115.740909 223.145396 \nL 112.697273 223.145396 \nz\n\" style=\"fill:#1f77b4;\"/>\n   </g>\n   <g id=\"patch_23\">\n    <path clip-path=\"url(#pf6987e2bf5)\" d=\"M 115.740909 224.64 \nL 118.784545 224.64 \nL 118.784545 222.813262 \nL 115.740909 222.813262 \nz\n\" style=\"fill:#1f77b4;\"/>\n   </g>\n   <g id=\"patch_24\">\n    <path clip-path=\"url(#pf6987e2bf5)\" d=\"M 118.784545 224.64 \nL 121.828182 224.64 \nL 121.828182 222.979329 \nL 118.784545 222.979329 \nz\n\" style=\"fill:#1f77b4;\"/>\n   </g>\n   <g id=\"patch_25\">\n    <path clip-path=\"url(#pf6987e2bf5)\" d=\"M 121.828182 224.64 \nL 124.871818 224.64 \nL 124.871818 221.816859 \nL 121.828182 221.816859 \nz\n\" style=\"fill:#1f77b4;\"/>\n   </g>\n   <g id=\"patch_26\">\n    <path clip-path=\"url(#pf6987e2bf5)\" d=\"M 124.871818 224.64 \nL 127.915455 224.64 \nL 127.915455 221.982926 \nL 124.871818 221.982926 \nz\n\" style=\"fill:#1f77b4;\"/>\n   </g>\n   <g id=\"patch_27\">\n    <path clip-path=\"url(#pf6987e2bf5)\" d=\"M 127.915455 224.64 \nL 130.959091 224.64 \nL 130.959091 221.816859 \nL 127.915455 221.816859 \nz\n\" style=\"fill:#1f77b4;\"/>\n   </g>\n   <g id=\"patch_28\">\n    <path clip-path=\"url(#pf6987e2bf5)\" d=\"M 130.959091 224.64 \nL 134.002727 224.64 \nL 134.002727 221.816859 \nL 130.959091 221.816859 \nz\n\" style=\"fill:#1f77b4;\"/>\n   </g>\n   <g id=\"patch_29\">\n    <path clip-path=\"url(#pf6987e2bf5)\" d=\"M 134.002727 224.64 \nL 137.046364 224.64 \nL 137.046364 221.982926 \nL 134.002727 221.982926 \nz\n\" style=\"fill:#1f77b4;\"/>\n   </g>\n   <g id=\"patch_30\">\n    <path clip-path=\"url(#pf6987e2bf5)\" d=\"M 137.046364 224.64 \nL 140.09 224.64 \nL 140.09 221.982926 \nL 137.046364 221.982926 \nz\n\" style=\"fill:#1f77b4;\"/>\n   </g>\n   <g id=\"patch_31\">\n    <path clip-path=\"url(#pf6987e2bf5)\" d=\"M 140.09 224.64 \nL 143.133636 224.64 \nL 143.133636 222.647194 \nL 140.09 222.647194 \nz\n\" style=\"fill:#1f77b4;\"/>\n   </g>\n   <g id=\"patch_32\">\n    <path clip-path=\"url(#pf6987e2bf5)\" d=\"M 143.133636 224.64 \nL 146.177273 224.64 \nL 146.177273 221.816859 \nL 143.133636 221.816859 \nz\n\" style=\"fill:#1f77b4;\"/>\n   </g>\n   <g id=\"patch_33\">\n    <path clip-path=\"url(#pf6987e2bf5)\" d=\"M 146.177273 224.64 \nL 149.220909 224.64 \nL 149.220909 221.318657 \nL 146.177273 221.318657 \nz\n\" style=\"fill:#1f77b4;\"/>\n   </g>\n   <g id=\"patch_34\">\n    <path clip-path=\"url(#pf6987e2bf5)\" d=\"M 149.220909 224.64 \nL 152.264545 224.64 \nL 152.264545 213.347435 \nL 149.220909 213.347435 \nz\n\" style=\"fill:#1f77b4;\"/>\n   </g>\n   <g id=\"patch_35\">\n    <path clip-path=\"url(#pf6987e2bf5)\" d=\"M 152.264545 224.64 \nL 155.308182 224.64 \nL 155.308182 219.824053 \nL 152.264545 219.824053 \nz\n\" style=\"fill:#1f77b4;\"/>\n   </g>\n   <g id=\"patch_36\">\n    <path clip-path=\"url(#pf6987e2bf5)\" d=\"M 155.308182 224.64 \nL 158.351818 224.64 \nL 158.351818 219.491919 \nL 155.308182 219.491919 \nz\n\" style=\"fill:#1f77b4;\"/>\n   </g>\n   <g id=\"patch_37\">\n    <path clip-path=\"url(#pf6987e2bf5)\" d=\"M 158.351818 224.64 \nL 161.395455 224.64 \nL 161.395455 215.174173 \nL 158.351818 215.174173 \nz\n\" style=\"fill:#1f77b4;\"/>\n   </g>\n   <g id=\"patch_38\">\n    <path clip-path=\"url(#pf6987e2bf5)\" d=\"M 161.395455 224.64 \nL 164.439091 224.64 \nL 164.439091 214.509905 \nL 161.395455 214.509905 \nz\n\" style=\"fill:#1f77b4;\"/>\n   </g>\n   <g id=\"patch_39\">\n    <path clip-path=\"url(#pf6987e2bf5)\" d=\"M 164.439091 224.64 \nL 167.482727 224.64 \nL 167.482727 218.329449 \nL 164.439091 218.329449 \nz\n\" style=\"fill:#1f77b4;\"/>\n   </g>\n   <g id=\"patch_40\">\n    <path clip-path=\"url(#pf6987e2bf5)\" d=\"M 167.482727 224.64 \nL 170.526364 224.64 \nL 170.526364 210.690361 \nL 167.482727 210.690361 \nz\n\" style=\"fill:#1f77b4;\"/>\n   </g>\n   <g id=\"patch_41\">\n    <path clip-path=\"url(#pf6987e2bf5)\" d=\"M 170.526364 224.64 \nL 173.57 224.64 \nL 173.57 212.018898 \nL 170.526364 212.018898 \nz\n\" style=\"fill:#1f77b4;\"/>\n   </g>\n   <g id=\"patch_42\">\n    <path clip-path=\"url(#pf6987e2bf5)\" d=\"M 173.57 224.64 \nL 176.613636 224.64 \nL 176.613636 207.701152 \nL 173.57 207.701152 \nz\n\" style=\"fill:#1f77b4;\"/>\n   </g>\n   <g id=\"patch_43\">\n    <path clip-path=\"url(#pf6987e2bf5)\" d=\"M 176.613636 224.64 \nL 179.657273 224.64 \nL 179.657273 208.199354 \nL 176.613636 208.199354 \nz\n\" style=\"fill:#1f77b4;\"/>\n   </g>\n   <g id=\"patch_44\">\n    <path clip-path=\"url(#pf6987e2bf5)\" d=\"M 179.657273 224.64 \nL 182.700909 224.64 \nL 182.700909 201.722736 \nL 179.657273 201.722736 \nz\n\" style=\"fill:#1f77b4;\"/>\n   </g>\n   <g id=\"patch_45\">\n    <path clip-path=\"url(#pf6987e2bf5)\" d=\"M 182.700909 224.64 \nL 185.744545 224.64 \nL 185.744545 194.913983 \nL 182.700909 194.913983 \nz\n\" style=\"fill:#1f77b4;\"/>\n   </g>\n   <g id=\"patch_46\">\n    <path clip-path=\"url(#pf6987e2bf5)\" d=\"M 185.744545 224.64 \nL 188.788182 224.64 \nL 188.788182 184.617821 \nL 185.744545 184.617821 \nz\n\" style=\"fill:#1f77b4;\"/>\n   </g>\n   <g id=\"patch_47\">\n    <path clip-path=\"url(#pf6987e2bf5)\" d=\"M 188.788182 224.64 \nL 191.831818 224.64 \nL 191.831818 161.866624 \nL 188.788182 161.866624 \nz\n\" style=\"fill:#1f77b4;\"/>\n   </g>\n   <g id=\"patch_48\">\n    <path clip-path=\"url(#pf6987e2bf5)\" d=\"M 191.831818 224.64 \nL 194.875455 224.64 \nL 194.875455 137.620823 \nL 191.831818 137.620823 \nz\n\" style=\"fill:#1f77b4;\"/>\n   </g>\n   <g id=\"patch_49\">\n    <path clip-path=\"url(#pf6987e2bf5)\" d=\"M 194.875455 224.64 \nL 197.919091 224.64 \nL 197.919091 17.554286 \nL 194.875455 17.554286 \nz\n\" style=\"fill:#1f77b4;\"/>\n   </g>\n   <g id=\"patch_50\">\n    <path clip-path=\"url(#pf6987e2bf5)\" d=\"M 197.919091 224.64 \nL 200.962727 224.64 \nL 200.962727 125.497922 \nL 197.919091 125.497922 \nz\n\" style=\"fill:#1f77b4;\"/>\n   </g>\n   <g id=\"patch_51\">\n    <path clip-path=\"url(#pf6987e2bf5)\" d=\"M 200.962727 224.64 \nL 204.006364 224.64 \nL 204.006364 165.187967 \nL 200.962727 165.187967 \nz\n\" style=\"fill:#1f77b4;\"/>\n   </g>\n   <g id=\"patch_52\">\n    <path clip-path=\"url(#pf6987e2bf5)\" d=\"M 204.006364 224.64 \nL 207.05 224.64 \nL 207.05 183.953553 \nL 204.006364 183.953553 \nz\n\" style=\"fill:#1f77b4;\"/>\n   </g>\n   <g id=\"patch_53\">\n    <path clip-path=\"url(#pf6987e2bf5)\" d=\"M 207.05 224.64 \nL 210.093636 224.64 \nL 210.093636 195.246118 \nL 207.05 195.246118 \nz\n\" style=\"fill:#1f77b4;\"/>\n   </g>\n   <g id=\"patch_54\">\n    <path clip-path=\"url(#pf6987e2bf5)\" d=\"M 210.093636 224.64 \nL 213.137273 224.64 \nL 213.137273 199.72993 \nL 210.093636 199.72993 \nz\n\" style=\"fill:#1f77b4;\"/>\n   </g>\n   <g id=\"patch_55\">\n    <path clip-path=\"url(#pf6987e2bf5)\" d=\"M 213.137273 224.64 \nL 216.180909 224.64 \nL 216.180909 205.874414 \nL 213.137273 205.874414 \nz\n\" style=\"fill:#1f77b4;\"/>\n   </g>\n   <g id=\"patch_56\">\n    <path clip-path=\"url(#pf6987e2bf5)\" d=\"M 216.180909 224.64 \nL 219.224545 224.64 \nL 219.224545 208.697555 \nL 216.180909 208.697555 \nz\n\" style=\"fill:#1f77b4;\"/>\n   </g>\n   <g id=\"patch_57\">\n    <path clip-path=\"url(#pf6987e2bf5)\" d=\"M 219.224545 224.64 \nL 222.268182 224.64 \nL 222.268182 212.018898 \nL 219.224545 212.018898 \nz\n\" style=\"fill:#1f77b4;\"/>\n   </g>\n   <g id=\"patch_58\">\n    <path clip-path=\"url(#pf6987e2bf5)\" d=\"M 222.268182 224.64 \nL 225.311818 224.64 \nL 225.311818 213.845636 \nL 222.268182 213.845636 \nz\n\" style=\"fill:#1f77b4;\"/>\n   </g>\n   <g id=\"patch_59\">\n    <path clip-path=\"url(#pf6987e2bf5)\" d=\"M 225.311818 224.64 \nL 228.355455 224.64 \nL 228.355455 214.343838 \nL 225.311818 214.343838 \nz\n\" style=\"fill:#1f77b4;\"/>\n   </g>\n   <g id=\"patch_60\">\n    <path clip-path=\"url(#pf6987e2bf5)\" d=\"M 228.355455 224.64 \nL 231.399091 224.64 \nL 231.399091 216.170576 \nL 228.355455 216.170576 \nz\n\" style=\"fill:#1f77b4;\"/>\n   </g>\n   <g id=\"patch_61\">\n    <path clip-path=\"url(#pf6987e2bf5)\" d=\"M 231.399091 224.64 \nL 234.442727 224.64 \nL 234.442727 217.997315 \nL 231.399091 217.997315 \nz\n\" style=\"fill:#1f77b4;\"/>\n   </g>\n   <g id=\"patch_62\">\n    <path clip-path=\"url(#pf6987e2bf5)\" d=\"M 234.442727 224.64 \nL 237.486364 224.64 \nL 237.486364 217.66518 \nL 234.442727 217.66518 \nz\n\" style=\"fill:#1f77b4;\"/>\n   </g>\n   <g id=\"patch_63\">\n    <path clip-path=\"url(#pf6987e2bf5)\" d=\"M 237.486364 224.64 \nL 240.53 224.64 \nL 240.53 219.824053 \nL 237.486364 219.824053 \nz\n\" style=\"fill:#1f77b4;\"/>\n   </g>\n   <g id=\"patch_64\">\n    <path clip-path=\"url(#pf6987e2bf5)\" d=\"M 240.53 224.64 \nL 243.573636 224.64 \nL 243.573636 214.509905 \nL 240.53 214.509905 \nz\n\" style=\"fill:#1f77b4;\"/>\n   </g>\n   <g id=\"patch_65\">\n    <path clip-path=\"url(#pf6987e2bf5)\" d=\"M 243.573636 224.64 \nL 246.617273 224.64 \nL 246.617273 220.156187 \nL 243.573636 220.156187 \nz\n\" style=\"fill:#1f77b4;\"/>\n   </g>\n   <g id=\"patch_66\">\n    <path clip-path=\"url(#pf6987e2bf5)\" d=\"M 246.617273 224.64 \nL 249.660909 224.64 \nL 249.660909 221.484724 \nL 246.617273 221.484724 \nz\n\" style=\"fill:#1f77b4;\"/>\n   </g>\n   <g id=\"patch_67\">\n    <path clip-path=\"url(#pf6987e2bf5)\" d=\"M 249.660909 224.64 \nL 252.704545 224.64 \nL 252.704545 221.484724 \nL 249.660909 221.484724 \nz\n\" style=\"fill:#1f77b4;\"/>\n   </g>\n   <g id=\"patch_68\">\n    <path clip-path=\"url(#pf6987e2bf5)\" d=\"M 252.704545 224.64 \nL 255.748182 224.64 \nL 255.748182 220.986523 \nL 252.704545 220.986523 \nz\n\" style=\"fill:#1f77b4;\"/>\n   </g>\n   <g id=\"patch_69\">\n    <path clip-path=\"url(#pf6987e2bf5)\" d=\"M 255.748182 224.64 \nL 258.791818 224.64 \nL 258.791818 221.484724 \nL 255.748182 221.484724 \nz\n\" style=\"fill:#1f77b4;\"/>\n   </g>\n   <g id=\"patch_70\">\n    <path clip-path=\"url(#pf6987e2bf5)\" d=\"M 258.791818 224.64 \nL 261.835455 224.64 \nL 261.835455 221.982926 \nL 258.791818 221.982926 \nz\n\" style=\"fill:#1f77b4;\"/>\n   </g>\n   <g id=\"patch_71\">\n    <path clip-path=\"url(#pf6987e2bf5)\" d=\"M 261.835455 224.64 \nL 264.879091 224.64 \nL 264.879091 221.816859 \nL 261.835455 221.816859 \nz\n\" style=\"fill:#1f77b4;\"/>\n   </g>\n   <g id=\"patch_72\">\n    <path clip-path=\"url(#pf6987e2bf5)\" d=\"M 264.879091 224.64 \nL 267.922727 224.64 \nL 267.922727 221.318657 \nL 264.879091 221.318657 \nz\n\" style=\"fill:#1f77b4;\"/>\n   </g>\n   <g id=\"patch_73\">\n    <path clip-path=\"url(#pf6987e2bf5)\" d=\"M 267.922727 224.64 \nL 270.966364 224.64 \nL 270.966364 220.986523 \nL 267.922727 220.986523 \nz\n\" style=\"fill:#1f77b4;\"/>\n   </g>\n   <g id=\"patch_74\">\n    <path clip-path=\"url(#pf6987e2bf5)\" d=\"M 270.966364 224.64 \nL 274.01 224.64 \nL 274.01 221.484724 \nL 270.966364 221.484724 \nz\n\" style=\"fill:#1f77b4;\"/>\n   </g>\n   <g id=\"patch_75\">\n    <path clip-path=\"url(#pf6987e2bf5)\" d=\"M 274.01 224.64 \nL 277.053636 224.64 \nL 277.053636 223.311463 \nL 274.01 223.311463 \nz\n\" style=\"fill:#1f77b4;\"/>\n   </g>\n   <g id=\"patch_76\">\n    <path clip-path=\"url(#pf6987e2bf5)\" d=\"M 277.053636 224.64 \nL 280.097273 224.64 \nL 280.097273 224.141799 \nL 277.053636 224.141799 \nz\n\" style=\"fill:#1f77b4;\"/>\n   </g>\n   <g id=\"patch_77\">\n    <path clip-path=\"url(#pf6987e2bf5)\" d=\"M 280.097273 224.64 \nL 283.140909 224.64 \nL 283.140909 223.975731 \nL 280.097273 223.975731 \nz\n\" style=\"fill:#1f77b4;\"/>\n   </g>\n   <g id=\"patch_78\">\n    <path clip-path=\"url(#pf6987e2bf5)\" d=\"M 283.140909 224.64 \nL 286.184545 224.64 \nL 286.184545 222.813262 \nL 283.140909 222.813262 \nz\n\" style=\"fill:#1f77b4;\"/>\n   </g>\n   <g id=\"patch_79\">\n    <path clip-path=\"url(#pf6987e2bf5)\" d=\"M 286.184545 224.64 \nL 289.228182 224.64 \nL 289.228182 223.975731 \nL 286.184545 223.975731 \nz\n\" style=\"fill:#1f77b4;\"/>\n   </g>\n   <g id=\"patch_80\">\n    <path clip-path=\"url(#pf6987e2bf5)\" d=\"M 289.228182 224.64 \nL 292.271818 224.64 \nL 292.271818 223.809664 \nL 289.228182 223.809664 \nz\n\" style=\"fill:#1f77b4;\"/>\n   </g>\n   <g id=\"patch_81\">\n    <path clip-path=\"url(#pf6987e2bf5)\" d=\"M 292.271818 224.64 \nL 295.315455 224.64 \nL 295.315455 223.975731 \nL 292.271818 223.975731 \nz\n\" style=\"fill:#1f77b4;\"/>\n   </g>\n   <g id=\"patch_82\">\n    <path clip-path=\"url(#pf6987e2bf5)\" d=\"M 295.315455 224.64 \nL 298.359091 224.64 \nL 298.359091 224.64 \nL 295.315455 224.64 \nz\n\" style=\"fill:#1f77b4;\"/>\n   </g>\n   <g id=\"patch_83\">\n    <path clip-path=\"url(#pf6987e2bf5)\" d=\"M 298.359091 224.64 \nL 301.402727 224.64 \nL 301.402727 224.64 \nL 298.359091 224.64 \nz\n\" style=\"fill:#1f77b4;\"/>\n   </g>\n   <g id=\"patch_84\">\n    <path clip-path=\"url(#pf6987e2bf5)\" d=\"M 301.402727 224.64 \nL 304.446364 224.64 \nL 304.446364 224.473933 \nL 301.402727 224.473933 \nz\n\" style=\"fill:#1f77b4;\"/>\n   </g>\n   <g id=\"patch_85\">\n    <path clip-path=\"url(#pf6987e2bf5)\" d=\"M 304.446364 224.64 \nL 307.49 224.64 \nL 307.49 224.307866 \nL 304.446364 224.307866 \nz\n\" style=\"fill:#1f77b4;\"/>\n   </g>\n   <g id=\"patch_86\">\n    <path clip-path=\"url(#pf6987e2bf5)\" d=\"M 307.49 224.64 \nL 310.533636 224.64 \nL 310.533636 224.64 \nL 307.49 224.64 \nz\n\" style=\"fill:#1f77b4;\"/>\n   </g>\n   <g id=\"patch_87\">\n    <path clip-path=\"url(#pf6987e2bf5)\" d=\"M 310.533636 224.64 \nL 313.577273 224.64 \nL 313.577273 224.141799 \nL 310.533636 224.141799 \nz\n\" style=\"fill:#1f77b4;\"/>\n   </g>\n   <g id=\"patch_88\">\n    <path clip-path=\"url(#pf6987e2bf5)\" d=\"M 313.577273 224.64 \nL 316.620909 224.64 \nL 316.620909 224.64 \nL 313.577273 224.64 \nz\n\" style=\"fill:#1f77b4;\"/>\n   </g>\n   <g id=\"patch_89\">\n    <path clip-path=\"url(#pf6987e2bf5)\" d=\"M 316.620909 224.64 \nL 319.664545 224.64 \nL 319.664545 224.473933 \nL 316.620909 224.473933 \nz\n\" style=\"fill:#1f77b4;\"/>\n   </g>\n   <g id=\"patch_90\">\n    <path clip-path=\"url(#pf6987e2bf5)\" d=\"M 319.664545 224.64 \nL 322.708182 224.64 \nL 322.708182 224.473933 \nL 319.664545 224.473933 \nz\n\" style=\"fill:#1f77b4;\"/>\n   </g>\n   <g id=\"patch_91\">\n    <path clip-path=\"url(#pf6987e2bf5)\" d=\"M 322.708182 224.64 \nL 325.751818 224.64 \nL 325.751818 224.473933 \nL 322.708182 224.473933 \nz\n\" style=\"fill:#1f77b4;\"/>\n   </g>\n   <g id=\"patch_92\">\n    <path clip-path=\"url(#pf6987e2bf5)\" d=\"M 325.751818 224.64 \nL 328.795455 224.64 \nL 328.795455 224.473933 \nL 325.751818 224.473933 \nz\n\" style=\"fill:#1f77b4;\"/>\n   </g>\n   <g id=\"patch_93\">\n    <path clip-path=\"url(#pf6987e2bf5)\" d=\"M 328.795455 224.64 \nL 331.839091 224.64 \nL 331.839091 224.473933 \nL 328.795455 224.473933 \nz\n\" style=\"fill:#1f77b4;\"/>\n   </g>\n   <g id=\"patch_94\">\n    <path clip-path=\"url(#pf6987e2bf5)\" d=\"M 331.839091 224.64 \nL 334.882727 224.64 \nL 334.882727 224.64 \nL 331.839091 224.64 \nz\n\" style=\"fill:#1f77b4;\"/>\n   </g>\n   <g id=\"patch_95\">\n    <path clip-path=\"url(#pf6987e2bf5)\" d=\"M 334.882727 224.64 \nL 337.926364 224.64 \nL 337.926364 224.64 \nL 334.882727 224.64 \nz\n\" style=\"fill:#1f77b4;\"/>\n   </g>\n   <g id=\"patch_96\">\n    <path clip-path=\"url(#pf6987e2bf5)\" d=\"M 337.926364 224.64 \nL 340.97 224.64 \nL 340.97 224.64 \nL 337.926364 224.64 \nz\n\" style=\"fill:#1f77b4;\"/>\n   </g>\n   <g id=\"patch_97\">\n    <path clip-path=\"url(#pf6987e2bf5)\" d=\"M 340.97 224.64 \nL 344.013636 224.64 \nL 344.013636 224.64 \nL 340.97 224.64 \nz\n\" style=\"fill:#1f77b4;\"/>\n   </g>\n   <g id=\"patch_98\">\n    <path clip-path=\"url(#pf6987e2bf5)\" d=\"M 344.013636 224.64 \nL 347.057273 224.64 \nL 347.057273 224.64 \nL 344.013636 224.64 \nz\n\" style=\"fill:#1f77b4;\"/>\n   </g>\n   <g id=\"patch_99\">\n    <path clip-path=\"url(#pf6987e2bf5)\" d=\"M 347.057273 224.64 \nL 350.100909 224.64 \nL 350.100909 224.64 \nL 347.057273 224.64 \nz\n\" style=\"fill:#1f77b4;\"/>\n   </g>\n   <g id=\"patch_100\">\n    <path clip-path=\"url(#pf6987e2bf5)\" d=\"M 350.100909 224.64 \nL 353.144545 224.64 \nL 353.144545 224.64 \nL 350.100909 224.64 \nz\n\" style=\"fill:#1f77b4;\"/>\n   </g>\n   <g id=\"patch_101\">\n    <path clip-path=\"url(#pf6987e2bf5)\" d=\"M 353.144545 224.64 \nL 356.188182 224.64 \nL 356.188182 224.64 \nL 353.144545 224.64 \nz\n\" style=\"fill:#1f77b4;\"/>\n   </g>\n   <g id=\"patch_102\">\n    <path clip-path=\"url(#pf6987e2bf5)\" d=\"M 356.188182 224.64 \nL 359.231818 224.64 \nL 359.231818 224.473933 \nL 356.188182 224.473933 \nz\n\" style=\"fill:#1f77b4;\"/>\n   </g>\n   <g id=\"matplotlib.axis_1\">\n    <g id=\"xtick_1\">\n     <g id=\"line2d_1\">\n      <defs>\n       <path d=\"M 0 0 \nL 0 3.5 \n\" id=\"md6e87cb6c8\" style=\"stroke:#000000;stroke-width:0.8;\"/>\n      </defs>\n      <g>\n       <use style=\"stroke:#000000;stroke-width:0.8;\" x=\"67.498722\" xlink:href=\"#md6e87cb6c8\" y=\"224.64\"/>\n      </g>\n     </g>\n     <g id=\"text_1\">\n      <!-- −2 -->\n      <g transform=\"translate(60.127628 239.238437)scale(0.1 -0.1)\">\n       <defs>\n        <path d=\"M 678 2272 \nL 4684 2272 \nL 4684 1741 \nL 678 1741 \nL 678 2272 \nz\n\" id=\"DejaVuSans-2212\" transform=\"scale(0.015625)\"/>\n        <path d=\"M 1228 531 \nL 3431 531 \nL 3431 0 \nL 469 0 \nL 469 531 \nQ 828 903 1448 1529 \nQ 2069 2156 2228 2338 \nQ 2531 2678 2651 2914 \nQ 2772 3150 2772 3378 \nQ 2772 3750 2511 3984 \nQ 2250 4219 1831 4219 \nQ 1534 4219 1204 4116 \nQ 875 4013 500 3803 \nL 500 4441 \nQ 881 4594 1212 4672 \nQ 1544 4750 1819 4750 \nQ 2544 4750 2975 4387 \nQ 3406 4025 3406 3419 \nQ 3406 3131 3298 2873 \nQ 3191 2616 2906 2266 \nQ 2828 2175 2409 1742 \nQ 1991 1309 1228 531 \nz\n\" id=\"DejaVuSans-32\" transform=\"scale(0.015625)\"/>\n       </defs>\n       <use xlink:href=\"#DejaVuSans-2212\"/>\n       <use x=\"83.789062\" xlink:href=\"#DejaVuSans-32\"/>\n      </g>\n     </g>\n    </g>\n    <g id=\"xtick_2\">\n     <g id=\"line2d_2\">\n      <g>\n       <use style=\"stroke:#000000;stroke-width:0.8;\" x=\"132.270724\" xlink:href=\"#md6e87cb6c8\" y=\"224.64\"/>\n      </g>\n     </g>\n     <g id=\"text_2\">\n      <!-- −1 -->\n      <g transform=\"translate(124.89963 239.238437)scale(0.1 -0.1)\">\n       <defs>\n        <path d=\"M 794 531 \nL 1825 531 \nL 1825 4091 \nL 703 3866 \nL 703 4441 \nL 1819 4666 \nL 2450 4666 \nL 2450 531 \nL 3481 531 \nL 3481 0 \nL 794 0 \nL 794 531 \nz\n\" id=\"DejaVuSans-31\" transform=\"scale(0.015625)\"/>\n       </defs>\n       <use xlink:href=\"#DejaVuSans-2212\"/>\n       <use x=\"83.789062\" xlink:href=\"#DejaVuSans-31\"/>\n      </g>\n     </g>\n    </g>\n    <g id=\"xtick_3\">\n     <g id=\"line2d_3\">\n      <g>\n       <use style=\"stroke:#000000;stroke-width:0.8;\" x=\"197.042726\" xlink:href=\"#md6e87cb6c8\" y=\"224.64\"/>\n      </g>\n     </g>\n     <g id=\"text_3\">\n      <!-- 0 -->\n      <g transform=\"translate(193.861476 239.238437)scale(0.1 -0.1)\">\n       <defs>\n        <path d=\"M 2034 4250 \nQ 1547 4250 1301 3770 \nQ 1056 3291 1056 2328 \nQ 1056 1369 1301 889 \nQ 1547 409 2034 409 \nQ 2525 409 2770 889 \nQ 3016 1369 3016 2328 \nQ 3016 3291 2770 3770 \nQ 2525 4250 2034 4250 \nz\nM 2034 4750 \nQ 2819 4750 3233 4129 \nQ 3647 3509 3647 2328 \nQ 3647 1150 3233 529 \nQ 2819 -91 2034 -91 \nQ 1250 -91 836 529 \nQ 422 1150 422 2328 \nQ 422 3509 836 4129 \nQ 1250 4750 2034 4750 \nz\n\" id=\"DejaVuSans-30\" transform=\"scale(0.015625)\"/>\n       </defs>\n       <use xlink:href=\"#DejaVuSans-30\"/>\n      </g>\n     </g>\n    </g>\n    <g id=\"xtick_4\">\n     <g id=\"line2d_4\">\n      <g>\n       <use style=\"stroke:#000000;stroke-width:0.8;\" x=\"261.814728\" xlink:href=\"#md6e87cb6c8\" y=\"224.64\"/>\n      </g>\n     </g>\n     <g id=\"text_4\">\n      <!-- 1 -->\n      <g transform=\"translate(258.633478 239.238437)scale(0.1 -0.1)\">\n       <use xlink:href=\"#DejaVuSans-31\"/>\n      </g>\n     </g>\n    </g>\n    <g id=\"xtick_5\">\n     <g id=\"line2d_5\">\n      <g>\n       <use style=\"stroke:#000000;stroke-width:0.8;\" x=\"326.586729\" xlink:href=\"#md6e87cb6c8\" y=\"224.64\"/>\n      </g>\n     </g>\n     <g id=\"text_5\">\n      <!-- 2 -->\n      <g transform=\"translate(323.405479 239.238437)scale(0.1 -0.1)\">\n       <use xlink:href=\"#DejaVuSans-32\"/>\n      </g>\n     </g>\n    </g>\n   </g>\n   <g id=\"matplotlib.axis_2\">\n    <g id=\"ytick_1\">\n     <g id=\"line2d_6\">\n      <defs>\n       <path d=\"M 0 0 \nL -3.5 0 \n\" id=\"m57d841dcdb\" style=\"stroke:#000000;stroke-width:0.8;\"/>\n      </defs>\n      <g>\n       <use style=\"stroke:#000000;stroke-width:0.8;\" x=\"39.65\" xlink:href=\"#m57d841dcdb\" y=\"224.64\"/>\n      </g>\n     </g>\n     <g id=\"text_6\">\n      <!-- 0 -->\n      <g transform=\"translate(26.2875 228.439219)scale(0.1 -0.1)\">\n       <use xlink:href=\"#DejaVuSans-30\"/>\n      </g>\n     </g>\n    </g>\n    <g id=\"ytick_2\">\n     <g id=\"line2d_7\">\n      <g>\n       <use style=\"stroke:#000000;stroke-width:0.8;\" x=\"39.65\" xlink:href=\"#m57d841dcdb\" y=\"191.426573\"/>\n      </g>\n     </g>\n     <g id=\"text_7\">\n      <!-- 200 -->\n      <g transform=\"translate(13.5625 195.225792)scale(0.1 -0.1)\">\n       <use xlink:href=\"#DejaVuSans-32\"/>\n       <use x=\"63.623047\" xlink:href=\"#DejaVuSans-30\"/>\n       <use x=\"127.246094\" xlink:href=\"#DejaVuSans-30\"/>\n      </g>\n     </g>\n    </g>\n    <g id=\"ytick_3\">\n     <g id=\"line2d_8\">\n      <g>\n       <use style=\"stroke:#000000;stroke-width:0.8;\" x=\"39.65\" xlink:href=\"#m57d841dcdb\" y=\"158.213147\"/>\n      </g>\n     </g>\n     <g id=\"text_8\">\n      <!-- 400 -->\n      <g transform=\"translate(13.5625 162.012366)scale(0.1 -0.1)\">\n       <defs>\n        <path d=\"M 2419 4116 \nL 825 1625 \nL 2419 1625 \nL 2419 4116 \nz\nM 2253 4666 \nL 3047 4666 \nL 3047 1625 \nL 3713 1625 \nL 3713 1100 \nL 3047 1100 \nL 3047 0 \nL 2419 0 \nL 2419 1100 \nL 313 1100 \nL 313 1709 \nL 2253 4666 \nz\n\" id=\"DejaVuSans-34\" transform=\"scale(0.015625)\"/>\n       </defs>\n       <use xlink:href=\"#DejaVuSans-34\"/>\n       <use x=\"63.623047\" xlink:href=\"#DejaVuSans-30\"/>\n       <use x=\"127.246094\" xlink:href=\"#DejaVuSans-30\"/>\n      </g>\n     </g>\n    </g>\n    <g id=\"ytick_4\">\n     <g id=\"line2d_9\">\n      <g>\n       <use style=\"stroke:#000000;stroke-width:0.8;\" x=\"39.65\" xlink:href=\"#m57d841dcdb\" y=\"124.99972\"/>\n      </g>\n     </g>\n     <g id=\"text_9\">\n      <!-- 600 -->\n      <g transform=\"translate(13.5625 128.798939)scale(0.1 -0.1)\">\n       <defs>\n        <path d=\"M 2113 2584 \nQ 1688 2584 1439 2293 \nQ 1191 2003 1191 1497 \nQ 1191 994 1439 701 \nQ 1688 409 2113 409 \nQ 2538 409 2786 701 \nQ 3034 994 3034 1497 \nQ 3034 2003 2786 2293 \nQ 2538 2584 2113 2584 \nz\nM 3366 4563 \nL 3366 3988 \nQ 3128 4100 2886 4159 \nQ 2644 4219 2406 4219 \nQ 1781 4219 1451 3797 \nQ 1122 3375 1075 2522 \nQ 1259 2794 1537 2939 \nQ 1816 3084 2150 3084 \nQ 2853 3084 3261 2657 \nQ 3669 2231 3669 1497 \nQ 3669 778 3244 343 \nQ 2819 -91 2113 -91 \nQ 1303 -91 875 529 \nQ 447 1150 447 2328 \nQ 447 3434 972 4092 \nQ 1497 4750 2381 4750 \nQ 2619 4750 2861 4703 \nQ 3103 4656 3366 4563 \nz\n\" id=\"DejaVuSans-36\" transform=\"scale(0.015625)\"/>\n       </defs>\n       <use xlink:href=\"#DejaVuSans-36\"/>\n       <use x=\"63.623047\" xlink:href=\"#DejaVuSans-30\"/>\n       <use x=\"127.246094\" xlink:href=\"#DejaVuSans-30\"/>\n      </g>\n     </g>\n    </g>\n    <g id=\"ytick_5\">\n     <g id=\"line2d_10\">\n      <g>\n       <use style=\"stroke:#000000;stroke-width:0.8;\" x=\"39.65\" xlink:href=\"#m57d841dcdb\" y=\"91.786294\"/>\n      </g>\n     </g>\n     <g id=\"text_10\">\n      <!-- 800 -->\n      <g transform=\"translate(13.5625 95.585513)scale(0.1 -0.1)\">\n       <defs>\n        <path d=\"M 2034 2216 \nQ 1584 2216 1326 1975 \nQ 1069 1734 1069 1313 \nQ 1069 891 1326 650 \nQ 1584 409 2034 409 \nQ 2484 409 2743 651 \nQ 3003 894 3003 1313 \nQ 3003 1734 2745 1975 \nQ 2488 2216 2034 2216 \nz\nM 1403 2484 \nQ 997 2584 770 2862 \nQ 544 3141 544 3541 \nQ 544 4100 942 4425 \nQ 1341 4750 2034 4750 \nQ 2731 4750 3128 4425 \nQ 3525 4100 3525 3541 \nQ 3525 3141 3298 2862 \nQ 3072 2584 2669 2484 \nQ 3125 2378 3379 2068 \nQ 3634 1759 3634 1313 \nQ 3634 634 3220 271 \nQ 2806 -91 2034 -91 \nQ 1263 -91 848 271 \nQ 434 634 434 1313 \nQ 434 1759 690 2068 \nQ 947 2378 1403 2484 \nz\nM 1172 3481 \nQ 1172 3119 1398 2916 \nQ 1625 2713 2034 2713 \nQ 2441 2713 2670 2916 \nQ 2900 3119 2900 3481 \nQ 2900 3844 2670 4047 \nQ 2441 4250 2034 4250 \nQ 1625 4250 1398 4047 \nQ 1172 3844 1172 3481 \nz\n\" id=\"DejaVuSans-38\" transform=\"scale(0.015625)\"/>\n       </defs>\n       <use xlink:href=\"#DejaVuSans-38\"/>\n       <use x=\"63.623047\" xlink:href=\"#DejaVuSans-30\"/>\n       <use x=\"127.246094\" xlink:href=\"#DejaVuSans-30\"/>\n      </g>\n     </g>\n    </g>\n    <g id=\"ytick_6\">\n     <g id=\"line2d_11\">\n      <g>\n       <use style=\"stroke:#000000;stroke-width:0.8;\" x=\"39.65\" xlink:href=\"#m57d841dcdb\" y=\"58.572867\"/>\n      </g>\n     </g>\n     <g id=\"text_11\">\n      <!-- 1000 -->\n      <g transform=\"translate(7.2 62.372086)scale(0.1 -0.1)\">\n       <use xlink:href=\"#DejaVuSans-31\"/>\n       <use x=\"63.623047\" xlink:href=\"#DejaVuSans-30\"/>\n       <use x=\"127.246094\" xlink:href=\"#DejaVuSans-30\"/>\n       <use x=\"190.869141\" xlink:href=\"#DejaVuSans-30\"/>\n      </g>\n     </g>\n    </g>\n    <g id=\"ytick_7\">\n     <g id=\"line2d_12\">\n      <g>\n       <use style=\"stroke:#000000;stroke-width:0.8;\" x=\"39.65\" xlink:href=\"#m57d841dcdb\" y=\"25.359441\"/>\n      </g>\n     </g>\n     <g id=\"text_12\">\n      <!-- 1200 -->\n      <g transform=\"translate(7.2 29.15866)scale(0.1 -0.1)\">\n       <use xlink:href=\"#DejaVuSans-31\"/>\n       <use x=\"63.623047\" xlink:href=\"#DejaVuSans-32\"/>\n       <use x=\"127.246094\" xlink:href=\"#DejaVuSans-30\"/>\n       <use x=\"190.869141\" xlink:href=\"#DejaVuSans-30\"/>\n      </g>\n     </g>\n    </g>\n   </g>\n   <g id=\"patch_103\">\n    <path d=\"M 39.65 224.64 \nL 39.65 7.2 \n\" style=\"fill:none;stroke:#000000;stroke-linecap:square;stroke-linejoin:miter;stroke-width:0.8;\"/>\n   </g>\n   <g id=\"patch_104\">\n    <path d=\"M 374.45 224.64 \nL 374.45 7.2 \n\" style=\"fill:none;stroke:#000000;stroke-linecap:square;stroke-linejoin:miter;stroke-width:0.8;\"/>\n   </g>\n   <g id=\"patch_105\">\n    <path d=\"M 39.65 224.64 \nL 374.45 224.64 \n\" style=\"fill:none;stroke:#000000;stroke-linecap:square;stroke-linejoin:miter;stroke-width:0.8;\"/>\n   </g>\n   <g id=\"patch_106\">\n    <path d=\"M 39.65 7.2 \nL 374.45 7.2 \n\" style=\"fill:none;stroke:#000000;stroke-linecap:square;stroke-linejoin:miter;stroke-width:0.8;\"/>\n   </g>\n  </g>\n </g>\n <defs>\n  <clipPath id=\"pf6987e2bf5\">\n   <rect height=\"217.44\" width=\"334.8\" x=\"39.65\" y=\"7.2\"/>\n  </clipPath>\n </defs>\n</svg>\n",
      "image/png": "[encoded data removed]"
     },
     "metadata": {
      "needs_background": "light"
     }
    },
    {
     "output_type": "display_data",
     "data": {
      "text/plain": "<IPython.core.display.Javascript object>",
      "application/javascript": "\n            setTimeout(function() {\n                var nbb_cell_id = 82;\n                var nbb_unformatted_code = \"plt.hist(labtest_df['Cohen\\\\'s D'], bins=100)\\nplt.show()\";\n                var nbb_formatted_code = \"plt.hist(labtest_df[\\\"Cohen's D\\\"], bins=100)\\nplt.show()\";\n                var nbb_cells = Jupyter.notebook.get_cells();\n                for (var i = 0; i < nbb_cells.length; ++i) {\n                    if (nbb_cells[i].input_prompt_number == nbb_cell_id) {\n                        if (nbb_cells[i].get_text() == nbb_unformatted_code) {\n                             nbb_cells[i].set_text(nbb_formatted_code);\n                        }\n                        break;\n                    }\n                }\n            }, 500);\n            "
     },
     "metadata": {}
    }
   ],
   "source": [
    "plt.hist(labtest_df[\"Cohen's D\"], bins=100)\n",
    "plt.show()"
   ]
  },
  {
   "cell_type": "code",
   "execution_count": null,
   "metadata": {},
   "outputs": [],
   "source": []
  },
  {
   "cell_type": "code",
   "execution_count": 53,
   "metadata": {},
   "outputs": [
    {
     "output_type": "execute_result",
     "data": {
      "text/plain": [
       "Column Name                 5983\n",
       "Cohen's D Lab Test Score    1155\n",
       "Cohen's D                   1559\n",
       "Count (Cohort)              1123\n",
       "Min (Cohort)                2143\n",
       "Min (Column)                1718\n",
       "Max (Cohort)                4014\n",
       "Max (Column)                3975\n",
       "Mean (Cohort)               5244\n",
       "Mean (Column)               5585\n",
       "Std Dev (Cohort)            4720\n",
       "Std Dev (Column)            5312\n",
       "dtype: int64"
      ]
     },
     "metadata": {},
     "execution_count": 53
    },
    {
     "output_type": "display_data",
     "data": {
      "text/plain": "<IPython.core.display.Javascript object>",
      "application/javascript": "\n            setTimeout(function() {\n                var nbb_cell_id = 53;\n                var nbb_unformatted_code = \"labest_df.nunique()\";\n                var nbb_formatted_code = \"labest_df.nunique()\";\n                var nbb_cells = Jupyter.notebook.get_cells();\n                for (var i = 0; i < nbb_cells.length; ++i) {\n                    if (nbb_cells[i].input_prompt_number == nbb_cell_id) {\n                        if (nbb_cells[i].get_text() == nbb_unformatted_code) {\n                             nbb_cells[i].set_text(nbb_formatted_code);\n                        }\n                        break;\n                    }\n                }\n            }, 500);\n            "
     },
     "metadata": {}
    }
   ],
   "source": [
    "labtest_df.nunique()"
   ]
  },
  {
   "cell_type": "code",
   "execution_count": 54,
   "metadata": {},
   "outputs": [
    {
     "output_type": "execute_result",
     "data": {
      "text/plain": [
       "(5983, 12)"
      ]
     },
     "metadata": {},
     "execution_count": 54
    },
    {
     "output_type": "display_data",
     "data": {
      "text/plain": "<IPython.core.display.Javascript object>",
      "application/javascript": "\n            setTimeout(function() {\n                var nbb_cell_id = 54;\n                var nbb_unformatted_code = \"labest_df.shape\";\n                var nbb_formatted_code = \"labest_df.shape\";\n                var nbb_cells = Jupyter.notebook.get_cells();\n                for (var i = 0; i < nbb_cells.length; ++i) {\n                    if (nbb_cells[i].input_prompt_number == nbb_cell_id) {\n                        if (nbb_cells[i].get_text() == nbb_unformatted_code) {\n                             nbb_cells[i].set_text(nbb_formatted_code);\n                        }\n                        break;\n                    }\n                }\n            }, 500);\n            "
     },
     "metadata": {}
    }
   ],
   "source": [
    "labtest_df.shape"
   ]
  },
  {
   "source": [
    "### Get most significant diagnosis_code for the set of patients identified in case 2\n"
   ],
   "cell_type": "markdown",
   "metadata": {}
  },
  {
   "cell_type": "code",
   "execution_count": 83,
   "metadata": {},
   "outputs": [
    {
     "output_type": "error",
     "ename": "Exception",
     "evalue": "Failed to get supported columns. Error 200",
     "traceback": [
      "\u001b[0;31m---------------------------------------------------------------------------\u001b[0m",
      "\u001b[0;31mException\u001b[0m                                 Traceback (most recent call last)",
      "\u001b[0;32m<ipython-input-83-065b0676a722>\u001b[0m in \u001b[0;36m<module>\u001b[0;34m\u001b[0m\n\u001b[0;32m----> 1\u001b[0;31m \u001b[0mdiagnosis_df\u001b[0m \u001b[0;34m=\u001b[0m \u001b[0mcohort2\u001b[0m\u001b[0;34m.\u001b[0m\u001b[0mgetSignals\u001b[0m\u001b[0;34m(\u001b[0m\u001b[0mcohortProjector\u001b[0m\u001b[0;34m=\u001b[0m\u001b[0;34m'diagnosis_code'\u001b[0m\u001b[0;34m,\u001b[0m \u001b[0mcontrol\u001b[0m\u001b[0;34m=\u001b[0m\u001b[0;34m'neighborhood'\u001b[0m\u001b[0;34m,\u001b[0m \u001b[0mtopN\u001b[0m\u001b[0;34m=\u001b[0m\u001b[0;36m10\u001b[0m\u001b[0;34m)\u001b[0m\u001b[0;34m\u001b[0m\u001b[0;34m\u001b[0m\u001b[0m\n\u001b[0m\u001b[1;32m      2\u001b[0m \u001b[0mdiagnosis_df\u001b[0m\u001b[0;34m\u001b[0m\u001b[0;34m\u001b[0m\u001b[0m\n",
      "\u001b[0;32m~/opt/anaconda3/envs/sdk/lib/python3.8/site-packages/nferx_sdk/data_sources/hybridcohort_sdk.py\u001b[0m in \u001b[0;36mgetSignals\u001b[0;34m(self, cohortProjector, cohortSpecifier, timeLeft, timeRight, unit, control, sortby, negativePMI, topN)\u001b[0m\n\u001b[1;32m   2015\u001b[0m \u001b[0;34m\u001b[0m\u001b[0m\n\u001b[1;32m   2016\u001b[0m         \u001b[0mbody\u001b[0m\u001b[0;34m[\u001b[0m\u001b[0;34m'type'\u001b[0m\u001b[0;34m]\u001b[0m \u001b[0;34m=\u001b[0m \u001b[0;34m'structured'\u001b[0m\u001b[0;34m\u001b[0m\u001b[0;34m\u001b[0m\u001b[0m\n\u001b[0;32m-> 2017\u001b[0;31m         \u001b[0mres\u001b[0m \u001b[0;34m=\u001b[0m \u001b[0mself\u001b[0m\u001b[0;34m.\u001b[0m\u001b[0mrec_inst\u001b[0m\u001b[0;34m.\u001b[0m\u001b[0mcompute_signals\u001b[0m\u001b[0;34m(\u001b[0m\u001b[0mbody\u001b[0m\u001b[0;34m)\u001b[0m\u001b[0;34m[\u001b[0m\u001b[0;34m'result'\u001b[0m\u001b[0;34m]\u001b[0m\u001b[0;34m[\u001b[0m\u001b[0;34m'signals'\u001b[0m\u001b[0;34m]\u001b[0m\u001b[0;34m[\u001b[0m\u001b[0;36m0\u001b[0m\u001b[0;34m]\u001b[0m\u001b[0;34m[\u001b[0m\u001b[0;34m'signals'\u001b[0m\u001b[0;34m]\u001b[0m\u001b[0;34m\u001b[0m\u001b[0;34m\u001b[0m\u001b[0m\n\u001b[0m\u001b[1;32m   2018\u001b[0m \u001b[0;34m\u001b[0m\u001b[0m\n\u001b[1;32m   2019\u001b[0m         \u001b[0;32mif\u001b[0m \u001b[0mres\u001b[0m \u001b[0;32mis\u001b[0m \u001b[0;32mNone\u001b[0m\u001b[0;34m:\u001b[0m\u001b[0;34m\u001b[0m\u001b[0;34m\u001b[0m\u001b[0m\n",
      "\u001b[0;32m~/opt/anaconda3/envs/sdk/lib/python3.8/site-packages/nferx_sdk/backend/records_api.py\u001b[0m in \u001b[0;36mcompute_signals\u001b[0;34m(self, body)\u001b[0m\n\u001b[1;32m    191\u001b[0m             \u001b[0;32mif\u001b[0m \u001b[0mdata\u001b[0m\u001b[0;34m[\u001b[0m\u001b[0;34m\"success\"\u001b[0m\u001b[0;34m]\u001b[0m \u001b[0;32mis\u001b[0m \u001b[0;32mTrue\u001b[0m\u001b[0;34m:\u001b[0m\u001b[0;34m\u001b[0m\u001b[0;34m\u001b[0m\u001b[0m\n\u001b[1;32m    192\u001b[0m                 \u001b[0;32mreturn\u001b[0m \u001b[0mdata\u001b[0m\u001b[0;34m\u001b[0m\u001b[0;34m\u001b[0m\u001b[0m\n\u001b[0;32m--> 193\u001b[0;31m         raise Exception('Failed to get supported columns. Error {}'.format(\n\u001b[0m\u001b[1;32m    194\u001b[0m             r.status_code))\n\u001b[1;32m    195\u001b[0m \u001b[0;34m\u001b[0m\u001b[0m\n",
      "\u001b[0;31mException\u001b[0m: Failed to get supported columns. Error 200"
     ]
    }
   ],
   "source": [
    "diagnosis_df = cohort2.getSignals(\n",
    "    cohortProjector=\"diagnosis_code\", control=\"neighborhood\", topN=10\n",
    ")\n",
    "diagnosis_df"
   ]
  },
  {
   "cell_type": "code",
   "execution_count": null,
   "metadata": {},
   "outputs": [],
   "source": []
  }
 ]
}
